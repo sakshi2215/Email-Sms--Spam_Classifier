{
 "cells": [
  {
   "cell_type": "code",
   "execution_count": 1,
   "id": "9b6be309",
   "metadata": {
    "_cell_guid": "b1076dfc-b9ad-4769-8c92-a6c4dae69d19",
    "_uuid": "8f2839f25d086af736a60e9eeb907d3b93b6e0e5",
    "execution": {
     "iopub.execute_input": "2024-05-16T12:45:59.644669Z",
     "iopub.status.busy": "2024-05-16T12:45:59.643533Z",
     "iopub.status.idle": "2024-05-16T12:46:00.670505Z",
     "shell.execute_reply": "2024-05-16T12:46:00.669100Z"
    },
    "papermill": {
     "duration": 1.061424,
     "end_time": "2024-05-16T12:46:00.673999",
     "exception": false,
     "start_time": "2024-05-16T12:45:59.612575",
     "status": "completed"
    },
    "tags": []
   },
   "outputs": [
    {
     "name": "stdout",
     "output_type": "stream",
     "text": [
      "/kaggle/input/sms-spam-collection-dataset/spam.csv\n"
     ]
    }
   ],
   "source": [
    "# This Python 3 environment comes with many helpful analytics libraries installed\n",
    "# It is defined by the kaggle/python Docker image: https://github.com/kaggle/docker-python\n",
    "# For example, here's several helpful packages to load\n",
    "\n",
    "import numpy as np # linear algebra\n",
    "import pandas as pd # data processing, CSV file I/O (e.g. pd.read_csv)\n",
    "\n",
    "# Input data files are available in the read-only \"../input/\" directory\n",
    "# For example, running this (by clicking run or pressing Shift+Enter) will list all files under the input directory\n",
    "\n",
    "import os\n",
    "for dirname, _, filenames in os.walk('/kaggle/input'):\n",
    "    for filename in filenames:\n",
    "        print(os.path.join(dirname, filename))\n",
    "\n",
    "# You can write up to 20GB to the current directory (/kaggle/working/) that gets preserved as output when you create a version using \"Save & Run All\" \n",
    "# You can also write temporary files to /kaggle/temp/, but they won't be saved outside of the current session"
   ]
  },
  {
   "cell_type": "code",
   "execution_count": 2,
   "id": "7cee5e07",
   "metadata": {
    "execution": {
     "iopub.execute_input": "2024-05-16T12:46:00.731117Z",
     "iopub.status.busy": "2024-05-16T12:46:00.730461Z",
     "iopub.status.idle": "2024-05-16T12:46:00.772912Z",
     "shell.execute_reply": "2024-05-16T12:46:00.771431Z"
    },
    "papermill": {
     "duration": 0.075738,
     "end_time": "2024-05-16T12:46:00.775549",
     "exception": false,
     "start_time": "2024-05-16T12:46:00.699811",
     "status": "completed"
    },
    "tags": []
   },
   "outputs": [],
   "source": [
    "df = pd.read_csv('/kaggle/input/sms-spam-collection-dataset/spam.csv',  encoding ='latin1')"
   ]
  },
  {
   "cell_type": "code",
   "execution_count": 3,
   "id": "1f0a82ab",
   "metadata": {
    "execution": {
     "iopub.execute_input": "2024-05-16T12:46:00.828879Z",
     "iopub.status.busy": "2024-05-16T12:46:00.828187Z",
     "iopub.status.idle": "2024-05-16T12:46:00.862306Z",
     "shell.execute_reply": "2024-05-16T12:46:00.860951Z"
    },
    "papermill": {
     "duration": 0.062896,
     "end_time": "2024-05-16T12:46:00.864720",
     "exception": false,
     "start_time": "2024-05-16T12:46:00.801824",
     "status": "completed"
    },
    "tags": []
   },
   "outputs": [
    {
     "name": "stdout",
     "output_type": "stream",
     "text": [
      "<class 'pandas.core.frame.DataFrame'>\n",
      "RangeIndex: 5572 entries, 0 to 5571\n",
      "Data columns (total 5 columns):\n",
      " #   Column      Non-Null Count  Dtype \n",
      "---  ------      --------------  ----- \n",
      " 0   v1          5572 non-null   object\n",
      " 1   v2          5572 non-null   object\n",
      " 2   Unnamed: 2  50 non-null     object\n",
      " 3   Unnamed: 3  12 non-null     object\n",
      " 4   Unnamed: 4  6 non-null      object\n",
      "dtypes: object(5)\n",
      "memory usage: 217.8+ KB\n"
     ]
    }
   ],
   "source": [
    "df.info()"
   ]
  },
  {
   "cell_type": "code",
   "execution_count": 4,
   "id": "82f9bbbb",
   "metadata": {
    "execution": {
     "iopub.execute_input": "2024-05-16T12:46:00.919085Z",
     "iopub.status.busy": "2024-05-16T12:46:00.918335Z",
     "iopub.status.idle": "2024-05-16T12:46:00.938103Z",
     "shell.execute_reply": "2024-05-16T12:46:00.936389Z"
    },
    "papermill": {
     "duration": 0.049692,
     "end_time": "2024-05-16T12:46:00.941423",
     "exception": false,
     "start_time": "2024-05-16T12:46:00.891731",
     "status": "completed"
    },
    "tags": []
   },
   "outputs": [
    {
     "data": {
      "text/html": [
       "<div>\n",
       "<style scoped>\n",
       "    .dataframe tbody tr th:only-of-type {\n",
       "        vertical-align: middle;\n",
       "    }\n",
       "\n",
       "    .dataframe tbody tr th {\n",
       "        vertical-align: top;\n",
       "    }\n",
       "\n",
       "    .dataframe thead th {\n",
       "        text-align: right;\n",
       "    }\n",
       "</style>\n",
       "<table border=\"1\" class=\"dataframe\">\n",
       "  <thead>\n",
       "    <tr style=\"text-align: right;\">\n",
       "      <th></th>\n",
       "      <th>v1</th>\n",
       "      <th>v2</th>\n",
       "      <th>Unnamed: 2</th>\n",
       "      <th>Unnamed: 3</th>\n",
       "      <th>Unnamed: 4</th>\n",
       "    </tr>\n",
       "  </thead>\n",
       "  <tbody>\n",
       "    <tr>\n",
       "      <th>0</th>\n",
       "      <td>ham</td>\n",
       "      <td>Go until jurong point, crazy.. Available only ...</td>\n",
       "      <td>NaN</td>\n",
       "      <td>NaN</td>\n",
       "      <td>NaN</td>\n",
       "    </tr>\n",
       "    <tr>\n",
       "      <th>1</th>\n",
       "      <td>ham</td>\n",
       "      <td>Ok lar... Joking wif u oni...</td>\n",
       "      <td>NaN</td>\n",
       "      <td>NaN</td>\n",
       "      <td>NaN</td>\n",
       "    </tr>\n",
       "    <tr>\n",
       "      <th>2</th>\n",
       "      <td>spam</td>\n",
       "      <td>Free entry in 2 a wkly comp to win FA Cup fina...</td>\n",
       "      <td>NaN</td>\n",
       "      <td>NaN</td>\n",
       "      <td>NaN</td>\n",
       "    </tr>\n",
       "    <tr>\n",
       "      <th>3</th>\n",
       "      <td>ham</td>\n",
       "      <td>U dun say so early hor... U c already then say...</td>\n",
       "      <td>NaN</td>\n",
       "      <td>NaN</td>\n",
       "      <td>NaN</td>\n",
       "    </tr>\n",
       "    <tr>\n",
       "      <th>4</th>\n",
       "      <td>ham</td>\n",
       "      <td>Nah I don't think he goes to usf, he lives aro...</td>\n",
       "      <td>NaN</td>\n",
       "      <td>NaN</td>\n",
       "      <td>NaN</td>\n",
       "    </tr>\n",
       "  </tbody>\n",
       "</table>\n",
       "</div>"
      ],
      "text/plain": [
       "     v1                                                 v2 Unnamed: 2  \\\n",
       "0   ham  Go until jurong point, crazy.. Available only ...        NaN   \n",
       "1   ham                      Ok lar... Joking wif u oni...        NaN   \n",
       "2  spam  Free entry in 2 a wkly comp to win FA Cup fina...        NaN   \n",
       "3   ham  U dun say so early hor... U c already then say...        NaN   \n",
       "4   ham  Nah I don't think he goes to usf, he lives aro...        NaN   \n",
       "\n",
       "  Unnamed: 3 Unnamed: 4  \n",
       "0        NaN        NaN  \n",
       "1        NaN        NaN  \n",
       "2        NaN        NaN  \n",
       "3        NaN        NaN  \n",
       "4        NaN        NaN  "
      ]
     },
     "execution_count": 4,
     "metadata": {},
     "output_type": "execute_result"
    }
   ],
   "source": [
    "df.head()"
   ]
  },
  {
   "cell_type": "markdown",
   "id": "3b71c10b",
   "metadata": {
    "papermill": {
     "duration": 0.025848,
     "end_time": "2024-05-16T12:46:00.993723",
     "exception": false,
     "start_time": "2024-05-16T12:46:00.967875",
     "status": "completed"
    },
    "tags": []
   },
   "source": [
    "**What we will be doing**\n",
    "* Data Cleaning\n",
    "* EDA\n",
    "* Text Processing\n",
    "* Model Building\n",
    "* Evaluation\n",
    "* Improvement\n",
    "* Website\n",
    "* Deployment"
   ]
  },
  {
   "cell_type": "markdown",
   "id": "d9f48949",
   "metadata": {
    "papermill": {
     "duration": 0.024735,
     "end_time": "2024-05-16T12:46:01.045237",
     "exception": false,
     "start_time": "2024-05-16T12:46:01.020502",
     "status": "completed"
    },
    "tags": []
   },
   "source": [
    "# DATA CLEANING"
   ]
  },
  {
   "cell_type": "code",
   "execution_count": 5,
   "id": "cb3cc7ba",
   "metadata": {
    "execution": {
     "iopub.execute_input": "2024-05-16T12:46:01.096319Z",
     "iopub.status.busy": "2024-05-16T12:46:01.095964Z",
     "iopub.status.idle": "2024-05-16T12:46:01.106218Z",
     "shell.execute_reply": "2024-05-16T12:46:01.105241Z"
    },
    "papermill": {
     "duration": 0.038935,
     "end_time": "2024-05-16T12:46:01.108838",
     "exception": false,
     "start_time": "2024-05-16T12:46:01.069903",
     "status": "completed"
    },
    "tags": []
   },
   "outputs": [],
   "source": [
    "#Dropping last three columns\n",
    "df.drop(columns=['Unnamed: 2', 'Unnamed: 3','Unnamed: 4'], inplace = True)"
   ]
  },
  {
   "cell_type": "code",
   "execution_count": 6,
   "id": "6f218626",
   "metadata": {
    "execution": {
     "iopub.execute_input": "2024-05-16T12:46:01.161811Z",
     "iopub.status.busy": "2024-05-16T12:46:01.161389Z",
     "iopub.status.idle": "2024-05-16T12:46:01.167552Z",
     "shell.execute_reply": "2024-05-16T12:46:01.166171Z"
    },
    "papermill": {
     "duration": 0.036334,
     "end_time": "2024-05-16T12:46:01.170199",
     "exception": false,
     "start_time": "2024-05-16T12:46:01.133865",
     "status": "completed"
    },
    "tags": []
   },
   "outputs": [],
   "source": [
    "df.rename(columns={'v1':'target', 'v2':'text'}, inplace= True)"
   ]
  },
  {
   "cell_type": "code",
   "execution_count": 7,
   "id": "3f284325",
   "metadata": {
    "execution": {
     "iopub.execute_input": "2024-05-16T12:46:01.222468Z",
     "iopub.status.busy": "2024-05-16T12:46:01.222095Z",
     "iopub.status.idle": "2024-05-16T12:46:01.233655Z",
     "shell.execute_reply": "2024-05-16T12:46:01.232450Z"
    },
    "papermill": {
     "duration": 0.040541,
     "end_time": "2024-05-16T12:46:01.235854",
     "exception": false,
     "start_time": "2024-05-16T12:46:01.195313",
     "status": "completed"
    },
    "tags": []
   },
   "outputs": [
    {
     "data": {
      "text/html": [
       "<div>\n",
       "<style scoped>\n",
       "    .dataframe tbody tr th:only-of-type {\n",
       "        vertical-align: middle;\n",
       "    }\n",
       "\n",
       "    .dataframe tbody tr th {\n",
       "        vertical-align: top;\n",
       "    }\n",
       "\n",
       "    .dataframe thead th {\n",
       "        text-align: right;\n",
       "    }\n",
       "</style>\n",
       "<table border=\"1\" class=\"dataframe\">\n",
       "  <thead>\n",
       "    <tr style=\"text-align: right;\">\n",
       "      <th></th>\n",
       "      <th>target</th>\n",
       "      <th>text</th>\n",
       "    </tr>\n",
       "  </thead>\n",
       "  <tbody>\n",
       "    <tr>\n",
       "      <th>0</th>\n",
       "      <td>ham</td>\n",
       "      <td>Go until jurong point, crazy.. Available only ...</td>\n",
       "    </tr>\n",
       "    <tr>\n",
       "      <th>1</th>\n",
       "      <td>ham</td>\n",
       "      <td>Ok lar... Joking wif u oni...</td>\n",
       "    </tr>\n",
       "    <tr>\n",
       "      <th>2</th>\n",
       "      <td>spam</td>\n",
       "      <td>Free entry in 2 a wkly comp to win FA Cup fina...</td>\n",
       "    </tr>\n",
       "    <tr>\n",
       "      <th>3</th>\n",
       "      <td>ham</td>\n",
       "      <td>U dun say so early hor... U c already then say...</td>\n",
       "    </tr>\n",
       "    <tr>\n",
       "      <th>4</th>\n",
       "      <td>ham</td>\n",
       "      <td>Nah I don't think he goes to usf, he lives aro...</td>\n",
       "    </tr>\n",
       "  </tbody>\n",
       "</table>\n",
       "</div>"
      ],
      "text/plain": [
       "  target                                               text\n",
       "0    ham  Go until jurong point, crazy.. Available only ...\n",
       "1    ham                      Ok lar... Joking wif u oni...\n",
       "2   spam  Free entry in 2 a wkly comp to win FA Cup fina...\n",
       "3    ham  U dun say so early hor... U c already then say...\n",
       "4    ham  Nah I don't think he goes to usf, he lives aro..."
      ]
     },
     "execution_count": 7,
     "metadata": {},
     "output_type": "execute_result"
    }
   ],
   "source": [
    "df.head()"
   ]
  },
  {
   "cell_type": "code",
   "execution_count": 8,
   "id": "b5a61bca",
   "metadata": {
    "execution": {
     "iopub.execute_input": "2024-05-16T12:46:01.348897Z",
     "iopub.status.busy": "2024-05-16T12:46:01.348520Z",
     "iopub.status.idle": "2024-05-16T12:46:01.357629Z",
     "shell.execute_reply": "2024-05-16T12:46:01.356438Z"
    },
    "papermill": {
     "duration": 0.039918,
     "end_time": "2024-05-16T12:46:01.359990",
     "exception": false,
     "start_time": "2024-05-16T12:46:01.320072",
     "status": "completed"
    },
    "tags": []
   },
   "outputs": [
    {
     "data": {
      "text/plain": [
       "target\n",
       "ham     4825\n",
       "spam     747\n",
       "Name: count, dtype: int64"
      ]
     },
     "execution_count": 8,
     "metadata": {},
     "output_type": "execute_result"
    }
   ],
   "source": [
    "df.target.value_counts()"
   ]
  },
  {
   "cell_type": "code",
   "execution_count": 9,
   "id": "e5b75d12",
   "metadata": {
    "execution": {
     "iopub.execute_input": "2024-05-16T12:46:01.412984Z",
     "iopub.status.busy": "2024-05-16T12:46:01.412630Z",
     "iopub.status.idle": "2024-05-16T12:46:02.737608Z",
     "shell.execute_reply": "2024-05-16T12:46:02.736366Z"
    },
    "papermill": {
     "duration": 1.356203,
     "end_time": "2024-05-16T12:46:02.741186",
     "exception": false,
     "start_time": "2024-05-16T12:46:01.384983",
     "status": "completed"
    },
    "tags": []
   },
   "outputs": [],
   "source": [
    "from sklearn.preprocessing import LabelEncoder\n",
    "label_encoder = LabelEncoder() \n",
    "df['target'] = label_encoder.fit_transform(df['target'])\n"
   ]
  },
  {
   "cell_type": "code",
   "execution_count": 10,
   "id": "26b009c7",
   "metadata": {
    "execution": {
     "iopub.execute_input": "2024-05-16T12:46:02.796118Z",
     "iopub.status.busy": "2024-05-16T12:46:02.795492Z",
     "iopub.status.idle": "2024-05-16T12:46:02.806727Z",
     "shell.execute_reply": "2024-05-16T12:46:02.805535Z"
    },
    "papermill": {
     "duration": 0.041523,
     "end_time": "2024-05-16T12:46:02.809260",
     "exception": false,
     "start_time": "2024-05-16T12:46:02.767737",
     "status": "completed"
    },
    "tags": []
   },
   "outputs": [
    {
     "data": {
      "text/plain": [
       "target\n",
       "0    4825\n",
       "1     747\n",
       "Name: count, dtype: int64"
      ]
     },
     "execution_count": 10,
     "metadata": {},
     "output_type": "execute_result"
    }
   ],
   "source": [
    "df.target.value_counts()"
   ]
  },
  {
   "cell_type": "code",
   "execution_count": 11,
   "id": "8b9e824b",
   "metadata": {
    "execution": {
     "iopub.execute_input": "2024-05-16T12:46:02.870315Z",
     "iopub.status.busy": "2024-05-16T12:46:02.869653Z",
     "iopub.status.idle": "2024-05-16T12:46:02.878307Z",
     "shell.execute_reply": "2024-05-16T12:46:02.877051Z"
    },
    "papermill": {
     "duration": 0.043602,
     "end_time": "2024-05-16T12:46:02.881511",
     "exception": false,
     "start_time": "2024-05-16T12:46:02.837909",
     "status": "completed"
    },
    "tags": []
   },
   "outputs": [
    {
     "data": {
      "text/plain": [
       "target    0\n",
       "text      0\n",
       "dtype: int64"
      ]
     },
     "execution_count": 11,
     "metadata": {},
     "output_type": "execute_result"
    }
   ],
   "source": [
    "df.isnull().sum()"
   ]
  },
  {
   "cell_type": "code",
   "execution_count": 12,
   "id": "ed9c5332",
   "metadata": {
    "execution": {
     "iopub.execute_input": "2024-05-16T12:46:02.941877Z",
     "iopub.status.busy": "2024-05-16T12:46:02.940876Z",
     "iopub.status.idle": "2024-05-16T12:46:02.953112Z",
     "shell.execute_reply": "2024-05-16T12:46:02.951757Z"
    },
    "papermill": {
     "duration": 0.044303,
     "end_time": "2024-05-16T12:46:02.955440",
     "exception": false,
     "start_time": "2024-05-16T12:46:02.911137",
     "status": "completed"
    },
    "tags": []
   },
   "outputs": [
    {
     "data": {
      "text/plain": [
       "403"
      ]
     },
     "execution_count": 12,
     "metadata": {},
     "output_type": "execute_result"
    }
   ],
   "source": [
    "df.duplicated().sum()"
   ]
  },
  {
   "cell_type": "code",
   "execution_count": 13,
   "id": "db56ac39",
   "metadata": {
    "execution": {
     "iopub.execute_input": "2024-05-16T12:46:03.013752Z",
     "iopub.status.busy": "2024-05-16T12:46:03.012990Z",
     "iopub.status.idle": "2024-05-16T12:46:03.025731Z",
     "shell.execute_reply": "2024-05-16T12:46:03.023942Z"
    },
    "papermill": {
     "duration": 0.045439,
     "end_time": "2024-05-16T12:46:03.028690",
     "exception": false,
     "start_time": "2024-05-16T12:46:02.983251",
     "status": "completed"
    },
    "tags": []
   },
   "outputs": [],
   "source": [
    "#Remove Duplicates\n",
    "df.drop_duplicates(keep='first',inplace=True)"
   ]
  },
  {
   "cell_type": "code",
   "execution_count": 14,
   "id": "10f7a8ee",
   "metadata": {
    "execution": {
     "iopub.execute_input": "2024-05-16T12:46:03.087625Z",
     "iopub.status.busy": "2024-05-16T12:46:03.087157Z",
     "iopub.status.idle": "2024-05-16T12:46:03.093188Z",
     "shell.execute_reply": "2024-05-16T12:46:03.092292Z"
    },
    "papermill": {
     "duration": 0.039151,
     "end_time": "2024-05-16T12:46:03.095521",
     "exception": false,
     "start_time": "2024-05-16T12:46:03.056370",
     "status": "completed"
    },
    "tags": []
   },
   "outputs": [
    {
     "data": {
      "text/plain": [
       "(5169, 2)"
      ]
     },
     "execution_count": 14,
     "metadata": {},
     "output_type": "execute_result"
    }
   ],
   "source": [
    "df.shape"
   ]
  },
  {
   "cell_type": "markdown",
   "id": "bb0c5653",
   "metadata": {
    "papermill": {
     "duration": 0.026881,
     "end_time": "2024-05-16T12:46:03.149768",
     "exception": false,
     "start_time": "2024-05-16T12:46:03.122887",
     "status": "completed"
    },
    "tags": []
   },
   "source": [
    "# EDA"
   ]
  },
  {
   "cell_type": "code",
   "execution_count": 15,
   "id": "792b3bfb",
   "metadata": {
    "execution": {
     "iopub.execute_input": "2024-05-16T12:46:03.207916Z",
     "iopub.status.busy": "2024-05-16T12:46:03.207529Z",
     "iopub.status.idle": "2024-05-16T12:46:03.214903Z",
     "shell.execute_reply": "2024-05-16T12:46:03.213855Z"
    },
    "papermill": {
     "duration": 0.039755,
     "end_time": "2024-05-16T12:46:03.217209",
     "exception": false,
     "start_time": "2024-05-16T12:46:03.177454",
     "status": "completed"
    },
    "tags": []
   },
   "outputs": [
    {
     "data": {
      "text/plain": [
       "target\n",
       "0    4516\n",
       "1     653\n",
       "Name: count, dtype: int64"
      ]
     },
     "execution_count": 15,
     "metadata": {},
     "output_type": "execute_result"
    }
   ],
   "source": [
    "df.target.value_counts()"
   ]
  },
  {
   "cell_type": "code",
   "execution_count": 16,
   "id": "479b3879",
   "metadata": {
    "execution": {
     "iopub.execute_input": "2024-05-16T12:46:03.273235Z",
     "iopub.status.busy": "2024-05-16T12:46:03.272859Z",
     "iopub.status.idle": "2024-05-16T12:46:03.457052Z",
     "shell.execute_reply": "2024-05-16T12:46:03.455781Z"
    },
    "papermill": {
     "duration": 0.217025,
     "end_time": "2024-05-16T12:46:03.462081",
     "exception": false,
     "start_time": "2024-05-16T12:46:03.245056",
     "status": "completed"
    },
    "tags": []
   },
   "outputs": [
    {
     "data": {
      "text/plain": [
       "([<matplotlib.patches.Wedge at 0x7b0c6ba9d5d0>,\n",
       "  <matplotlib.patches.Wedge at 0x7b0c6ba9d4e0>],\n",
       " [Text(-1.0144997251399075, 0.42519443516002464, 'ham'),\n",
       "  Text(1.014499764949479, -0.4251943401757036, 'spam')],\n",
       " [Text(-0.5533634864399495, 0.23192423736001339, '87.37'),\n",
       "  Text(0.5533635081542612, -0.23192418555038377, '12.63')])"
      ]
     },
     "execution_count": 16,
     "metadata": {},
     "output_type": "execute_result"
    },
    {
     "data": {
      "image/png": "[encoded data removed]",
      "text/plain": [
       "<Figure size 640x480 with 1 Axes>"
      ]
     },
     "metadata": {},
     "output_type": "display_data"
    }
   ],
   "source": [
    "import matplotlib.pyplot as plt\n",
    "plt.pie(df.target.value_counts(), labels=['ham','spam'], autopct='%0.2f')"
   ]
  },
  {
   "cell_type": "markdown",
   "id": "f903db79",
   "metadata": {
    "papermill": {
     "duration": 0.031401,
     "end_time": "2024-05-16T12:46:03.542430",
     "exception": false,
     "start_time": "2024-05-16T12:46:03.511029",
     "status": "completed"
    },
    "tags": []
   },
   "source": [
    "**Imabalnced Dataset**"
   ]
  },
  {
   "cell_type": "code",
   "execution_count": 17,
   "id": "61bfd9f6",
   "metadata": {
    "execution": {
     "iopub.execute_input": "2024-05-16T12:46:03.603760Z",
     "iopub.status.busy": "2024-05-16T12:46:03.602700Z",
     "iopub.status.idle": "2024-05-16T12:46:04.521529Z",
     "shell.execute_reply": "2024-05-16T12:46:04.520004Z"
    },
    "papermill": {
     "duration": 0.95348,
     "end_time": "2024-05-16T12:46:04.524142",
     "exception": false,
     "start_time": "2024-05-16T12:46:03.570662",
     "status": "completed"
    },
    "tags": []
   },
   "outputs": [],
   "source": [
    "import nltk\n"
   ]
  },
  {
   "cell_type": "code",
   "execution_count": 18,
   "id": "08356f6a",
   "metadata": {
    "execution": {
     "iopub.execute_input": "2024-05-16T12:46:04.578756Z",
     "iopub.status.busy": "2024-05-16T12:46:04.578352Z",
     "iopub.status.idle": "2024-05-16T12:46:04.586422Z",
     "shell.execute_reply": "2024-05-16T12:46:04.585377Z"
    },
    "papermill": {
     "duration": 0.038242,
     "end_time": "2024-05-16T12:46:04.589003",
     "exception": false,
     "start_time": "2024-05-16T12:46:04.550761",
     "status": "completed"
    },
    "tags": []
   },
   "outputs": [],
   "source": [
    "df['num_alphabets']= df.text.apply(len)"
   ]
  },
  {
   "cell_type": "code",
   "execution_count": 19,
   "id": "19323771",
   "metadata": {
    "execution": {
     "iopub.execute_input": "2024-05-16T12:46:04.646652Z",
     "iopub.status.busy": "2024-05-16T12:46:04.645500Z",
     "iopub.status.idle": "2024-05-16T12:46:04.658519Z",
     "shell.execute_reply": "2024-05-16T12:46:04.656972Z"
    },
    "papermill": {
     "duration": 0.045104,
     "end_time": "2024-05-16T12:46:04.661178",
     "exception": false,
     "start_time": "2024-05-16T12:46:04.616074",
     "status": "completed"
    },
    "tags": []
   },
   "outputs": [
    {
     "data": {
      "text/html": [
       "<div>\n",
       "<style scoped>\n",
       "    .dataframe tbody tr th:only-of-type {\n",
       "        vertical-align: middle;\n",
       "    }\n",
       "\n",
       "    .dataframe tbody tr th {\n",
       "        vertical-align: top;\n",
       "    }\n",
       "\n",
       "    .dataframe thead th {\n",
       "        text-align: right;\n",
       "    }\n",
       "</style>\n",
       "<table border=\"1\" class=\"dataframe\">\n",
       "  <thead>\n",
       "    <tr style=\"text-align: right;\">\n",
       "      <th></th>\n",
       "      <th>target</th>\n",
       "      <th>text</th>\n",
       "      <th>num_alphabets</th>\n",
       "    </tr>\n",
       "  </thead>\n",
       "  <tbody>\n",
       "    <tr>\n",
       "      <th>0</th>\n",
       "      <td>0</td>\n",
       "      <td>Go until jurong point, crazy.. Available only ...</td>\n",
       "      <td>111</td>\n",
       "    </tr>\n",
       "    <tr>\n",
       "      <th>1</th>\n",
       "      <td>0</td>\n",
       "      <td>Ok lar... Joking wif u oni...</td>\n",
       "      <td>29</td>\n",
       "    </tr>\n",
       "    <tr>\n",
       "      <th>2</th>\n",
       "      <td>1</td>\n",
       "      <td>Free entry in 2 a wkly comp to win FA Cup fina...</td>\n",
       "      <td>155</td>\n",
       "    </tr>\n",
       "    <tr>\n",
       "      <th>3</th>\n",
       "      <td>0</td>\n",
       "      <td>U dun say so early hor... U c already then say...</td>\n",
       "      <td>49</td>\n",
       "    </tr>\n",
       "    <tr>\n",
       "      <th>4</th>\n",
       "      <td>0</td>\n",
       "      <td>Nah I don't think he goes to usf, he lives aro...</td>\n",
       "      <td>61</td>\n",
       "    </tr>\n",
       "  </tbody>\n",
       "</table>\n",
       "</div>"
      ],
      "text/plain": [
       "   target                                               text  num_alphabets\n",
       "0       0  Go until jurong point, crazy.. Available only ...            111\n",
       "1       0                      Ok lar... Joking wif u oni...             29\n",
       "2       1  Free entry in 2 a wkly comp to win FA Cup fina...            155\n",
       "3       0  U dun say so early hor... U c already then say...             49\n",
       "4       0  Nah I don't think he goes to usf, he lives aro...             61"
      ]
     },
     "execution_count": 19,
     "metadata": {},
     "output_type": "execute_result"
    }
   ],
   "source": [
    "df.head()"
   ]
  },
  {
   "cell_type": "code",
   "execution_count": 20,
   "id": "2bbfabb6",
   "metadata": {
    "execution": {
     "iopub.execute_input": "2024-05-16T12:46:04.718680Z",
     "iopub.status.busy": "2024-05-16T12:46:04.718267Z",
     "iopub.status.idle": "2024-05-16T12:46:06.005311Z",
     "shell.execute_reply": "2024-05-16T12:46:06.004118Z"
    },
    "papermill": {
     "duration": 1.318582,
     "end_time": "2024-05-16T12:46:06.008296",
     "exception": false,
     "start_time": "2024-05-16T12:46:04.689714",
     "status": "completed"
    },
    "tags": []
   },
   "outputs": [],
   "source": [
    "#Word Analysis\n",
    "df['word_counts'] = df.text.apply(lambda x: len(nltk.word_tokenize(x)))"
   ]
  },
  {
   "cell_type": "code",
   "execution_count": 21,
   "id": "83b2eb40",
   "metadata": {
    "execution": {
     "iopub.execute_input": "2024-05-16T12:46:06.065414Z",
     "iopub.status.busy": "2024-05-16T12:46:06.065032Z",
     "iopub.status.idle": "2024-05-16T12:46:06.074785Z",
     "shell.execute_reply": "2024-05-16T12:46:06.073803Z"
    },
    "papermill": {
     "duration": 0.041194,
     "end_time": "2024-05-16T12:46:06.076987",
     "exception": false,
     "start_time": "2024-05-16T12:46:06.035793",
     "status": "completed"
    },
    "tags": []
   },
   "outputs": [
    {
     "data": {
      "text/html": [
       "<div>\n",
       "<style scoped>\n",
       "    .dataframe tbody tr th:only-of-type {\n",
       "        vertical-align: middle;\n",
       "    }\n",
       "\n",
       "    .dataframe tbody tr th {\n",
       "        vertical-align: top;\n",
       "    }\n",
       "\n",
       "    .dataframe thead th {\n",
       "        text-align: right;\n",
       "    }\n",
       "</style>\n",
       "<table border=\"1\" class=\"dataframe\">\n",
       "  <thead>\n",
       "    <tr style=\"text-align: right;\">\n",
       "      <th></th>\n",
       "      <th>target</th>\n",
       "      <th>text</th>\n",
       "      <th>num_alphabets</th>\n",
       "      <th>word_counts</th>\n",
       "    </tr>\n",
       "  </thead>\n",
       "  <tbody>\n",
       "    <tr>\n",
       "      <th>0</th>\n",
       "      <td>0</td>\n",
       "      <td>Go until jurong point, crazy.. Available only ...</td>\n",
       "      <td>111</td>\n",
       "      <td>23</td>\n",
       "    </tr>\n",
       "    <tr>\n",
       "      <th>1</th>\n",
       "      <td>0</td>\n",
       "      <td>Ok lar... Joking wif u oni...</td>\n",
       "      <td>29</td>\n",
       "      <td>8</td>\n",
       "    </tr>\n",
       "    <tr>\n",
       "      <th>2</th>\n",
       "      <td>1</td>\n",
       "      <td>Free entry in 2 a wkly comp to win FA Cup fina...</td>\n",
       "      <td>155</td>\n",
       "      <td>37</td>\n",
       "    </tr>\n",
       "    <tr>\n",
       "      <th>3</th>\n",
       "      <td>0</td>\n",
       "      <td>U dun say so early hor... U c already then say...</td>\n",
       "      <td>49</td>\n",
       "      <td>13</td>\n",
       "    </tr>\n",
       "    <tr>\n",
       "      <th>4</th>\n",
       "      <td>0</td>\n",
       "      <td>Nah I don't think he goes to usf, he lives aro...</td>\n",
       "      <td>61</td>\n",
       "      <td>15</td>\n",
       "    </tr>\n",
       "  </tbody>\n",
       "</table>\n",
       "</div>"
      ],
      "text/plain": [
       "   target                                               text  num_alphabets  \\\n",
       "0       0  Go until jurong point, crazy.. Available only ...            111   \n",
       "1       0                      Ok lar... Joking wif u oni...             29   \n",
       "2       1  Free entry in 2 a wkly comp to win FA Cup fina...            155   \n",
       "3       0  U dun say so early hor... U c already then say...             49   \n",
       "4       0  Nah I don't think he goes to usf, he lives aro...             61   \n",
       "\n",
       "   word_counts  \n",
       "0           23  \n",
       "1            8  \n",
       "2           37  \n",
       "3           13  \n",
       "4           15  "
      ]
     },
     "execution_count": 21,
     "metadata": {},
     "output_type": "execute_result"
    }
   ],
   "source": [
    "df.head()"
   ]
  },
  {
   "cell_type": "code",
   "execution_count": 22,
   "id": "250ee68e",
   "metadata": {
    "execution": {
     "iopub.execute_input": "2024-05-16T12:46:06.133232Z",
     "iopub.status.busy": "2024-05-16T12:46:06.132818Z",
     "iopub.status.idle": "2024-05-16T12:46:06.449263Z",
     "shell.execute_reply": "2024-05-16T12:46:06.447932Z"
    },
    "papermill": {
     "duration": 0.348647,
     "end_time": "2024-05-16T12:46:06.452164",
     "exception": false,
     "start_time": "2024-05-16T12:46:06.103517",
     "status": "completed"
    },
    "tags": []
   },
   "outputs": [],
   "source": [
    "#Senetence Analysis\n",
    "df['sen_counts'] = df.text.apply(lambda x: len(nltk.sent_tokenize(x)))"
   ]
  },
  {
   "cell_type": "code",
   "execution_count": 23,
   "id": "e01bca42",
   "metadata": {
    "execution": {
     "iopub.execute_input": "2024-05-16T12:46:06.507714Z",
     "iopub.status.busy": "2024-05-16T12:46:06.506562Z",
     "iopub.status.idle": "2024-05-16T12:46:06.518279Z",
     "shell.execute_reply": "2024-05-16T12:46:06.516996Z"
    },
    "papermill": {
     "duration": 0.041805,
     "end_time": "2024-05-16T12:46:06.520726",
     "exception": false,
     "start_time": "2024-05-16T12:46:06.478921",
     "status": "completed"
    },
    "tags": []
   },
   "outputs": [
    {
     "data": {
      "text/html": [
       "<div>\n",
       "<style scoped>\n",
       "    .dataframe tbody tr th:only-of-type {\n",
       "        vertical-align: middle;\n",
       "    }\n",
       "\n",
       "    .dataframe tbody tr th {\n",
       "        vertical-align: top;\n",
       "    }\n",
       "\n",
       "    .dataframe thead th {\n",
       "        text-align: right;\n",
       "    }\n",
       "</style>\n",
       "<table border=\"1\" class=\"dataframe\">\n",
       "  <thead>\n",
       "    <tr style=\"text-align: right;\">\n",
       "      <th></th>\n",
       "      <th>target</th>\n",
       "      <th>text</th>\n",
       "      <th>num_alphabets</th>\n",
       "      <th>word_counts</th>\n",
       "      <th>sen_counts</th>\n",
       "    </tr>\n",
       "  </thead>\n",
       "  <tbody>\n",
       "    <tr>\n",
       "      <th>0</th>\n",
       "      <td>0</td>\n",
       "      <td>Go until jurong point, crazy.. Available only ...</td>\n",
       "      <td>111</td>\n",
       "      <td>23</td>\n",
       "      <td>2</td>\n",
       "    </tr>\n",
       "    <tr>\n",
       "      <th>1</th>\n",
       "      <td>0</td>\n",
       "      <td>Ok lar... Joking wif u oni...</td>\n",
       "      <td>29</td>\n",
       "      <td>8</td>\n",
       "      <td>2</td>\n",
       "    </tr>\n",
       "    <tr>\n",
       "      <th>2</th>\n",
       "      <td>1</td>\n",
       "      <td>Free entry in 2 a wkly comp to win FA Cup fina...</td>\n",
       "      <td>155</td>\n",
       "      <td>37</td>\n",
       "      <td>2</td>\n",
       "    </tr>\n",
       "    <tr>\n",
       "      <th>3</th>\n",
       "      <td>0</td>\n",
       "      <td>U dun say so early hor... U c already then say...</td>\n",
       "      <td>49</td>\n",
       "      <td>13</td>\n",
       "      <td>1</td>\n",
       "    </tr>\n",
       "    <tr>\n",
       "      <th>4</th>\n",
       "      <td>0</td>\n",
       "      <td>Nah I don't think he goes to usf, he lives aro...</td>\n",
       "      <td>61</td>\n",
       "      <td>15</td>\n",
       "      <td>1</td>\n",
       "    </tr>\n",
       "  </tbody>\n",
       "</table>\n",
       "</div>"
      ],
      "text/plain": [
       "   target                                               text  num_alphabets  \\\n",
       "0       0  Go until jurong point, crazy.. Available only ...            111   \n",
       "1       0                      Ok lar... Joking wif u oni...             29   \n",
       "2       1  Free entry in 2 a wkly comp to win FA Cup fina...            155   \n",
       "3       0  U dun say so early hor... U c already then say...             49   \n",
       "4       0  Nah I don't think he goes to usf, he lives aro...             61   \n",
       "\n",
       "   word_counts  sen_counts  \n",
       "0           23           2  \n",
       "1            8           2  \n",
       "2           37           2  \n",
       "3           13           1  \n",
       "4           15           1  "
      ]
     },
     "execution_count": 23,
     "metadata": {},
     "output_type": "execute_result"
    }
   ],
   "source": [
    "df.head()"
   ]
  },
  {
   "cell_type": "code",
   "execution_count": 24,
   "id": "3108e6de",
   "metadata": {
    "execution": {
     "iopub.execute_input": "2024-05-16T12:46:06.577879Z",
     "iopub.status.busy": "2024-05-16T12:46:06.577486Z",
     "iopub.status.idle": "2024-05-16T12:46:06.602525Z",
     "shell.execute_reply": "2024-05-16T12:46:06.601567Z"
    },
    "papermill": {
     "duration": 0.057064,
     "end_time": "2024-05-16T12:46:06.605262",
     "exception": false,
     "start_time": "2024-05-16T12:46:06.548198",
     "status": "completed"
    },
    "tags": []
   },
   "outputs": [
    {
     "data": {
      "text/html": [
       "<div>\n",
       "<style scoped>\n",
       "    .dataframe tbody tr th:only-of-type {\n",
       "        vertical-align: middle;\n",
       "    }\n",
       "\n",
       "    .dataframe tbody tr th {\n",
       "        vertical-align: top;\n",
       "    }\n",
       "\n",
       "    .dataframe thead th {\n",
       "        text-align: right;\n",
       "    }\n",
       "</style>\n",
       "<table border=\"1\" class=\"dataframe\">\n",
       "  <thead>\n",
       "    <tr style=\"text-align: right;\">\n",
       "      <th></th>\n",
       "      <th>num_alphabets</th>\n",
       "      <th>word_counts</th>\n",
       "      <th>sen_counts</th>\n",
       "    </tr>\n",
       "  </thead>\n",
       "  <tbody>\n",
       "    <tr>\n",
       "      <th>count</th>\n",
       "      <td>5169.000000</td>\n",
       "      <td>5169.000000</td>\n",
       "      <td>5169.000000</td>\n",
       "    </tr>\n",
       "    <tr>\n",
       "      <th>mean</th>\n",
       "      <td>78.977945</td>\n",
       "      <td>18.286129</td>\n",
       "      <td>1.961308</td>\n",
       "    </tr>\n",
       "    <tr>\n",
       "      <th>std</th>\n",
       "      <td>58.236293</td>\n",
       "      <td>13.226400</td>\n",
       "      <td>1.432583</td>\n",
       "    </tr>\n",
       "    <tr>\n",
       "      <th>min</th>\n",
       "      <td>2.000000</td>\n",
       "      <td>1.000000</td>\n",
       "      <td>1.000000</td>\n",
       "    </tr>\n",
       "    <tr>\n",
       "      <th>25%</th>\n",
       "      <td>36.000000</td>\n",
       "      <td>9.000000</td>\n",
       "      <td>1.000000</td>\n",
       "    </tr>\n",
       "    <tr>\n",
       "      <th>50%</th>\n",
       "      <td>60.000000</td>\n",
       "      <td>15.000000</td>\n",
       "      <td>1.000000</td>\n",
       "    </tr>\n",
       "    <tr>\n",
       "      <th>75%</th>\n",
       "      <td>117.000000</td>\n",
       "      <td>26.000000</td>\n",
       "      <td>2.000000</td>\n",
       "    </tr>\n",
       "    <tr>\n",
       "      <th>max</th>\n",
       "      <td>910.000000</td>\n",
       "      <td>219.000000</td>\n",
       "      <td>38.000000</td>\n",
       "    </tr>\n",
       "  </tbody>\n",
       "</table>\n",
       "</div>"
      ],
      "text/plain": [
       "       num_alphabets  word_counts   sen_counts\n",
       "count    5169.000000  5169.000000  5169.000000\n",
       "mean       78.977945    18.286129     1.961308\n",
       "std        58.236293    13.226400     1.432583\n",
       "min         2.000000     1.000000     1.000000\n",
       "25%        36.000000     9.000000     1.000000\n",
       "50%        60.000000    15.000000     1.000000\n",
       "75%       117.000000    26.000000     2.000000\n",
       "max       910.000000   219.000000    38.000000"
      ]
     },
     "execution_count": 24,
     "metadata": {},
     "output_type": "execute_result"
    }
   ],
   "source": [
    "df[['num_alphabets','word_counts','sen_counts']].describe()"
   ]
  },
  {
   "cell_type": "code",
   "execution_count": 25,
   "id": "c41e1a0d",
   "metadata": {
    "execution": {
     "iopub.execute_input": "2024-05-16T12:46:06.663452Z",
     "iopub.status.busy": "2024-05-16T12:46:06.662736Z",
     "iopub.status.idle": "2024-05-16T12:46:06.684738Z",
     "shell.execute_reply": "2024-05-16T12:46:06.683057Z"
    },
    "papermill": {
     "duration": 0.053819,
     "end_time": "2024-05-16T12:46:06.688151",
     "exception": false,
     "start_time": "2024-05-16T12:46:06.634332",
     "status": "completed"
    },
    "tags": []
   },
   "outputs": [
    {
     "data": {
      "text/html": [
       "<div>\n",
       "<style scoped>\n",
       "    .dataframe tbody tr th:only-of-type {\n",
       "        vertical-align: middle;\n",
       "    }\n",
       "\n",
       "    .dataframe tbody tr th {\n",
       "        vertical-align: top;\n",
       "    }\n",
       "\n",
       "    .dataframe thead th {\n",
       "        text-align: right;\n",
       "    }\n",
       "</style>\n",
       "<table border=\"1\" class=\"dataframe\">\n",
       "  <thead>\n",
       "    <tr style=\"text-align: right;\">\n",
       "      <th></th>\n",
       "      <th>num_alphabets</th>\n",
       "      <th>word_counts</th>\n",
       "      <th>sen_counts</th>\n",
       "    </tr>\n",
       "  </thead>\n",
       "  <tbody>\n",
       "    <tr>\n",
       "      <th>count</th>\n",
       "      <td>4516.000000</td>\n",
       "      <td>4516.000000</td>\n",
       "      <td>4516.000000</td>\n",
       "    </tr>\n",
       "    <tr>\n",
       "      <th>mean</th>\n",
       "      <td>70.459256</td>\n",
       "      <td>16.957484</td>\n",
       "      <td>1.815545</td>\n",
       "    </tr>\n",
       "    <tr>\n",
       "      <th>std</th>\n",
       "      <td>56.358207</td>\n",
       "      <td>13.394052</td>\n",
       "      <td>1.364098</td>\n",
       "    </tr>\n",
       "    <tr>\n",
       "      <th>min</th>\n",
       "      <td>2.000000</td>\n",
       "      <td>1.000000</td>\n",
       "      <td>1.000000</td>\n",
       "    </tr>\n",
       "    <tr>\n",
       "      <th>25%</th>\n",
       "      <td>34.000000</td>\n",
       "      <td>8.000000</td>\n",
       "      <td>1.000000</td>\n",
       "    </tr>\n",
       "    <tr>\n",
       "      <th>50%</th>\n",
       "      <td>52.000000</td>\n",
       "      <td>13.000000</td>\n",
       "      <td>1.000000</td>\n",
       "    </tr>\n",
       "    <tr>\n",
       "      <th>75%</th>\n",
       "      <td>90.000000</td>\n",
       "      <td>22.000000</td>\n",
       "      <td>2.000000</td>\n",
       "    </tr>\n",
       "    <tr>\n",
       "      <th>max</th>\n",
       "      <td>910.000000</td>\n",
       "      <td>219.000000</td>\n",
       "      <td>38.000000</td>\n",
       "    </tr>\n",
       "  </tbody>\n",
       "</table>\n",
       "</div>"
      ],
      "text/plain": [
       "       num_alphabets  word_counts   sen_counts\n",
       "count    4516.000000  4516.000000  4516.000000\n",
       "mean       70.459256    16.957484     1.815545\n",
       "std        56.358207    13.394052     1.364098\n",
       "min         2.000000     1.000000     1.000000\n",
       "25%        34.000000     8.000000     1.000000\n",
       "50%        52.000000    13.000000     1.000000\n",
       "75%        90.000000    22.000000     2.000000\n",
       "max       910.000000   219.000000    38.000000"
      ]
     },
     "execution_count": 25,
     "metadata": {},
     "output_type": "execute_result"
    }
   ],
   "source": [
    "df[df['target']==0][['num_alphabets','word_counts','sen_counts']].describe()"
   ]
  },
  {
   "cell_type": "code",
   "execution_count": 26,
   "id": "679ec00c",
   "metadata": {
    "execution": {
     "iopub.execute_input": "2024-05-16T12:46:06.745534Z",
     "iopub.status.busy": "2024-05-16T12:46:06.745162Z",
     "iopub.status.idle": "2024-05-16T12:46:06.768114Z",
     "shell.execute_reply": "2024-05-16T12:46:06.766981Z"
    },
    "papermill": {
     "duration": 0.055012,
     "end_time": "2024-05-16T12:46:06.770639",
     "exception": false,
     "start_time": "2024-05-16T12:46:06.715627",
     "status": "completed"
    },
    "tags": []
   },
   "outputs": [
    {
     "data": {
      "text/html": [
       "<div>\n",
       "<style scoped>\n",
       "    .dataframe tbody tr th:only-of-type {\n",
       "        vertical-align: middle;\n",
       "    }\n",
       "\n",
       "    .dataframe tbody tr th {\n",
       "        vertical-align: top;\n",
       "    }\n",
       "\n",
       "    .dataframe thead th {\n",
       "        text-align: right;\n",
       "    }\n",
       "</style>\n",
       "<table border=\"1\" class=\"dataframe\">\n",
       "  <thead>\n",
       "    <tr style=\"text-align: right;\">\n",
       "      <th></th>\n",
       "      <th>num_alphabets</th>\n",
       "      <th>word_counts</th>\n",
       "      <th>sen_counts</th>\n",
       "    </tr>\n",
       "  </thead>\n",
       "  <tbody>\n",
       "    <tr>\n",
       "      <th>count</th>\n",
       "      <td>653.000000</td>\n",
       "      <td>653.000000</td>\n",
       "      <td>653.000000</td>\n",
       "    </tr>\n",
       "    <tr>\n",
       "      <th>mean</th>\n",
       "      <td>137.891271</td>\n",
       "      <td>27.474732</td>\n",
       "      <td>2.969372</td>\n",
       "    </tr>\n",
       "    <tr>\n",
       "      <th>std</th>\n",
       "      <td>30.137753</td>\n",
       "      <td>6.893007</td>\n",
       "      <td>1.488910</td>\n",
       "    </tr>\n",
       "    <tr>\n",
       "      <th>min</th>\n",
       "      <td>13.000000</td>\n",
       "      <td>2.000000</td>\n",
       "      <td>1.000000</td>\n",
       "    </tr>\n",
       "    <tr>\n",
       "      <th>25%</th>\n",
       "      <td>132.000000</td>\n",
       "      <td>25.000000</td>\n",
       "      <td>2.000000</td>\n",
       "    </tr>\n",
       "    <tr>\n",
       "      <th>50%</th>\n",
       "      <td>149.000000</td>\n",
       "      <td>29.000000</td>\n",
       "      <td>3.000000</td>\n",
       "    </tr>\n",
       "    <tr>\n",
       "      <th>75%</th>\n",
       "      <td>157.000000</td>\n",
       "      <td>32.000000</td>\n",
       "      <td>4.000000</td>\n",
       "    </tr>\n",
       "    <tr>\n",
       "      <th>max</th>\n",
       "      <td>224.000000</td>\n",
       "      <td>44.000000</td>\n",
       "      <td>9.000000</td>\n",
       "    </tr>\n",
       "  </tbody>\n",
       "</table>\n",
       "</div>"
      ],
      "text/plain": [
       "       num_alphabets  word_counts  sen_counts\n",
       "count     653.000000   653.000000  653.000000\n",
       "mean      137.891271    27.474732    2.969372\n",
       "std        30.137753     6.893007    1.488910\n",
       "min        13.000000     2.000000    1.000000\n",
       "25%       132.000000    25.000000    2.000000\n",
       "50%       149.000000    29.000000    3.000000\n",
       "75%       157.000000    32.000000    4.000000\n",
       "max       224.000000    44.000000    9.000000"
      ]
     },
     "execution_count": 26,
     "metadata": {},
     "output_type": "execute_result"
    }
   ],
   "source": [
    "df[df['target']==1][['num_alphabets','word_counts','sen_counts']].describe()"
   ]
  },
  {
   "cell_type": "code",
   "execution_count": 27,
   "id": "234ecd61",
   "metadata": {
    "execution": {
     "iopub.execute_input": "2024-05-16T12:46:06.826854Z",
     "iopub.status.busy": "2024-05-16T12:46:06.826273Z",
     "iopub.status.idle": "2024-05-16T12:46:07.883128Z",
     "shell.execute_reply": "2024-05-16T12:46:07.881772Z"
    },
    "papermill": {
     "duration": 1.087936,
     "end_time": "2024-05-16T12:46:07.885768",
     "exception": false,
     "start_time": "2024-05-16T12:46:06.797832",
     "status": "completed"
    },
    "tags": []
   },
   "outputs": [
    {
     "name": "stderr",
     "output_type": "stream",
     "text": [
      "/opt/conda/lib/python3.10/site-packages/seaborn/_oldcore.py:1119: FutureWarning: use_inf_as_na option is deprecated and will be removed in a future version. Convert inf values to NaN before operating instead.\n",
      "  with pd.option_context('mode.use_inf_as_na', True):\n",
      "/opt/conda/lib/python3.10/site-packages/seaborn/_oldcore.py:1119: FutureWarning: use_inf_as_na option is deprecated and will be removed in a future version. Convert inf values to NaN before operating instead.\n",
      "  with pd.option_context('mode.use_inf_as_na', True):\n"
     ]
    },
    {
     "data": {
      "text/plain": [
       "<Axes: xlabel='num_alphabets', ylabel='Count'>"
      ]
     },
     "execution_count": 27,
     "metadata": {},
     "output_type": "execute_result"
    },
    {
     "data": {
      "image/png": "[encoded data removed]",
      "text/plain": [
       "<Figure size 1200x800 with 1 Axes>"
      ]
     },
     "metadata": {},
     "output_type": "display_data"
    }
   ],
   "source": [
    "import seaborn as sns\n",
    "plt.figure(figsize=(12,8))\n",
    "sns.histplot(df[df['target']==1]['num_alphabets'],kde=True,color='red')\n",
    "sns.histplot(df[df['target']==0]['num_alphabets'],kde=True)"
   ]
  },
  {
   "cell_type": "code",
   "execution_count": 28,
   "id": "b6ce14da",
   "metadata": {
    "execution": {
     "iopub.execute_input": "2024-05-16T12:46:07.947388Z",
     "iopub.status.busy": "2024-05-16T12:46:07.946995Z",
     "iopub.status.idle": "2024-05-16T12:46:08.746395Z",
     "shell.execute_reply": "2024-05-16T12:46:08.745347Z"
    },
    "papermill": {
     "duration": 0.833263,
     "end_time": "2024-05-16T12:46:08.748882",
     "exception": false,
     "start_time": "2024-05-16T12:46:07.915619",
     "status": "completed"
    },
    "tags": []
   },
   "outputs": [
    {
     "name": "stderr",
     "output_type": "stream",
     "text": [
      "/opt/conda/lib/python3.10/site-packages/seaborn/_oldcore.py:1119: FutureWarning: use_inf_as_na option is deprecated and will be removed in a future version. Convert inf values to NaN before operating instead.\n",
      "  with pd.option_context('mode.use_inf_as_na', True):\n",
      "/opt/conda/lib/python3.10/site-packages/seaborn/_oldcore.py:1119: FutureWarning: use_inf_as_na option is deprecated and will be removed in a future version. Convert inf values to NaN before operating instead.\n",
      "  with pd.option_context('mode.use_inf_as_na', True):\n"
     ]
    },
    {
     "data": {
      "text/plain": [
       "<Axes: xlabel='word_counts', ylabel='Count'>"
      ]
     },
     "execution_count": 28,
     "metadata": {},
     "output_type": "execute_result"
    },
    {
     "data": {
      "image/png": "[encoded data removed]",
      "text/plain": [
       "<Figure size 1200x800 with 1 Axes>"
      ]
     },
     "metadata": {},
     "output_type": "display_data"
    }
   ],
   "source": [
    "plt.figure(figsize=(12,8))\n",
    "sns.histplot(df[df['target']==1]['word_counts'],kde=True,color='red')\n",
    "sns.histplot(df[df['target']==0]['word_counts'],kde=True)"
   ]
  },
  {
   "cell_type": "code",
   "execution_count": 29,
   "id": "6b908a42",
   "metadata": {
    "execution": {
     "iopub.execute_input": "2024-05-16T12:46:08.811166Z",
     "iopub.status.busy": "2024-05-16T12:46:08.810159Z",
     "iopub.status.idle": "2024-05-16T12:46:09.775994Z",
     "shell.execute_reply": "2024-05-16T12:46:09.774695Z"
    },
    "papermill": {
     "duration": 1.00007,
     "end_time": "2024-05-16T12:46:09.778451",
     "exception": false,
     "start_time": "2024-05-16T12:46:08.778381",
     "status": "completed"
    },
    "tags": []
   },
   "outputs": [
    {
     "name": "stderr",
     "output_type": "stream",
     "text": [
      "/opt/conda/lib/python3.10/site-packages/seaborn/_oldcore.py:1119: FutureWarning: use_inf_as_na option is deprecated and will be removed in a future version. Convert inf values to NaN before operating instead.\n",
      "  with pd.option_context('mode.use_inf_as_na', True):\n",
      "/opt/conda/lib/python3.10/site-packages/seaborn/_oldcore.py:1119: FutureWarning: use_inf_as_na option is deprecated and will be removed in a future version. Convert inf values to NaN before operating instead.\n",
      "  with pd.option_context('mode.use_inf_as_na', True):\n"
     ]
    },
    {
     "data": {
      "text/plain": [
       "<Axes: xlabel='sen_counts', ylabel='Count'>"
      ]
     },
     "execution_count": 29,
     "metadata": {},
     "output_type": "execute_result"
    },
    {
     "data": {
      "image/png": "[encoded data removed]",
      "text/plain": [
       "<Figure size 1200x600 with 1 Axes>"
      ]
     },
     "metadata": {},
     "output_type": "display_data"
    }
   ],
   "source": [
    "plt.figure(figsize=(12,6))\n",
    "sns.histplot(df[df['target']==1]['sen_counts'],kde=True,color='red')\n",
    "sns.histplot(df[df['target']==0]['sen_counts'],kde=True)"
   ]
  },
  {
   "cell_type": "code",
   "execution_count": 30,
   "id": "966b325b",
   "metadata": {
    "execution": {
     "iopub.execute_input": "2024-05-16T12:46:09.840918Z",
     "iopub.status.busy": "2024-05-16T12:46:09.840516Z",
     "iopub.status.idle": "2024-05-16T12:46:16.253268Z",
     "shell.execute_reply": "2024-05-16T12:46:16.252122Z"
    },
    "papermill": {
     "duration": 6.448101,
     "end_time": "2024-05-16T12:46:16.256829",
     "exception": false,
     "start_time": "2024-05-16T12:46:09.808728",
     "status": "completed"
    },
    "tags": []
   },
   "outputs": [
    {
     "name": "stderr",
     "output_type": "stream",
     "text": [
      "/opt/conda/lib/python3.10/site-packages/seaborn/_oldcore.py:1119: FutureWarning: use_inf_as_na option is deprecated and will be removed in a future version. Convert inf values to NaN before operating instead.\n",
      "  with pd.option_context('mode.use_inf_as_na', True):\n",
      "/opt/conda/lib/python3.10/site-packages/seaborn/_oldcore.py:1075: FutureWarning: When grouping with a length-1 list-like, you will need to pass a length-1 tuple to get_group in a future version of pandas. Pass `(name,)` instead of `name` to silence this warning.\n",
      "  data_subset = grouped_data.get_group(pd_key)\n",
      "/opt/conda/lib/python3.10/site-packages/seaborn/_oldcore.py:1075: FutureWarning: When grouping with a length-1 list-like, you will need to pass a length-1 tuple to get_group in a future version of pandas. Pass `(name,)` instead of `name` to silence this warning.\n",
      "  data_subset = grouped_data.get_group(pd_key)\n",
      "/opt/conda/lib/python3.10/site-packages/seaborn/_oldcore.py:1119: FutureWarning: use_inf_as_na option is deprecated and will be removed in a future version. Convert inf values to NaN before operating instead.\n",
      "  with pd.option_context('mode.use_inf_as_na', True):\n",
      "/opt/conda/lib/python3.10/site-packages/seaborn/_oldcore.py:1075: FutureWarning: When grouping with a length-1 list-like, you will need to pass a length-1 tuple to get_group in a future version of pandas. Pass `(name,)` instead of `name` to silence this warning.\n",
      "  data_subset = grouped_data.get_group(pd_key)\n",
      "/opt/conda/lib/python3.10/site-packages/seaborn/_oldcore.py:1075: FutureWarning: When grouping with a length-1 list-like, you will need to pass a length-1 tuple to get_group in a future version of pandas. Pass `(name,)` instead of `name` to silence this warning.\n",
      "  data_subset = grouped_data.get_group(pd_key)\n",
      "/opt/conda/lib/python3.10/site-packages/seaborn/_oldcore.py:1119: FutureWarning: use_inf_as_na option is deprecated and will be removed in a future version. Convert inf values to NaN before operating instead.\n",
      "  with pd.option_context('mode.use_inf_as_na', True):\n",
      "/opt/conda/lib/python3.10/site-packages/seaborn/_oldcore.py:1075: FutureWarning: When grouping with a length-1 list-like, you will need to pass a length-1 tuple to get_group in a future version of pandas. Pass `(name,)` instead of `name` to silence this warning.\n",
      "  data_subset = grouped_data.get_group(pd_key)\n",
      "/opt/conda/lib/python3.10/site-packages/seaborn/_oldcore.py:1075: FutureWarning: When grouping with a length-1 list-like, you will need to pass a length-1 tuple to get_group in a future version of pandas. Pass `(name,)` instead of `name` to silence this warning.\n",
      "  data_subset = grouped_data.get_group(pd_key)\n"
     ]
    },
    {
     "data": {
      "text/plain": [
       "<seaborn.axisgrid.PairGrid at 0x7b0c64c54670>"
      ]
     },
     "execution_count": 30,
     "metadata": {},
     "output_type": "execute_result"
    },
    {
     "data": {
      "image/png": "[encoded data removed]",
      "text/plain": [
       "<Figure size 808.875x750 with 12 Axes>"
      ]
     },
     "metadata": {},
     "output_type": "display_data"
    }
   ],
   "source": [
    "sns.pairplot(df,hue='target')"
   ]
  },
  {
   "cell_type": "code",
   "execution_count": 31,
   "id": "c200b7ed",
   "metadata": {
    "execution": {
     "iopub.execute_input": "2024-05-16T12:46:16.326169Z",
     "iopub.status.busy": "2024-05-16T12:46:16.324937Z",
     "iopub.status.idle": "2024-05-16T12:46:16.336744Z",
     "shell.execute_reply": "2024-05-16T12:46:16.335888Z"
    },
    "papermill": {
     "duration": 0.048596,
     "end_time": "2024-05-16T12:46:16.338808",
     "exception": false,
     "start_time": "2024-05-16T12:46:16.290212",
     "status": "completed"
    },
    "tags": []
   },
   "outputs": [
    {
     "data": {
      "text/html": [
       "<div>\n",
       "<style scoped>\n",
       "    .dataframe tbody tr th:only-of-type {\n",
       "        vertical-align: middle;\n",
       "    }\n",
       "\n",
       "    .dataframe tbody tr th {\n",
       "        vertical-align: top;\n",
       "    }\n",
       "\n",
       "    .dataframe thead th {\n",
       "        text-align: right;\n",
       "    }\n",
       "</style>\n",
       "<table border=\"1\" class=\"dataframe\">\n",
       "  <thead>\n",
       "    <tr style=\"text-align: right;\">\n",
       "      <th></th>\n",
       "      <th>target</th>\n",
       "      <th>text</th>\n",
       "      <th>num_alphabets</th>\n",
       "      <th>word_counts</th>\n",
       "      <th>sen_counts</th>\n",
       "    </tr>\n",
       "  </thead>\n",
       "  <tbody>\n",
       "    <tr>\n",
       "      <th>0</th>\n",
       "      <td>0</td>\n",
       "      <td>Go until jurong point, crazy.. Available only ...</td>\n",
       "      <td>111</td>\n",
       "      <td>23</td>\n",
       "      <td>2</td>\n",
       "    </tr>\n",
       "    <tr>\n",
       "      <th>1</th>\n",
       "      <td>0</td>\n",
       "      <td>Ok lar... Joking wif u oni...</td>\n",
       "      <td>29</td>\n",
       "      <td>8</td>\n",
       "      <td>2</td>\n",
       "    </tr>\n",
       "    <tr>\n",
       "      <th>2</th>\n",
       "      <td>1</td>\n",
       "      <td>Free entry in 2 a wkly comp to win FA Cup fina...</td>\n",
       "      <td>155</td>\n",
       "      <td>37</td>\n",
       "      <td>2</td>\n",
       "    </tr>\n",
       "    <tr>\n",
       "      <th>3</th>\n",
       "      <td>0</td>\n",
       "      <td>U dun say so early hor... U c already then say...</td>\n",
       "      <td>49</td>\n",
       "      <td>13</td>\n",
       "      <td>1</td>\n",
       "    </tr>\n",
       "    <tr>\n",
       "      <th>4</th>\n",
       "      <td>0</td>\n",
       "      <td>Nah I don't think he goes to usf, he lives aro...</td>\n",
       "      <td>61</td>\n",
       "      <td>15</td>\n",
       "      <td>1</td>\n",
       "    </tr>\n",
       "  </tbody>\n",
       "</table>\n",
       "</div>"
      ],
      "text/plain": [
       "   target                                               text  num_alphabets  \\\n",
       "0       0  Go until jurong point, crazy.. Available only ...            111   \n",
       "1       0                      Ok lar... Joking wif u oni...             29   \n",
       "2       1  Free entry in 2 a wkly comp to win FA Cup fina...            155   \n",
       "3       0  U dun say so early hor... U c already then say...             49   \n",
       "4       0  Nah I don't think he goes to usf, he lives aro...             61   \n",
       "\n",
       "   word_counts  sen_counts  \n",
       "0           23           2  \n",
       "1            8           2  \n",
       "2           37           2  \n",
       "3           13           1  \n",
       "4           15           1  "
      ]
     },
     "execution_count": 31,
     "metadata": {},
     "output_type": "execute_result"
    }
   ],
   "source": [
    "df.head()"
   ]
  },
  {
   "cell_type": "code",
   "execution_count": 32,
   "id": "5a8a2329",
   "metadata": {
    "execution": {
     "iopub.execute_input": "2024-05-16T12:46:16.405777Z",
     "iopub.status.busy": "2024-05-16T12:46:16.405088Z",
     "iopub.status.idle": "2024-05-16T12:46:16.410397Z",
     "shell.execute_reply": "2024-05-16T12:46:16.409561Z"
    },
    "papermill": {
     "duration": 0.041644,
     "end_time": "2024-05-16T12:46:16.412635",
     "exception": false,
     "start_time": "2024-05-16T12:46:16.370991",
     "status": "completed"
    },
    "tags": []
   },
   "outputs": [],
   "source": [
    "new_df= df.drop(columns=['text'])"
   ]
  },
  {
   "cell_type": "code",
   "execution_count": 33,
   "id": "16a687eb",
   "metadata": {
    "execution": {
     "iopub.execute_input": "2024-05-16T12:46:16.478703Z",
     "iopub.status.busy": "2024-05-16T12:46:16.478016Z",
     "iopub.status.idle": "2024-05-16T12:46:16.847997Z",
     "shell.execute_reply": "2024-05-16T12:46:16.846536Z"
    },
    "papermill": {
     "duration": 0.407039,
     "end_time": "2024-05-16T12:46:16.851097",
     "exception": false,
     "start_time": "2024-05-16T12:46:16.444058",
     "status": "completed"
    },
    "tags": []
   },
   "outputs": [
    {
     "data": {
      "text/plain": [
       "<Axes: >"
      ]
     },
     "execution_count": 33,
     "metadata": {},
     "output_type": "execute_result"
    },
    {
     "data": {
      "image/png": "[encoded data removed]",
      "text/plain": [
       "<Figure size 640x480 with 2 Axes>"
      ]
     },
     "metadata": {},
     "output_type": "display_data"
    }
   ],
   "source": [
    "sns.heatmap(new_df.corr(),annot=True)"
   ]
  },
  {
   "cell_type": "markdown",
   "id": "ebef4084",
   "metadata": {
    "papermill": {
     "duration": 0.033658,
     "end_time": "2024-05-16T12:46:16.919171",
     "exception": false,
     "start_time": "2024-05-16T12:46:16.885513",
     "status": "completed"
    },
    "tags": []
   },
   "source": [
    "***We will use num_alphabet feature for model training***"
   ]
  },
  {
   "cell_type": "markdown",
   "id": "f3672d36",
   "metadata": {
    "papermill": {
     "duration": 0.031885,
     "end_time": "2024-05-16T12:46:16.984878",
     "exception": false,
     "start_time": "2024-05-16T12:46:16.952993",
     "status": "completed"
    },
    "tags": []
   },
   "source": [
    "# Data Preprocessing\n",
    "* Lowercasing\n",
    "* tokenization\n",
    "* Removing Stop Words\n",
    "* Removing special Characters\n",
    "* Stemming"
   ]
  },
  {
   "cell_type": "code",
   "execution_count": 34,
   "id": "fb14e9fc",
   "metadata": {
    "execution": {
     "iopub.execute_input": "2024-05-16T12:46:17.059652Z",
     "iopub.status.busy": "2024-05-16T12:46:17.059204Z",
     "iopub.status.idle": "2024-05-16T12:46:17.063942Z",
     "shell.execute_reply": "2024-05-16T12:46:17.062813Z"
    },
    "papermill": {
     "duration": 0.047198,
     "end_time": "2024-05-16T12:46:17.066142",
     "exception": false,
     "start_time": "2024-05-16T12:46:17.018944",
     "status": "completed"
    },
    "tags": []
   },
   "outputs": [],
   "source": [
    "from nltk import word_tokenize "
   ]
  },
  {
   "cell_type": "code",
   "execution_count": 35,
   "id": "54387412",
   "metadata": {
    "execution": {
     "iopub.execute_input": "2024-05-16T12:46:17.134108Z",
     "iopub.status.busy": "2024-05-16T12:46:17.133714Z",
     "iopub.status.idle": "2024-05-16T12:46:17.138249Z",
     "shell.execute_reply": "2024-05-16T12:46:17.137073Z"
    },
    "papermill": {
     "duration": 0.041884,
     "end_time": "2024-05-16T12:46:17.140502",
     "exception": false,
     "start_time": "2024-05-16T12:46:17.098618",
     "status": "completed"
    },
    "tags": []
   },
   "outputs": [],
   "source": [
    "from nltk.stem import PorterStemmer \n",
    "ps = PorterStemmer()\n"
   ]
  },
  {
   "cell_type": "code",
   "execution_count": 36,
   "id": "e653af9b",
   "metadata": {
    "execution": {
     "iopub.execute_input": "2024-05-16T12:46:17.210522Z",
     "iopub.status.busy": "2024-05-16T12:46:17.210156Z",
     "iopub.status.idle": "2024-05-16T12:46:17.222991Z",
     "shell.execute_reply": "2024-05-16T12:46:17.221815Z"
    },
    "papermill": {
     "duration": 0.049972,
     "end_time": "2024-05-16T12:46:17.225350",
     "exception": false,
     "start_time": "2024-05-16T12:46:17.175378",
     "status": "completed"
    },
    "scrolled": true,
    "tags": []
   },
   "outputs": [
    {
     "data": {
      "text/plain": [
       "['i',\n",
       " 'me',\n",
       " 'my',\n",
       " 'myself',\n",
       " 'we',\n",
       " 'our',\n",
       " 'ours',\n",
       " 'ourselves',\n",
       " 'you',\n",
       " \"you're\",\n",
       " \"you've\",\n",
       " \"you'll\",\n",
       " \"you'd\",\n",
       " 'your',\n",
       " 'yours',\n",
       " 'yourself',\n",
       " 'yourselves',\n",
       " 'he',\n",
       " 'him',\n",
       " 'his',\n",
       " 'himself',\n",
       " 'she',\n",
       " \"she's\",\n",
       " 'her',\n",
       " 'hers',\n",
       " 'herself',\n",
       " 'it',\n",
       " \"it's\",\n",
       " 'its',\n",
       " 'itself',\n",
       " 'they',\n",
       " 'them',\n",
       " 'their',\n",
       " 'theirs',\n",
       " 'themselves',\n",
       " 'what',\n",
       " 'which',\n",
       " 'who',\n",
       " 'whom',\n",
       " 'this',\n",
       " 'that',\n",
       " \"that'll\",\n",
       " 'these',\n",
       " 'those',\n",
       " 'am',\n",
       " 'is',\n",
       " 'are',\n",
       " 'was',\n",
       " 'were',\n",
       " 'be',\n",
       " 'been',\n",
       " 'being',\n",
       " 'have',\n",
       " 'has',\n",
       " 'had',\n",
       " 'having',\n",
       " 'do',\n",
       " 'does',\n",
       " 'did',\n",
       " 'doing',\n",
       " 'a',\n",
       " 'an',\n",
       " 'the',\n",
       " 'and',\n",
       " 'but',\n",
       " 'if',\n",
       " 'or',\n",
       " 'because',\n",
       " 'as',\n",
       " 'until',\n",
       " 'while',\n",
       " 'of',\n",
       " 'at',\n",
       " 'by',\n",
       " 'for',\n",
       " 'with',\n",
       " 'about',\n",
       " 'against',\n",
       " 'between',\n",
       " 'into',\n",
       " 'through',\n",
       " 'during',\n",
       " 'before',\n",
       " 'after',\n",
       " 'above',\n",
       " 'below',\n",
       " 'to',\n",
       " 'from',\n",
       " 'up',\n",
       " 'down',\n",
       " 'in',\n",
       " 'out',\n",
       " 'on',\n",
       " 'off',\n",
       " 'over',\n",
       " 'under',\n",
       " 'again',\n",
       " 'further',\n",
       " 'then',\n",
       " 'once',\n",
       " 'here',\n",
       " 'there',\n",
       " 'when',\n",
       " 'where',\n",
       " 'why',\n",
       " 'how',\n",
       " 'all',\n",
       " 'any',\n",
       " 'both',\n",
       " 'each',\n",
       " 'few',\n",
       " 'more',\n",
       " 'most',\n",
       " 'other',\n",
       " 'some',\n",
       " 'such',\n",
       " 'no',\n",
       " 'nor',\n",
       " 'not',\n",
       " 'only',\n",
       " 'own',\n",
       " 'same',\n",
       " 'so',\n",
       " 'than',\n",
       " 'too',\n",
       " 'very',\n",
       " 's',\n",
       " 't',\n",
       " 'can',\n",
       " 'will',\n",
       " 'just',\n",
       " 'don',\n",
       " \"don't\",\n",
       " 'should',\n",
       " \"should've\",\n",
       " 'now',\n",
       " 'd',\n",
       " 'll',\n",
       " 'm',\n",
       " 'o',\n",
       " 're',\n",
       " 've',\n",
       " 'y',\n",
       " 'ain',\n",
       " 'aren',\n",
       " \"aren't\",\n",
       " 'couldn',\n",
       " \"couldn't\",\n",
       " 'didn',\n",
       " \"didn't\",\n",
       " 'doesn',\n",
       " \"doesn't\",\n",
       " 'hadn',\n",
       " \"hadn't\",\n",
       " 'hasn',\n",
       " \"hasn't\",\n",
       " 'haven',\n",
       " \"haven't\",\n",
       " 'isn',\n",
       " \"isn't\",\n",
       " 'ma',\n",
       " 'mightn',\n",
       " \"mightn't\",\n",
       " 'mustn',\n",
       " \"mustn't\",\n",
       " 'needn',\n",
       " \"needn't\",\n",
       " 'shan',\n",
       " \"shan't\",\n",
       " 'shouldn',\n",
       " \"shouldn't\",\n",
       " 'wasn',\n",
       " \"wasn't\",\n",
       " 'weren',\n",
       " \"weren't\",\n",
       " 'won',\n",
       " \"won't\",\n",
       " 'wouldn',\n",
       " \"wouldn't\"]"
      ]
     },
     "execution_count": 36,
     "metadata": {},
     "output_type": "execute_result"
    }
   ],
   "source": [
    "from nltk.corpus import stopwords\n",
    "stopwords.words('english')"
   ]
  },
  {
   "cell_type": "code",
   "execution_count": 37,
   "id": "abcee99d",
   "metadata": {
    "execution": {
     "iopub.execute_input": "2024-05-16T12:46:17.291975Z",
     "iopub.status.busy": "2024-05-16T12:46:17.291557Z",
     "iopub.status.idle": "2024-05-16T12:46:17.298996Z",
     "shell.execute_reply": "2024-05-16T12:46:17.297731Z"
    },
    "papermill": {
     "duration": 0.043687,
     "end_time": "2024-05-16T12:46:17.301320",
     "exception": false,
     "start_time": "2024-05-16T12:46:17.257633",
     "status": "completed"
    },
    "tags": []
   },
   "outputs": [
    {
     "data": {
      "text/plain": [
       "'!\"#$%&\\'()*+,-./:;<=>?@[\\\\]^_`{|}~'"
      ]
     },
     "execution_count": 37,
     "metadata": {},
     "output_type": "execute_result"
    }
   ],
   "source": [
    "import string\n",
    "string.punctuation"
   ]
  },
  {
   "cell_type": "code",
   "execution_count": 38,
   "id": "e4f86ced",
   "metadata": {
    "execution": {
     "iopub.execute_input": "2024-05-16T12:46:17.370559Z",
     "iopub.status.busy": "2024-05-16T12:46:17.370183Z",
     "iopub.status.idle": "2024-05-16T12:46:17.377202Z",
     "shell.execute_reply": "2024-05-16T12:46:17.375937Z"
    },
    "papermill": {
     "duration": 0.044588,
     "end_time": "2024-05-16T12:46:17.379571",
     "exception": false,
     "start_time": "2024-05-16T12:46:17.334983",
     "status": "completed"
    },
    "tags": []
   },
   "outputs": [],
   "source": [
    "def transform_text(text):\n",
    "    text = text.lower()\n",
    "    text = word_tokenize(text)\n",
    "    y=[]\n",
    "    for i in text:\n",
    "        if i.isalnum():\n",
    "            y.append(i)\n",
    "    text= y[:]\n",
    "    y.clear()\n",
    "    for i in text:\n",
    "        if i not in stopwords.words('english') and i not in string.punctuation:\n",
    "            y.append(i)\n",
    "    text= y[:]\n",
    "    y.clear()\n",
    "    for i in text:\n",
    "        y.append(ps.stem(i))\n",
    "        \n",
    "    return \" \".join(y)\n"
   ]
  },
  {
   "cell_type": "code",
   "execution_count": 39,
   "id": "cd591d66",
   "metadata": {
    "execution": {
     "iopub.execute_input": "2024-05-16T12:46:17.449203Z",
     "iopub.status.busy": "2024-05-16T12:46:17.448815Z",
     "iopub.status.idle": "2024-05-16T12:46:17.457521Z",
     "shell.execute_reply": "2024-05-16T12:46:17.456366Z"
    },
    "papermill": {
     "duration": 0.046723,
     "end_time": "2024-05-16T12:46:17.460026",
     "exception": false,
     "start_time": "2024-05-16T12:46:17.413303",
     "status": "completed"
    },
    "tags": []
   },
   "outputs": [
    {
     "data": {
      "text/plain": [
       "'hi nitish go'"
      ]
     },
     "execution_count": 39,
     "metadata": {},
     "output_type": "execute_result"
    }
   ],
   "source": [
    "transform_text('Hi, how are %% you Nitish, where are you going?')"
   ]
  },
  {
   "cell_type": "code",
   "execution_count": 40,
   "id": "a12f8d02",
   "metadata": {
    "execution": {
     "iopub.execute_input": "2024-05-16T12:46:17.532076Z",
     "iopub.status.busy": "2024-05-16T12:46:17.531672Z",
     "iopub.status.idle": "2024-05-16T12:46:29.665007Z",
     "shell.execute_reply": "2024-05-16T12:46:29.663132Z"
    },
    "papermill": {
     "duration": 12.173026,
     "end_time": "2024-05-16T12:46:29.667662",
     "exception": false,
     "start_time": "2024-05-16T12:46:17.494636",
     "status": "completed"
    },
    "tags": []
   },
   "outputs": [],
   "source": [
    "df['transformed'] = df['text'].apply(transform_text)"
   ]
  },
  {
   "cell_type": "code",
   "execution_count": 41,
   "id": "332a0b6f",
   "metadata": {
    "execution": {
     "iopub.execute_input": "2024-05-16T12:46:29.738017Z",
     "iopub.status.busy": "2024-05-16T12:46:29.737623Z",
     "iopub.status.idle": "2024-05-16T12:46:29.750083Z",
     "shell.execute_reply": "2024-05-16T12:46:29.748950Z"
    },
    "papermill": {
     "duration": 0.048763,
     "end_time": "2024-05-16T12:46:29.752286",
     "exception": false,
     "start_time": "2024-05-16T12:46:29.703523",
     "status": "completed"
    },
    "tags": []
   },
   "outputs": [
    {
     "data": {
      "text/html": [
       "<div>\n",
       "<style scoped>\n",
       "    .dataframe tbody tr th:only-of-type {\n",
       "        vertical-align: middle;\n",
       "    }\n",
       "\n",
       "    .dataframe tbody tr th {\n",
       "        vertical-align: top;\n",
       "    }\n",
       "\n",
       "    .dataframe thead th {\n",
       "        text-align: right;\n",
       "    }\n",
       "</style>\n",
       "<table border=\"1\" class=\"dataframe\">\n",
       "  <thead>\n",
       "    <tr style=\"text-align: right;\">\n",
       "      <th></th>\n",
       "      <th>target</th>\n",
       "      <th>text</th>\n",
       "      <th>num_alphabets</th>\n",
       "      <th>word_counts</th>\n",
       "      <th>sen_counts</th>\n",
       "      <th>transformed</th>\n",
       "    </tr>\n",
       "  </thead>\n",
       "  <tbody>\n",
       "    <tr>\n",
       "      <th>0</th>\n",
       "      <td>0</td>\n",
       "      <td>Go until jurong point, crazy.. Available only ...</td>\n",
       "      <td>111</td>\n",
       "      <td>23</td>\n",
       "      <td>2</td>\n",
       "      <td>go jurong point avail bugi n great world la e ...</td>\n",
       "    </tr>\n",
       "    <tr>\n",
       "      <th>1</th>\n",
       "      <td>0</td>\n",
       "      <td>Ok lar... Joking wif u oni...</td>\n",
       "      <td>29</td>\n",
       "      <td>8</td>\n",
       "      <td>2</td>\n",
       "      <td>ok lar joke wif u oni</td>\n",
       "    </tr>\n",
       "    <tr>\n",
       "      <th>2</th>\n",
       "      <td>1</td>\n",
       "      <td>Free entry in 2 a wkly comp to win FA Cup fina...</td>\n",
       "      <td>155</td>\n",
       "      <td>37</td>\n",
       "      <td>2</td>\n",
       "      <td>free entri 2 wkli comp win fa cup final tkt 21...</td>\n",
       "    </tr>\n",
       "    <tr>\n",
       "      <th>3</th>\n",
       "      <td>0</td>\n",
       "      <td>U dun say so early hor... U c already then say...</td>\n",
       "      <td>49</td>\n",
       "      <td>13</td>\n",
       "      <td>1</td>\n",
       "      <td>u dun say earli hor u c alreadi say</td>\n",
       "    </tr>\n",
       "    <tr>\n",
       "      <th>4</th>\n",
       "      <td>0</td>\n",
       "      <td>Nah I don't think he goes to usf, he lives aro...</td>\n",
       "      <td>61</td>\n",
       "      <td>15</td>\n",
       "      <td>1</td>\n",
       "      <td>nah think goe usf live around though</td>\n",
       "    </tr>\n",
       "  </tbody>\n",
       "</table>\n",
       "</div>"
      ],
      "text/plain": [
       "   target                                               text  num_alphabets  \\\n",
       "0       0  Go until jurong point, crazy.. Available only ...            111   \n",
       "1       0                      Ok lar... Joking wif u oni...             29   \n",
       "2       1  Free entry in 2 a wkly comp to win FA Cup fina...            155   \n",
       "3       0  U dun say so early hor... U c already then say...             49   \n",
       "4       0  Nah I don't think he goes to usf, he lives aro...             61   \n",
       "\n",
       "   word_counts  sen_counts                                        transformed  \n",
       "0           23           2  go jurong point avail bugi n great world la e ...  \n",
       "1            8           2                              ok lar joke wif u oni  \n",
       "2           37           2  free entri 2 wkli comp win fa cup final tkt 21...  \n",
       "3           13           1                u dun say earli hor u c alreadi say  \n",
       "4           15           1               nah think goe usf live around though  "
      ]
     },
     "execution_count": 41,
     "metadata": {},
     "output_type": "execute_result"
    }
   ],
   "source": [
    "df.head()"
   ]
  },
  {
   "cell_type": "code",
   "execution_count": 42,
   "id": "5bbb4b38",
   "metadata": {
    "execution": {
     "iopub.execute_input": "2024-05-16T12:46:29.822983Z",
     "iopub.status.busy": "2024-05-16T12:46:29.822551Z",
     "iopub.status.idle": "2024-05-16T12:46:29.895435Z",
     "shell.execute_reply": "2024-05-16T12:46:29.894247Z"
    },
    "papermill": {
     "duration": 0.110851,
     "end_time": "2024-05-16T12:46:29.898239",
     "exception": false,
     "start_time": "2024-05-16T12:46:29.787388",
     "status": "completed"
    },
    "tags": []
   },
   "outputs": [],
   "source": [
    "from wordcloud import WordCloud\n",
    "wc = WordCloud(width=500, height=500,min_font_size=10, background_color='white',)"
   ]
  },
  {
   "cell_type": "code",
   "execution_count": 43,
   "id": "88f10939",
   "metadata": {
    "execution": {
     "iopub.execute_input": "2024-05-16T12:46:29.971481Z",
     "iopub.status.busy": "2024-05-16T12:46:29.970152Z",
     "iopub.status.idle": "2024-05-16T12:46:30.627926Z",
     "shell.execute_reply": "2024-05-16T12:46:30.626694Z"
    },
    "papermill": {
     "duration": 0.696237,
     "end_time": "2024-05-16T12:46:30.630536",
     "exception": false,
     "start_time": "2024-05-16T12:46:29.934299",
     "status": "completed"
    },
    "tags": []
   },
   "outputs": [],
   "source": [
    "we_generate=wc.generate(df[df['target']==1]['transformed'].str.cat(sep=\" \"))"
   ]
  },
  {
   "cell_type": "code",
   "execution_count": 44,
   "id": "17582ef7",
   "metadata": {
    "execution": {
     "iopub.execute_input": "2024-05-16T12:46:30.702557Z",
     "iopub.status.busy": "2024-05-16T12:46:30.702154Z",
     "iopub.status.idle": "2024-05-16T12:46:31.102197Z",
     "shell.execute_reply": "2024-05-16T12:46:31.100995Z"
    },
    "papermill": {
     "duration": 0.440028,
     "end_time": "2024-05-16T12:46:31.105906",
     "exception": false,
     "start_time": "2024-05-16T12:46:30.665878",
     "status": "completed"
    },
    "tags": []
   },
   "outputs": [
    {
     "data": {
      "text/plain": [
       "<matplotlib.image.AxesImage at 0x7b0c647221d0>"
      ]
     },
     "execution_count": 44,
     "metadata": {},
     "output_type": "execute_result"
    },
    {
     "data": {
      "image/png": "[encoded data removed]",
      "text/plain": [
       "<Figure size 640x480 with 1 Axes>"
      ]
     },
     "metadata": {},
     "output_type": "display_data"
    }
   ],
   "source": [
    "plt.imshow(we_generate)"
   ]
  },
  {
   "cell_type": "code",
   "execution_count": 45,
   "id": "f85d85b2",
   "metadata": {
    "execution": {
     "iopub.execute_input": "2024-05-16T12:46:31.181672Z",
     "iopub.status.busy": "2024-05-16T12:46:31.180905Z",
     "iopub.status.idle": "2024-05-16T12:46:32.519965Z",
     "shell.execute_reply": "2024-05-16T12:46:32.518707Z"
    },
    "papermill": {
     "duration": 1.379451,
     "end_time": "2024-05-16T12:46:32.523374",
     "exception": false,
     "start_time": "2024-05-16T12:46:31.143923",
     "status": "completed"
    },
    "tags": []
   },
   "outputs": [
    {
     "data": {
      "text/plain": [
       "<matplotlib.image.AxesImage at 0x7b0c645fa590>"
      ]
     },
     "execution_count": 45,
     "metadata": {},
     "output_type": "execute_result"
    },
    {
     "data": {
      "image/png": "[encoded data removed]",
      "text/plain": [
       "<Figure size 640x480 with 1 Axes>"
      ]
     },
     "metadata": {},
     "output_type": "display_data"
    }
   ],
   "source": [
    "we_generateham=wc.generate(df[df['target']==0]['transformed'].str.cat(sep=\" \"))\n",
    "plt.imshow(we_generateham)"
   ]
  },
  {
   "cell_type": "markdown",
   "id": "7a48bd38",
   "metadata": {
    "papermill": {
     "duration": 0.04249,
     "end_time": "2024-05-16T12:46:32.607644",
     "exception": false,
     "start_time": "2024-05-16T12:46:32.565154",
     "status": "completed"
    },
    "tags": []
   },
   "source": [
    "***Top Spam WOrds***"
   ]
  },
  {
   "cell_type": "code",
   "execution_count": 46,
   "id": "c0969d16",
   "metadata": {
    "execution": {
     "iopub.execute_input": "2024-05-16T12:46:32.693136Z",
     "iopub.status.busy": "2024-05-16T12:46:32.692667Z",
     "iopub.status.idle": "2024-05-16T12:46:32.702728Z",
     "shell.execute_reply": "2024-05-16T12:46:32.701708Z"
    },
    "papermill": {
     "duration": 0.056743,
     "end_time": "2024-05-16T12:46:32.705213",
     "exception": false,
     "start_time": "2024-05-16T12:46:32.648470",
     "status": "completed"
    },
    "tags": []
   },
   "outputs": [],
   "source": [
    "spam_corpus=[]\n",
    "for msg in df[df['target']==1]['transformed'].tolist():\n",
    "    for words in msg.split():\n",
    "        spam_corpus.append(words)\n",
    "        "
   ]
  },
  {
   "cell_type": "code",
   "execution_count": 47,
   "id": "8604b28b",
   "metadata": {
    "execution": {
     "iopub.execute_input": "2024-05-16T12:46:32.791858Z",
     "iopub.status.busy": "2024-05-16T12:46:32.791180Z",
     "iopub.status.idle": "2024-05-16T12:46:32.797914Z",
     "shell.execute_reply": "2024-05-16T12:46:32.796865Z"
    },
    "papermill": {
     "duration": 0.052864,
     "end_time": "2024-05-16T12:46:32.800258",
     "exception": false,
     "start_time": "2024-05-16T12:46:32.747394",
     "status": "completed"
    },
    "tags": []
   },
   "outputs": [
    {
     "data": {
      "text/plain": [
       "9883"
      ]
     },
     "execution_count": 47,
     "metadata": {},
     "output_type": "execute_result"
    }
   ],
   "source": [
    "len(spam_corpus)"
   ]
  },
  {
   "cell_type": "code",
   "execution_count": 48,
   "id": "55398f8f",
   "metadata": {
    "execution": {
     "iopub.execute_input": "2024-05-16T12:46:32.885176Z",
     "iopub.status.busy": "2024-05-16T12:46:32.884400Z",
     "iopub.status.idle": "2024-05-16T12:46:33.298935Z",
     "shell.execute_reply": "2024-05-16T12:46:33.297435Z"
    },
    "papermill": {
     "duration": 0.46102,
     "end_time": "2024-05-16T12:46:33.301711",
     "exception": false,
     "start_time": "2024-05-16T12:46:32.840691",
     "status": "completed"
    },
    "tags": []
   },
   "outputs": [
    {
     "data": {
      "image/png": "[encoded data removed]",
      "text/plain": [
       "<Figure size 640x480 with 1 Axes>"
      ]
     },
     "metadata": {},
     "output_type": "display_data"
    }
   ],
   "source": [
    "from collections import Counter\n",
    "sns.barplot(x=pd.DataFrame(Counter(spam_corpus).most_common(30))[0],y=pd.DataFrame(Counter(spam_corpus).most_common(30))[1])\n",
    "plt.xticks(rotation='vertical')\n",
    "plt.show()"
   ]
  },
  {
   "cell_type": "markdown",
   "id": "ed6b411f",
   "metadata": {
    "papermill": {
     "duration": 0.038733,
     "end_time": "2024-05-16T12:46:33.379794",
     "exception": false,
     "start_time": "2024-05-16T12:46:33.341061",
     "status": "completed"
    },
    "tags": []
   },
   "source": [
    "***Top Ham Words***"
   ]
  },
  {
   "cell_type": "code",
   "execution_count": 49,
   "id": "5ff636a5",
   "metadata": {
    "execution": {
     "iopub.execute_input": "2024-05-16T12:46:33.462516Z",
     "iopub.status.busy": "2024-05-16T12:46:33.462128Z",
     "iopub.status.idle": "2024-05-16T12:46:33.477704Z",
     "shell.execute_reply": "2024-05-16T12:46:33.476428Z"
    },
    "papermill": {
     "duration": 0.059742,
     "end_time": "2024-05-16T12:46:33.480197",
     "exception": false,
     "start_time": "2024-05-16T12:46:33.420455",
     "status": "completed"
    },
    "tags": []
   },
   "outputs": [],
   "source": [
    "ham_corpus=[]\n",
    "for msg in df[df['target']==0]['transformed'].tolist():\n",
    "    for words in msg.split():\n",
    "        ham_corpus.append(words)\n",
    "        "
   ]
  },
  {
   "cell_type": "code",
   "execution_count": 50,
   "id": "0024b907",
   "metadata": {
    "execution": {
     "iopub.execute_input": "2024-05-16T12:46:33.563754Z",
     "iopub.status.busy": "2024-05-16T12:46:33.563315Z",
     "iopub.status.idle": "2024-05-16T12:46:34.001475Z",
     "shell.execute_reply": "2024-05-16T12:46:34.000288Z"
    },
    "papermill": {
     "duration": 0.485031,
     "end_time": "2024-05-16T12:46:34.004460",
     "exception": false,
     "start_time": "2024-05-16T12:46:33.519429",
     "status": "completed"
    },
    "tags": []
   },
   "outputs": [
    {
     "data": {
      "image/png": "[encoded data removed]",
      "text/plain": [
       "<Figure size 640x480 with 1 Axes>"
      ]
     },
     "metadata": {},
     "output_type": "display_data"
    }
   ],
   "source": [
    "from collections import Counter\n",
    "sns.barplot(x=pd.DataFrame(Counter(ham_corpus).most_common(30))[0],y=pd.DataFrame(Counter(ham_corpus).most_common(30))[1])\n",
    "plt.xticks(rotation='vertical')\n",
    "plt.show()"
   ]
  },
  {
   "cell_type": "markdown",
   "id": "0dbaab97",
   "metadata": {
    "papermill": {
     "duration": 0.040835,
     "end_time": "2024-05-16T12:46:34.084868",
     "exception": false,
     "start_time": "2024-05-16T12:46:34.044033",
     "status": "completed"
    },
    "tags": []
   },
   "source": [
    "# Model Building NaiveBayes+BOW"
   ]
  },
  {
   "cell_type": "code",
   "execution_count": 51,
   "id": "f2680c33",
   "metadata": {
    "execution": {
     "iopub.execute_input": "2024-05-16T12:46:34.169324Z",
     "iopub.status.busy": "2024-05-16T12:46:34.168966Z",
     "iopub.status.idle": "2024-05-16T12:46:34.173776Z",
     "shell.execute_reply": "2024-05-16T12:46:34.172664Z"
    },
    "papermill": {
     "duration": 0.048957,
     "end_time": "2024-05-16T12:46:34.175976",
     "exception": false,
     "start_time": "2024-05-16T12:46:34.127019",
     "status": "completed"
    },
    "tags": []
   },
   "outputs": [],
   "source": [
    "from sklearn.feature_extraction.text import CountVectorizer\n",
    "cv = CountVectorizer()"
   ]
  },
  {
   "cell_type": "code",
   "execution_count": 52,
   "id": "07dab392",
   "metadata": {
    "execution": {
     "iopub.execute_input": "2024-05-16T12:46:34.255391Z",
     "iopub.status.busy": "2024-05-16T12:46:34.254760Z",
     "iopub.status.idle": "2024-05-16T12:46:34.425972Z",
     "shell.execute_reply": "2024-05-16T12:46:34.424648Z"
    },
    "papermill": {
     "duration": 0.214106,
     "end_time": "2024-05-16T12:46:34.428557",
     "exception": false,
     "start_time": "2024-05-16T12:46:34.214451",
     "status": "completed"
    },
    "tags": []
   },
   "outputs": [],
   "source": [
    "X= cv.fit_transform(df['transformed']).toarray()"
   ]
  },
  {
   "cell_type": "code",
   "execution_count": 53,
   "id": "733ce678",
   "metadata": {
    "execution": {
     "iopub.execute_input": "2024-05-16T12:46:34.510669Z",
     "iopub.status.busy": "2024-05-16T12:46:34.510191Z",
     "iopub.status.idle": "2024-05-16T12:46:34.516920Z",
     "shell.execute_reply": "2024-05-16T12:46:34.515675Z"
    },
    "papermill": {
     "duration": 0.049654,
     "end_time": "2024-05-16T12:46:34.519022",
     "exception": false,
     "start_time": "2024-05-16T12:46:34.469368",
     "status": "completed"
    },
    "tags": []
   },
   "outputs": [
    {
     "data": {
      "text/plain": [
       "(5169, 6629)"
      ]
     },
     "execution_count": 53,
     "metadata": {},
     "output_type": "execute_result"
    }
   ],
   "source": [
    "X.shape"
   ]
  },
  {
   "cell_type": "code",
   "execution_count": 54,
   "id": "447c77c5",
   "metadata": {
    "execution": {
     "iopub.execute_input": "2024-05-16T12:46:34.600863Z",
     "iopub.status.busy": "2024-05-16T12:46:34.600313Z",
     "iopub.status.idle": "2024-05-16T12:46:34.607280Z",
     "shell.execute_reply": "2024-05-16T12:46:34.606052Z"
    },
    "papermill": {
     "duration": 0.051482,
     "end_time": "2024-05-16T12:46:34.609725",
     "exception": false,
     "start_time": "2024-05-16T12:46:34.558243",
     "status": "completed"
    },
    "tags": []
   },
   "outputs": [],
   "source": [
    "y = df['target'].values"
   ]
  },
  {
   "cell_type": "code",
   "execution_count": 55,
   "id": "14122672",
   "metadata": {
    "execution": {
     "iopub.execute_input": "2024-05-16T12:46:34.691139Z",
     "iopub.status.busy": "2024-05-16T12:46:34.690736Z",
     "iopub.status.idle": "2024-05-16T12:46:34.697108Z",
     "shell.execute_reply": "2024-05-16T12:46:34.696136Z"
    },
    "papermill": {
     "duration": 0.050922,
     "end_time": "2024-05-16T12:46:34.699498",
     "exception": false,
     "start_time": "2024-05-16T12:46:34.648576",
     "status": "completed"
    },
    "tags": []
   },
   "outputs": [
    {
     "data": {
      "text/plain": [
       "array([0, 0, 1, ..., 0, 0, 0])"
      ]
     },
     "execution_count": 55,
     "metadata": {},
     "output_type": "execute_result"
    }
   ],
   "source": [
    "y"
   ]
  },
  {
   "cell_type": "code",
   "execution_count": 56,
   "id": "d15aa40a",
   "metadata": {
    "execution": {
     "iopub.execute_input": "2024-05-16T12:46:34.782561Z",
     "iopub.status.busy": "2024-05-16T12:46:34.782077Z",
     "iopub.status.idle": "2024-05-16T12:46:34.971329Z",
     "shell.execute_reply": "2024-05-16T12:46:34.970190Z"
    },
    "papermill": {
     "duration": 0.234619,
     "end_time": "2024-05-16T12:46:34.974039",
     "exception": false,
     "start_time": "2024-05-16T12:46:34.739420",
     "status": "completed"
    },
    "tags": []
   },
   "outputs": [],
   "source": [
    "import numpy as np\n",
    "from sklearn.model_selection import train_test_split\n",
    "\n",
    "X_train, X_test, y_train, y_test = train_test_split( X, y, test_size=0.33, random_state=42)"
   ]
  },
  {
   "cell_type": "code",
   "execution_count": 57,
   "id": "deea3c87",
   "metadata": {
    "execution": {
     "iopub.execute_input": "2024-05-16T12:46:35.057607Z",
     "iopub.status.busy": "2024-05-16T12:46:35.056623Z",
     "iopub.status.idle": "2024-05-16T12:46:35.064803Z",
     "shell.execute_reply": "2024-05-16T12:46:35.063873Z"
    },
    "papermill": {
     "duration": 0.052603,
     "end_time": "2024-05-16T12:46:35.067180",
     "exception": false,
     "start_time": "2024-05-16T12:46:35.014577",
     "status": "completed"
    },
    "tags": []
   },
   "outputs": [],
   "source": [
    "from sklearn.naive_bayes import GaussianNB, MultinomialNB,BernoulliNB"
   ]
  },
  {
   "cell_type": "code",
   "execution_count": 58,
   "id": "74946187",
   "metadata": {
    "execution": {
     "iopub.execute_input": "2024-05-16T12:46:35.163496Z",
     "iopub.status.busy": "2024-05-16T12:46:35.163130Z",
     "iopub.status.idle": "2024-05-16T12:46:35.169286Z",
     "shell.execute_reply": "2024-05-16T12:46:35.167056Z"
    },
    "papermill": {
     "duration": 0.063275,
     "end_time": "2024-05-16T12:46:35.172458",
     "exception": false,
     "start_time": "2024-05-16T12:46:35.109183",
     "status": "completed"
    },
    "tags": []
   },
   "outputs": [],
   "source": [
    "gnb= GaussianNB()\n",
    "mnb= MultinomialNB()\n",
    "bnb= BernoulliNB()"
   ]
  },
  {
   "cell_type": "code",
   "execution_count": 59,
   "id": "8285a86a",
   "metadata": {
    "execution": {
     "iopub.execute_input": "2024-05-16T12:46:35.260085Z",
     "iopub.status.busy": "2024-05-16T12:46:35.259661Z",
     "iopub.status.idle": "2024-05-16T12:46:35.265895Z",
     "shell.execute_reply": "2024-05-16T12:46:35.263934Z"
    },
    "papermill": {
     "duration": 0.050018,
     "end_time": "2024-05-16T12:46:35.268827",
     "exception": false,
     "start_time": "2024-05-16T12:46:35.218809",
     "status": "completed"
    },
    "tags": []
   },
   "outputs": [],
   "source": [
    "from sklearn.metrics import accuracy_score,confusion_matrix,precision_score\n"
   ]
  },
  {
   "cell_type": "code",
   "execution_count": 60,
   "id": "32e2c95a",
   "metadata": {
    "execution": {
     "iopub.execute_input": "2024-05-16T12:46:35.349148Z",
     "iopub.status.busy": "2024-05-16T12:46:35.348749Z",
     "iopub.status.idle": "2024-05-16T12:46:36.005553Z",
     "shell.execute_reply": "2024-05-16T12:46:36.003690Z"
    },
    "papermill": {
     "duration": 0.700824,
     "end_time": "2024-05-16T12:46:36.009095",
     "exception": false,
     "start_time": "2024-05-16T12:46:35.308271",
     "status": "completed"
    },
    "tags": []
   },
   "outputs": [
    {
     "name": "stdout",
     "output_type": "stream",
     "text": [
      "0.8751465416178195\n",
      "[[1293  179]\n",
      " [  34  200]]\n",
      "0.5277044854881267\n"
     ]
    }
   ],
   "source": [
    "gnb.fit(X_train, y_train)\n",
    "y_predict1 = gnb.predict(X_test)\n",
    "print(accuracy_score(y_test,y_predict1))\n",
    "print(confusion_matrix(y_test, y_predict1))\n",
    "print(precision_score(y_test, y_predict1))"
   ]
  },
  {
   "cell_type": "code",
   "execution_count": 61,
   "id": "db47d2c6",
   "metadata": {
    "execution": {
     "iopub.execute_input": "2024-05-16T12:46:36.093117Z",
     "iopub.status.busy": "2024-05-16T12:46:36.092749Z",
     "iopub.status.idle": "2024-05-16T12:46:36.409709Z",
     "shell.execute_reply": "2024-05-16T12:46:36.408372Z"
    },
    "papermill": {
     "duration": 0.362298,
     "end_time": "2024-05-16T12:46:36.413131",
     "exception": false,
     "start_time": "2024-05-16T12:46:36.050833",
     "status": "completed"
    },
    "tags": []
   },
   "outputs": [
    {
     "name": "stdout",
     "output_type": "stream",
     "text": [
      "0.9753810082063306\n",
      "[[1449   23]\n",
      " [  19  215]]\n",
      "0.9033613445378151\n"
     ]
    }
   ],
   "source": [
    "mnb.fit(X_train, y_train)\n",
    "y_predict2 = mnb.predict(X_test)\n",
    "print(accuracy_score(y_test,y_predict2))\n",
    "print(confusion_matrix(y_test, y_predict2))\n",
    "print(precision_score(y_test, y_predict2))"
   ]
  },
  {
   "cell_type": "code",
   "execution_count": 62,
   "id": "439a8b56",
   "metadata": {
    "execution": {
     "iopub.execute_input": "2024-05-16T12:46:36.538946Z",
     "iopub.status.busy": "2024-05-16T12:46:36.538549Z",
     "iopub.status.idle": "2024-05-16T12:46:37.067810Z",
     "shell.execute_reply": "2024-05-16T12:46:37.066649Z"
    },
    "papermill": {
     "duration": 0.588436,
     "end_time": "2024-05-16T12:46:37.071070",
     "exception": false,
     "start_time": "2024-05-16T12:46:36.482634",
     "status": "completed"
    },
    "tags": []
   },
   "outputs": [
    {
     "name": "stdout",
     "output_type": "stream",
     "text": [
      "0.9654161781946072\n",
      "[[1467    5]\n",
      " [  54  180]]\n",
      "0.972972972972973\n"
     ]
    }
   ],
   "source": [
    "bnb.fit(X_train, y_train)\n",
    "y_predict3 = bnb.predict(X_test)\n",
    "print(accuracy_score(y_test,y_predict3))\n",
    "print(confusion_matrix(y_test, y_predict3))\n",
    "print(precision_score(y_test, y_predict3))"
   ]
  },
  {
   "cell_type": "markdown",
   "id": "ad8fed5f",
   "metadata": {
    "papermill": {
     "duration": 0.052259,
     "end_time": "2024-05-16T12:46:37.200067",
     "exception": false,
     "start_time": "2024-05-16T12:46:37.147808",
     "status": "completed"
    },
    "tags": []
   },
   "source": [
    "# Model Building Naive Bayes + TFIDF Vectorizer"
   ]
  },
  {
   "cell_type": "code",
   "execution_count": 63,
   "id": "58c80217",
   "metadata": {
    "execution": {
     "iopub.execute_input": "2024-05-16T12:46:37.286138Z",
     "iopub.status.busy": "2024-05-16T12:46:37.285735Z",
     "iopub.status.idle": "2024-05-16T12:46:37.290821Z",
     "shell.execute_reply": "2024-05-16T12:46:37.289674Z"
    },
    "papermill": {
     "duration": 0.052073,
     "end_time": "2024-05-16T12:46:37.292993",
     "exception": false,
     "start_time": "2024-05-16T12:46:37.240920",
     "status": "completed"
    },
    "tags": []
   },
   "outputs": [],
   "source": [
    "from sklearn.feature_extraction.text import TfidfVectorizer\n",
    "vc = TfidfVectorizer()"
   ]
  },
  {
   "cell_type": "code",
   "execution_count": 64,
   "id": "fea68577",
   "metadata": {
    "execution": {
     "iopub.execute_input": "2024-05-16T12:46:37.376164Z",
     "iopub.status.busy": "2024-05-16T12:46:37.375540Z",
     "iopub.status.idle": "2024-05-16T12:46:37.621240Z",
     "shell.execute_reply": "2024-05-16T12:46:37.620029Z"
    },
    "papermill": {
     "duration": 0.291532,
     "end_time": "2024-05-16T12:46:37.623955",
     "exception": false,
     "start_time": "2024-05-16T12:46:37.332423",
     "status": "completed"
    },
    "tags": []
   },
   "outputs": [],
   "source": [
    "X1= vc.fit_transform(df['transformed']).toarray()"
   ]
  },
  {
   "cell_type": "code",
   "execution_count": 65,
   "id": "c380141f",
   "metadata": {
    "execution": {
     "iopub.execute_input": "2024-05-16T12:46:37.706318Z",
     "iopub.status.busy": "2024-05-16T12:46:37.705932Z",
     "iopub.status.idle": "2024-05-16T12:46:37.713465Z",
     "shell.execute_reply": "2024-05-16T12:46:37.712412Z"
    },
    "papermill": {
     "duration": 0.050805,
     "end_time": "2024-05-16T12:46:37.715605",
     "exception": false,
     "start_time": "2024-05-16T12:46:37.664800",
     "status": "completed"
    },
    "tags": []
   },
   "outputs": [
    {
     "data": {
      "text/plain": [
       "(5169, 6629)"
      ]
     },
     "execution_count": 65,
     "metadata": {},
     "output_type": "execute_result"
    }
   ],
   "source": [
    "X.shape"
   ]
  },
  {
   "cell_type": "code",
   "execution_count": 66,
   "id": "de497960",
   "metadata": {
    "execution": {
     "iopub.execute_input": "2024-05-16T12:46:37.800573Z",
     "iopub.status.busy": "2024-05-16T12:46:37.799477Z",
     "iopub.status.idle": "2024-05-16T12:46:37.969199Z",
     "shell.execute_reply": "2024-05-16T12:46:37.967931Z"
    },
    "papermill": {
     "duration": 0.216051,
     "end_time": "2024-05-16T12:46:37.972020",
     "exception": false,
     "start_time": "2024-05-16T12:46:37.755969",
     "status": "completed"
    },
    "tags": []
   },
   "outputs": [],
   "source": [
    "X_train1, X_test1, y_train1, y_test1 = train_test_split( X1, y, test_size=0.33, random_state=42)"
   ]
  },
  {
   "cell_type": "code",
   "execution_count": 67,
   "id": "d4471055",
   "metadata": {
    "execution": {
     "iopub.execute_input": "2024-05-16T12:46:38.058855Z",
     "iopub.status.busy": "2024-05-16T12:46:38.058341Z",
     "iopub.status.idle": "2024-05-16T12:46:38.655329Z",
     "shell.execute_reply": "2024-05-16T12:46:38.653633Z"
    },
    "papermill": {
     "duration": 0.644307,
     "end_time": "2024-05-16T12:46:38.657704",
     "exception": false,
     "start_time": "2024-05-16T12:46:38.013397",
     "status": "completed"
    },
    "tags": []
   },
   "outputs": [
    {
     "name": "stdout",
     "output_type": "stream",
     "text": [
      "0.8733880422039859\n",
      "[[1294  178]\n",
      " [  38  196]]\n",
      "0.5240641711229946\n"
     ]
    }
   ],
   "source": [
    "gnb.fit(X_train1, y_train1)\n",
    "y_predict4 = gnb.predict(X_test1)\n",
    "print(accuracy_score(y_test1,y_predict4))\n",
    "print(confusion_matrix(y_test1, y_predict4))\n",
    "print(precision_score(y_test1, y_predict4))"
   ]
  },
  {
   "cell_type": "code",
   "execution_count": 68,
   "id": "3e7f1768",
   "metadata": {
    "execution": {
     "iopub.execute_input": "2024-05-16T12:46:38.743935Z",
     "iopub.status.busy": "2024-05-16T12:46:38.743533Z",
     "iopub.status.idle": "2024-05-16T12:46:38.849908Z",
     "shell.execute_reply": "2024-05-16T12:46:38.848701Z"
    },
    "papermill": {
     "duration": 0.153584,
     "end_time": "2024-05-16T12:46:38.853426",
     "exception": false,
     "start_time": "2024-05-16T12:46:38.699842",
     "status": "completed"
    },
    "tags": []
   },
   "outputs": [
    {
     "name": "stdout",
     "output_type": "stream",
     "text": [
      "0.9519343493552169\n",
      "[[1472    0]\n",
      " [  82  152]]\n",
      "1.0\n"
     ]
    }
   ],
   "source": [
    "mnb.fit(X_train1, y_train1)\n",
    "y_predict5 = mnb.predict(X_test1)\n",
    "print(accuracy_score(y_test1,y_predict5))\n",
    "print(confusion_matrix(y_test1, y_predict5))\n",
    "print(precision_score(y_test1, y_predict5))"
   ]
  },
  {
   "cell_type": "code",
   "execution_count": 69,
   "id": "903e66b2",
   "metadata": {
    "execution": {
     "iopub.execute_input": "2024-05-16T12:46:38.984658Z",
     "iopub.status.busy": "2024-05-16T12:46:38.984260Z",
     "iopub.status.idle": "2024-05-16T12:46:39.336818Z",
     "shell.execute_reply": "2024-05-16T12:46:39.335610Z"
    },
    "papermill": {
     "duration": 0.414671,
     "end_time": "2024-05-16T12:46:39.340705",
     "exception": false,
     "start_time": "2024-05-16T12:46:38.926034",
     "status": "completed"
    },
    "tags": []
   },
   "outputs": [
    {
     "name": "stdout",
     "output_type": "stream",
     "text": [
      "0.9654161781946072\n",
      "[[1467    5]\n",
      " [  54  180]]\n",
      "0.972972972972973\n"
     ]
    }
   ],
   "source": [
    "bnb.fit(X_train1, y_train1)\n",
    "y_predict6 = bnb.predict(X_test1)\n",
    "print(accuracy_score(y_test1,y_predict6))\n",
    "print(confusion_matrix(y_test1, y_predict6))\n",
    "print(precision_score(y_test1, y_predict6))"
   ]
  },
  {
   "cell_type": "markdown",
   "id": "e8b886f0",
   "metadata": {
    "papermill": {
     "duration": 0.053484,
     "end_time": "2024-05-16T12:46:39.465041",
     "exception": false,
     "start_time": "2024-05-16T12:46:39.411557",
     "status": "completed"
    },
    "tags": []
   },
   "source": [
    "# **We Will choose model tfidf->mnb**"
   ]
  },
  {
   "cell_type": "code",
   "execution_count": 70,
   "id": "2490f302",
   "metadata": {
    "execution": {
     "iopub.execute_input": "2024-05-16T12:46:39.546579Z",
     "iopub.status.busy": "2024-05-16T12:46:39.546217Z",
     "iopub.status.idle": "2024-05-16T12:46:39.906925Z",
     "shell.execute_reply": "2024-05-16T12:46:39.905846Z"
    },
    "papermill": {
     "duration": 0.404877,
     "end_time": "2024-05-16T12:46:39.909534",
     "exception": false,
     "start_time": "2024-05-16T12:46:39.504657",
     "status": "completed"
    },
    "tags": []
   },
   "outputs": [],
   "source": [
    "from sklearn.linear_model import LogisticRegression\n",
    "from sklearn.svm import SVC\n",
    "from sklearn.naive_bayes import MultinomialNB\n",
    "from sklearn.tree import DecisionTreeClassifier\n",
    "from sklearn.neighbors import KNeighborsClassifier\n",
    "from sklearn.ensemble import RandomForestClassifier\n",
    "from sklearn.ensemble import AdaBoostClassifier\n",
    "from sklearn.ensemble import BaggingClassifier\n",
    "from sklearn.ensemble import ExtraTreesClassifier\n",
    "from sklearn.ensemble import GradientBoostingClassifier\n",
    "from xgboost import XGBClassifier"
   ]
  },
  {
   "cell_type": "code",
   "execution_count": 71,
   "id": "dcffdf5b",
   "metadata": {
    "execution": {
     "iopub.execute_input": "2024-05-16T12:46:39.993816Z",
     "iopub.status.busy": "2024-05-16T12:46:39.993386Z",
     "iopub.status.idle": "2024-05-16T12:46:40.001564Z",
     "shell.execute_reply": "2024-05-16T12:46:40.000513Z"
    },
    "papermill": {
     "duration": 0.052957,
     "end_time": "2024-05-16T12:46:40.003946",
     "exception": false,
     "start_time": "2024-05-16T12:46:39.950989",
     "status": "completed"
    },
    "tags": []
   },
   "outputs": [],
   "source": [
    "svc = SVC(kernel='sigmoid', gamma=1.0)\n",
    "knc = KNeighborsClassifier()\n",
    "mnb = MultinomialNB()\n",
    "dtc = DecisionTreeClassifier(max_depth=5)\n",
    "lrc = LogisticRegression(solver='liblinear', penalty='l1')\n",
    "rfc = RandomForestClassifier(n_estimators=50, random_state=2)\n",
    "abc = AdaBoostClassifier(n_estimators=50, random_state=2)\n",
    "bc = BaggingClassifier(n_estimators=50, random_state=2)\n",
    "etc = ExtraTreesClassifier(n_estimators=50, random_state=2)\n",
    "gbdt = GradientBoostingClassifier(n_estimators=50,random_state=2)\n",
    "xgb = XGBClassifier(n_estimators=50,random_state=2)"
   ]
  },
  {
   "cell_type": "code",
   "execution_count": 72,
   "id": "16f26fb7",
   "metadata": {
    "execution": {
     "iopub.execute_input": "2024-05-16T12:46:40.086695Z",
     "iopub.status.busy": "2024-05-16T12:46:40.085957Z",
     "iopub.status.idle": "2024-05-16T12:46:40.091141Z",
     "shell.execute_reply": "2024-05-16T12:46:40.090085Z"
    },
    "papermill": {
     "duration": 0.047809,
     "end_time": "2024-05-16T12:46:40.093142",
     "exception": false,
     "start_time": "2024-05-16T12:46:40.045333",
     "status": "completed"
    },
    "tags": []
   },
   "outputs": [],
   "source": [
    "clfs = {\n",
    "    'SVC' : svc,\n",
    "    'KN' : knc, \n",
    "    'NB': mnb, \n",
    "    'DT': dtc, \n",
    "    'LR': lrc, \n",
    "    'RF': rfc, \n",
    "    'AdaBoost': abc, \n",
    "    'BgC': bc, \n",
    "    'ETC': etc,\n",
    "    'GBDT':gbdt,\n",
    "    'xgb':xgb\n",
    "}"
   ]
  },
  {
   "cell_type": "code",
   "execution_count": 73,
   "id": "e9bb76f9",
   "metadata": {
    "execution": {
     "iopub.execute_input": "2024-05-16T12:46:40.176236Z",
     "iopub.status.busy": "2024-05-16T12:46:40.175864Z",
     "iopub.status.idle": "2024-05-16T12:46:40.181728Z",
     "shell.execute_reply": "2024-05-16T12:46:40.180640Z"
    },
    "papermill": {
     "duration": 0.050337,
     "end_time": "2024-05-16T12:46:40.184063",
     "exception": false,
     "start_time": "2024-05-16T12:46:40.133726",
     "status": "completed"
    },
    "tags": []
   },
   "outputs": [],
   "source": [
    "def train_classifier(clf,X_train,y_train,X_test,y_test):\n",
    "    clf.fit(X_train,y_train)\n",
    "    y_pred = clf.predict(X_test)\n",
    "    accuracy = accuracy_score(y_test,y_pred)\n",
    "    precision = precision_score(y_test,y_pred)\n",
    "    \n",
    "    return accuracy,precision"
   ]
  },
  {
   "cell_type": "code",
   "execution_count": 74,
   "id": "44fec74a",
   "metadata": {
    "execution": {
     "iopub.execute_input": "2024-05-16T12:46:40.267359Z",
     "iopub.status.busy": "2024-05-16T12:46:40.266963Z",
     "iopub.status.idle": "2024-05-16T12:46:59.713480Z",
     "shell.execute_reply": "2024-05-16T12:46:59.712262Z"
    },
    "papermill": {
     "duration": 19.490646,
     "end_time": "2024-05-16T12:46:59.716039",
     "exception": false,
     "start_time": "2024-05-16T12:46:40.225393",
     "status": "completed"
    },
    "tags": []
   },
   "outputs": [
    {
     "data": {
      "text/plain": [
       "(0.9730363423212193, 0.9519230769230769)"
      ]
     },
     "execution_count": 74,
     "metadata": {},
     "output_type": "execute_result"
    }
   ],
   "source": [
    "#using x_train of tfidf\n",
    "train_classifier(svc,X_train1,y_train1,X_test1,y_test1)"
   ]
  },
  {
   "cell_type": "code",
   "execution_count": 75,
   "id": "49d1627e",
   "metadata": {
    "execution": {
     "iopub.execute_input": "2024-05-16T12:46:59.798569Z",
     "iopub.status.busy": "2024-05-16T12:46:59.798192Z",
     "iopub.status.idle": "2024-05-16T12:51:38.637542Z",
     "shell.execute_reply": "2024-05-16T12:51:38.636668Z"
    },
    "papermill": {
     "duration": 278.8835,
     "end_time": "2024-05-16T12:51:38.639955",
     "exception": false,
     "start_time": "2024-05-16T12:46:59.756455",
     "status": "completed"
    },
    "tags": []
   },
   "outputs": [
    {
     "name": "stdout",
     "output_type": "stream",
     "text": [
      "For  SVC\n",
      "Accuracy -  0.9730363423212193\n",
      "Precision -  0.9519230769230769\n",
      "For  KN\n",
      "Accuracy -  0.8921453692848769\n",
      "Precision -  1.0\n",
      "For  NB\n",
      "Accuracy -  0.9519343493552169\n",
      "Precision -  1.0\n",
      "For  DT\n",
      "Accuracy -  0.9349355216881594\n",
      "Precision -  0.8121827411167513\n",
      "For  LR\n",
      "Accuracy -  0.9425556858147714\n",
      "Precision -  0.8953488372093024\n",
      "For  RF\n",
      "Accuracy -  0.9683470105509965\n",
      "Precision -  0.9891304347826086\n",
      "For  AdaBoost\n",
      "Accuracy -  0.9531066822977726\n",
      "Precision -  0.8888888888888888\n",
      "For  BgC\n",
      "Accuracy -  0.9601406799531067\n",
      "Precision -  0.8878504672897196\n",
      "For  ETC\n",
      "Accuracy -  0.9736225087924971\n",
      "Precision -  0.9846153846153847\n",
      "For  GBDT\n",
      "Accuracy -  0.9536928487690504\n",
      "Precision -  0.9696969696969697\n",
      "For  xgb\n",
      "Accuracy -  0.9695193434935522\n",
      "Precision -  0.9375\n"
     ]
    }
   ],
   "source": [
    "accuracy_scores = []\n",
    "precision_scores = []\n",
    "\n",
    "for name,clf in clfs.items():\n",
    "    \n",
    "    current_accuracy,current_precision = train_classifier(clf, X_train1,y_train1,X_test1,y_test1)\n",
    "    \n",
    "    print(\"For \",name)\n",
    "    print(\"Accuracy - \",current_accuracy)\n",
    "    print(\"Precision - \",current_precision)\n",
    "    \n",
    "    accuracy_scores.append(current_accuracy)\n",
    "    precision_scores.append(current_precision)"
   ]
  },
  {
   "cell_type": "code",
   "execution_count": 76,
   "id": "383c7383",
   "metadata": {
    "execution": {
     "iopub.execute_input": "2024-05-16T12:51:38.725089Z",
     "iopub.status.busy": "2024-05-16T12:51:38.724297Z",
     "iopub.status.idle": "2024-05-16T12:51:38.731265Z",
     "shell.execute_reply": "2024-05-16T12:51:38.730107Z"
    },
    "papermill": {
     "duration": 0.05313,
     "end_time": "2024-05-16T12:51:38.734202",
     "exception": false,
     "start_time": "2024-05-16T12:51:38.681072",
     "status": "completed"
    },
    "tags": []
   },
   "outputs": [],
   "source": [
    "performance_df = pd.DataFrame({'Algorithm':clfs.keys(),'Accuracy':accuracy_scores,'Precision':precision_scores}).sort_values('Precision',ascending=False)"
   ]
  },
  {
   "cell_type": "code",
   "execution_count": 77,
   "id": "755208bc",
   "metadata": {
    "execution": {
     "iopub.execute_input": "2024-05-16T12:51:38.819580Z",
     "iopub.status.busy": "2024-05-16T12:51:38.819161Z",
     "iopub.status.idle": "2024-05-16T12:51:38.832995Z",
     "shell.execute_reply": "2024-05-16T12:51:38.831881Z"
    },
    "papermill": {
     "duration": 0.060389,
     "end_time": "2024-05-16T12:51:38.835574",
     "exception": false,
     "start_time": "2024-05-16T12:51:38.775185",
     "status": "completed"
    },
    "tags": []
   },
   "outputs": [
    {
     "data": {
      "text/html": [
       "<div>\n",
       "<style scoped>\n",
       "    .dataframe tbody tr th:only-of-type {\n",
       "        vertical-align: middle;\n",
       "    }\n",
       "\n",
       "    .dataframe tbody tr th {\n",
       "        vertical-align: top;\n",
       "    }\n",
       "\n",
       "    .dataframe thead th {\n",
       "        text-align: right;\n",
       "    }\n",
       "</style>\n",
       "<table border=\"1\" class=\"dataframe\">\n",
       "  <thead>\n",
       "    <tr style=\"text-align: right;\">\n",
       "      <th></th>\n",
       "      <th>Algorithm</th>\n",
       "      <th>Accuracy</th>\n",
       "      <th>Precision</th>\n",
       "    </tr>\n",
       "  </thead>\n",
       "  <tbody>\n",
       "    <tr>\n",
       "      <th>1</th>\n",
       "      <td>KN</td>\n",
       "      <td>0.892145</td>\n",
       "      <td>1.000000</td>\n",
       "    </tr>\n",
       "    <tr>\n",
       "      <th>2</th>\n",
       "      <td>NB</td>\n",
       "      <td>0.951934</td>\n",
       "      <td>1.000000</td>\n",
       "    </tr>\n",
       "    <tr>\n",
       "      <th>5</th>\n",
       "      <td>RF</td>\n",
       "      <td>0.968347</td>\n",
       "      <td>0.989130</td>\n",
       "    </tr>\n",
       "    <tr>\n",
       "      <th>8</th>\n",
       "      <td>ETC</td>\n",
       "      <td>0.973623</td>\n",
       "      <td>0.984615</td>\n",
       "    </tr>\n",
       "    <tr>\n",
       "      <th>9</th>\n",
       "      <td>GBDT</td>\n",
       "      <td>0.953693</td>\n",
       "      <td>0.969697</td>\n",
       "    </tr>\n",
       "    <tr>\n",
       "      <th>0</th>\n",
       "      <td>SVC</td>\n",
       "      <td>0.973036</td>\n",
       "      <td>0.951923</td>\n",
       "    </tr>\n",
       "    <tr>\n",
       "      <th>10</th>\n",
       "      <td>xgb</td>\n",
       "      <td>0.969519</td>\n",
       "      <td>0.937500</td>\n",
       "    </tr>\n",
       "    <tr>\n",
       "      <th>4</th>\n",
       "      <td>LR</td>\n",
       "      <td>0.942556</td>\n",
       "      <td>0.895349</td>\n",
       "    </tr>\n",
       "    <tr>\n",
       "      <th>6</th>\n",
       "      <td>AdaBoost</td>\n",
       "      <td>0.953107</td>\n",
       "      <td>0.888889</td>\n",
       "    </tr>\n",
       "    <tr>\n",
       "      <th>7</th>\n",
       "      <td>BgC</td>\n",
       "      <td>0.960141</td>\n",
       "      <td>0.887850</td>\n",
       "    </tr>\n",
       "    <tr>\n",
       "      <th>3</th>\n",
       "      <td>DT</td>\n",
       "      <td>0.934936</td>\n",
       "      <td>0.812183</td>\n",
       "    </tr>\n",
       "  </tbody>\n",
       "</table>\n",
       "</div>"
      ],
      "text/plain": [
       "   Algorithm  Accuracy  Precision\n",
       "1         KN  0.892145   1.000000\n",
       "2         NB  0.951934   1.000000\n",
       "5         RF  0.968347   0.989130\n",
       "8        ETC  0.973623   0.984615\n",
       "9       GBDT  0.953693   0.969697\n",
       "0        SVC  0.973036   0.951923\n",
       "10       xgb  0.969519   0.937500\n",
       "4         LR  0.942556   0.895349\n",
       "6   AdaBoost  0.953107   0.888889\n",
       "7        BgC  0.960141   0.887850\n",
       "3         DT  0.934936   0.812183"
      ]
     },
     "execution_count": 77,
     "metadata": {},
     "output_type": "execute_result"
    }
   ],
   "source": [
    "performance_df"
   ]
  },
  {
   "cell_type": "code",
   "execution_count": 78,
   "id": "11863eb0",
   "metadata": {
    "execution": {
     "iopub.execute_input": "2024-05-16T12:51:38.924512Z",
     "iopub.status.busy": "2024-05-16T12:51:38.923692Z",
     "iopub.status.idle": "2024-05-16T12:51:38.933950Z",
     "shell.execute_reply": "2024-05-16T12:51:38.932568Z"
    },
    "papermill": {
     "duration": 0.056953,
     "end_time": "2024-05-16T12:51:38.936354",
     "exception": false,
     "start_time": "2024-05-16T12:51:38.879401",
     "status": "completed"
    },
    "tags": []
   },
   "outputs": [],
   "source": [
    "performance_df1 = pd.melt(performance_df, id_vars = \"Algorithm\")"
   ]
  },
  {
   "cell_type": "code",
   "execution_count": 79,
   "id": "7930970e",
   "metadata": {
    "execution": {
     "iopub.execute_input": "2024-05-16T12:51:39.021351Z",
     "iopub.status.busy": "2024-05-16T12:51:39.020936Z",
     "iopub.status.idle": "2024-05-16T12:51:39.559474Z",
     "shell.execute_reply": "2024-05-16T12:51:39.558285Z"
    },
    "papermill": {
     "duration": 0.583984,
     "end_time": "2024-05-16T12:51:39.562170",
     "exception": false,
     "start_time": "2024-05-16T12:51:38.978186",
     "status": "completed"
    },
    "tags": []
   },
   "outputs": [
    {
     "data": {
      "image/png": "[encoded data removed]",
      "text/plain": [
       "<Figure size 613.5x500 with 1 Axes>"
      ]
     },
     "metadata": {},
     "output_type": "display_data"
    }
   ],
   "source": [
    "sns.catplot(x = 'Algorithm', y='value', \n",
    "               hue = 'variable',data=performance_df1, kind='bar',height=5)\n",
    "plt.ylim(0.5,1.0)\n",
    "plt.xticks(rotation='vertical')\n",
    "plt.show()"
   ]
  },
  {
   "cell_type": "markdown",
   "id": "d56fcfaf",
   "metadata": {
    "papermill": {
     "duration": 0.044258,
     "end_time": "2024-05-16T12:51:39.649762",
     "exception": false,
     "start_time": "2024-05-16T12:51:39.605504",
     "status": "completed"
    },
    "tags": []
   },
   "source": [
    "# **model improve->Change the max_features parameter of TfIdf**"
   ]
  },
  {
   "cell_type": "code",
   "execution_count": 80,
   "id": "0995c50c",
   "metadata": {
    "execution": {
     "iopub.execute_input": "2024-05-16T12:51:39.738521Z",
     "iopub.status.busy": "2024-05-16T12:51:39.738134Z",
     "iopub.status.idle": "2024-05-16T12:51:40.043121Z",
     "shell.execute_reply": "2024-05-16T12:51:40.041995Z"
    },
    "papermill": {
     "duration": 0.352703,
     "end_time": "2024-05-16T12:51:40.045885",
     "exception": false,
     "start_time": "2024-05-16T12:51:39.693182",
     "status": "completed"
    },
    "tags": []
   },
   "outputs": [],
   "source": [
    "vc1 = TfidfVectorizer(max_features=3000)\n",
    "X_new= cv.fit_transform(df['transformed']).toarray()\n",
    "X_train_new, X_test_new, y_train_new, y_test_new = train_test_split( X_new, y, test_size=0.33, random_state=42)"
   ]
  },
  {
   "cell_type": "code",
   "execution_count": 81,
   "id": "2fbc9d0f",
   "metadata": {
    "execution": {
     "iopub.execute_input": "2024-05-16T12:51:40.131253Z",
     "iopub.status.busy": "2024-05-16T12:51:40.130851Z",
     "iopub.status.idle": "2024-05-16T12:51:40.145409Z",
     "shell.execute_reply": "2024-05-16T12:51:40.144060Z"
    },
    "papermill": {
     "duration": 0.060572,
     "end_time": "2024-05-16T12:51:40.147831",
     "exception": false,
     "start_time": "2024-05-16T12:51:40.087259",
     "status": "completed"
    },
    "tags": []
   },
   "outputs": [
    {
     "data": {
      "text/html": [
       "<div>\n",
       "<style scoped>\n",
       "    .dataframe tbody tr th:only-of-type {\n",
       "        vertical-align: middle;\n",
       "    }\n",
       "\n",
       "    .dataframe tbody tr th {\n",
       "        vertical-align: top;\n",
       "    }\n",
       "\n",
       "    .dataframe thead th {\n",
       "        text-align: right;\n",
       "    }\n",
       "</style>\n",
       "<table border=\"1\" class=\"dataframe\">\n",
       "  <thead>\n",
       "    <tr style=\"text-align: right;\">\n",
       "      <th></th>\n",
       "      <th>target</th>\n",
       "      <th>text</th>\n",
       "      <th>num_alphabets</th>\n",
       "      <th>word_counts</th>\n",
       "      <th>sen_counts</th>\n",
       "      <th>transformed</th>\n",
       "    </tr>\n",
       "  </thead>\n",
       "  <tbody>\n",
       "    <tr>\n",
       "      <th>0</th>\n",
       "      <td>0</td>\n",
       "      <td>Go until jurong point, crazy.. Available only ...</td>\n",
       "      <td>111</td>\n",
       "      <td>23</td>\n",
       "      <td>2</td>\n",
       "      <td>go jurong point avail bugi n great world la e ...</td>\n",
       "    </tr>\n",
       "    <tr>\n",
       "      <th>1</th>\n",
       "      <td>0</td>\n",
       "      <td>Ok lar... Joking wif u oni...</td>\n",
       "      <td>29</td>\n",
       "      <td>8</td>\n",
       "      <td>2</td>\n",
       "      <td>ok lar joke wif u oni</td>\n",
       "    </tr>\n",
       "    <tr>\n",
       "      <th>2</th>\n",
       "      <td>1</td>\n",
       "      <td>Free entry in 2 a wkly comp to win FA Cup fina...</td>\n",
       "      <td>155</td>\n",
       "      <td>37</td>\n",
       "      <td>2</td>\n",
       "      <td>free entri 2 wkli comp win fa cup final tkt 21...</td>\n",
       "    </tr>\n",
       "    <tr>\n",
       "      <th>3</th>\n",
       "      <td>0</td>\n",
       "      <td>U dun say so early hor... U c already then say...</td>\n",
       "      <td>49</td>\n",
       "      <td>13</td>\n",
       "      <td>1</td>\n",
       "      <td>u dun say earli hor u c alreadi say</td>\n",
       "    </tr>\n",
       "    <tr>\n",
       "      <th>4</th>\n",
       "      <td>0</td>\n",
       "      <td>Nah I don't think he goes to usf, he lives aro...</td>\n",
       "      <td>61</td>\n",
       "      <td>15</td>\n",
       "      <td>1</td>\n",
       "      <td>nah think goe usf live around though</td>\n",
       "    </tr>\n",
       "    <tr>\n",
       "      <th>...</th>\n",
       "      <td>...</td>\n",
       "      <td>...</td>\n",
       "      <td>...</td>\n",
       "      <td>...</td>\n",
       "      <td>...</td>\n",
       "      <td>...</td>\n",
       "    </tr>\n",
       "    <tr>\n",
       "      <th>5567</th>\n",
       "      <td>1</td>\n",
       "      <td>This is the 2nd time we have tried 2 contact u...</td>\n",
       "      <td>161</td>\n",
       "      <td>35</td>\n",
       "      <td>4</td>\n",
       "      <td>2nd time tri 2 contact u pound prize 2 claim e...</td>\n",
       "    </tr>\n",
       "    <tr>\n",
       "      <th>5568</th>\n",
       "      <td>0</td>\n",
       "      <td>Will Ì_ b going to esplanade fr home?</td>\n",
       "      <td>37</td>\n",
       "      <td>9</td>\n",
       "      <td>1</td>\n",
       "      <td>b go esplanad fr home</td>\n",
       "    </tr>\n",
       "    <tr>\n",
       "      <th>5569</th>\n",
       "      <td>0</td>\n",
       "      <td>Pity, * was in mood for that. So...any other s...</td>\n",
       "      <td>57</td>\n",
       "      <td>15</td>\n",
       "      <td>2</td>\n",
       "      <td>piti mood suggest</td>\n",
       "    </tr>\n",
       "    <tr>\n",
       "      <th>5570</th>\n",
       "      <td>0</td>\n",
       "      <td>The guy did some bitching but I acted like i'd...</td>\n",
       "      <td>125</td>\n",
       "      <td>27</td>\n",
       "      <td>1</td>\n",
       "      <td>guy bitch act like interest buy someth els nex...</td>\n",
       "    </tr>\n",
       "    <tr>\n",
       "      <th>5571</th>\n",
       "      <td>0</td>\n",
       "      <td>Rofl. Its true to its name</td>\n",
       "      <td>26</td>\n",
       "      <td>7</td>\n",
       "      <td>2</td>\n",
       "      <td>rofl true name</td>\n",
       "    </tr>\n",
       "  </tbody>\n",
       "</table>\n",
       "<p>5169 rows × 6 columns</p>\n",
       "</div>"
      ],
      "text/plain": [
       "      target                                               text  \\\n",
       "0          0  Go until jurong point, crazy.. Available only ...   \n",
       "1          0                      Ok lar... Joking wif u oni...   \n",
       "2          1  Free entry in 2 a wkly comp to win FA Cup fina...   \n",
       "3          0  U dun say so early hor... U c already then say...   \n",
       "4          0  Nah I don't think he goes to usf, he lives aro...   \n",
       "...      ...                                                ...   \n",
       "5567       1  This is the 2nd time we have tried 2 contact u...   \n",
       "5568       0              Will Ì_ b going to esplanade fr home?   \n",
       "5569       0  Pity, * was in mood for that. So...any other s...   \n",
       "5570       0  The guy did some bitching but I acted like i'd...   \n",
       "5571       0                         Rofl. Its true to its name   \n",
       "\n",
       "      num_alphabets  word_counts  sen_counts  \\\n",
       "0               111           23           2   \n",
       "1                29            8           2   \n",
       "2               155           37           2   \n",
       "3                49           13           1   \n",
       "4                61           15           1   \n",
       "...             ...          ...         ...   \n",
       "5567            161           35           4   \n",
       "5568             37            9           1   \n",
       "5569             57           15           2   \n",
       "5570            125           27           1   \n",
       "5571             26            7           2   \n",
       "\n",
       "                                            transformed  \n",
       "0     go jurong point avail bugi n great world la e ...  \n",
       "1                                 ok lar joke wif u oni  \n",
       "2     free entri 2 wkli comp win fa cup final tkt 21...  \n",
       "3                   u dun say earli hor u c alreadi say  \n",
       "4                  nah think goe usf live around though  \n",
       "...                                                 ...  \n",
       "5567  2nd time tri 2 contact u pound prize 2 claim e...  \n",
       "5568                              b go esplanad fr home  \n",
       "5569                                  piti mood suggest  \n",
       "5570  guy bitch act like interest buy someth els nex...  \n",
       "5571                                     rofl true name  \n",
       "\n",
       "[5169 rows x 6 columns]"
      ]
     },
     "execution_count": 81,
     "metadata": {},
     "output_type": "execute_result"
    }
   ],
   "source": [
    "df\n"
   ]
  },
  {
   "cell_type": "code",
   "execution_count": 82,
   "id": "4785e9b7",
   "metadata": {
    "execution": {
     "iopub.execute_input": "2024-05-16T12:51:40.233671Z",
     "iopub.status.busy": "2024-05-16T12:51:40.233232Z",
     "iopub.status.idle": "2024-05-16T12:56:11.449532Z",
     "shell.execute_reply": "2024-05-16T12:56:11.448217Z"
    },
    "papermill": {
     "duration": 271.262072,
     "end_time": "2024-05-16T12:56:11.452001",
     "exception": false,
     "start_time": "2024-05-16T12:51:40.189929",
     "status": "completed"
    },
    "tags": []
   },
   "outputs": [
    {
     "name": "stdout",
     "output_type": "stream",
     "text": [
      "For  SVC\n",
      "Accuracy -  0.9314185228604924\n",
      "Precision -  0.76\n",
      "For  KN\n",
      "Accuracy -  0.8991793669402111\n",
      "Precision -  1.0\n",
      "For  NB\n",
      "Accuracy -  0.9753810082063306\n",
      "Precision -  0.9033613445378151\n",
      "For  DT\n",
      "Accuracy -  0.9296600234466589\n",
      "Precision -  0.9384615384615385\n",
      "For  LR\n",
      "Accuracy -  0.9689331770222743\n",
      "Precision -  0.9502487562189055\n",
      "For  RF\n",
      "Accuracy -  0.9660023446658851\n",
      "Precision -  0.9888888888888889\n",
      "For  AdaBoost\n",
      "Accuracy -  0.9601406799531067\n",
      "Precision -  0.9414893617021277\n",
      "For  BgC\n",
      "Accuracy -  0.9595545134818289\n",
      "Precision -  0.9064039408866995\n",
      "For  ETC\n",
      "Accuracy -  0.9730363423212193\n",
      "Precision -  0.9947368421052631\n",
      "For  GBDT\n",
      "Accuracy -  0.9443141852286049\n",
      "Precision -  0.9161676646706587\n",
      "For  xgb\n",
      "Accuracy -  0.9671746776084408\n",
      "Precision -  0.9405940594059405\n"
     ]
    }
   ],
   "source": [
    "accuracy_scores = []\n",
    "precision_scores = []\n",
    "\n",
    "for name,clf in clfs.items():\n",
    "    \n",
    "    current_accuracy,current_precision = train_classifier(clf, X_train_new,y_train_new,X_test_new,y_test_new)\n",
    "    \n",
    "    print(\"For \",name)\n",
    "    print(\"Accuracy - \",current_accuracy)\n",
    "    print(\"Precision - \",current_precision)\n",
    "    \n",
    "    accuracy_scores.append(current_accuracy)\n",
    "    precision_scores.append(current_precision)"
   ]
  },
  {
   "cell_type": "code",
   "execution_count": 83,
   "id": "2e8147a9",
   "metadata": {
    "execution": {
     "iopub.execute_input": "2024-05-16T12:56:11.540674Z",
     "iopub.status.busy": "2024-05-16T12:56:11.540280Z",
     "iopub.status.idle": "2024-05-16T12:56:11.547339Z",
     "shell.execute_reply": "2024-05-16T12:56:11.546158Z"
    },
    "papermill": {
     "duration": 0.054352,
     "end_time": "2024-05-16T12:56:11.549432",
     "exception": false,
     "start_time": "2024-05-16T12:56:11.495080",
     "status": "completed"
    },
    "tags": []
   },
   "outputs": [],
   "source": [
    "temp_df = pd.DataFrame({'Algorithm':clfs.keys(),'Accuracy_max_ft_3000':accuracy_scores,'Precision_max_ft_3000':precision_scores}).sort_values('Precision_max_ft_3000',ascending=False)"
   ]
  },
  {
   "cell_type": "markdown",
   "id": "956fe4ae",
   "metadata": {
    "papermill": {
     "duration": 0.042868,
     "end_time": "2024-05-16T12:56:11.635969",
     "exception": false,
     "start_time": "2024-05-16T12:56:11.593101",
     "status": "completed"
    },
    "tags": []
   },
   "source": [
    "# ***Scaling using Min-Max Scaler***"
   ]
  },
  {
   "cell_type": "code",
   "execution_count": 84,
   "id": "6036b193",
   "metadata": {
    "execution": {
     "iopub.execute_input": "2024-05-16T12:56:11.725032Z",
     "iopub.status.busy": "2024-05-16T12:56:11.724638Z",
     "iopub.status.idle": "2024-05-16T12:56:12.123375Z",
     "shell.execute_reply": "2024-05-16T12:56:12.122261Z"
    },
    "papermill": {
     "duration": 0.445771,
     "end_time": "2024-05-16T12:56:12.126020",
     "exception": false,
     "start_time": "2024-05-16T12:56:11.680249",
     "status": "completed"
    },
    "tags": []
   },
   "outputs": [],
   "source": [
    "from sklearn.preprocessing import MinMaxScaler\n",
    "scaler = MinMaxScaler()\n",
    "X_scaled= scaler.fit_transform(X_new)"
   ]
  },
  {
   "cell_type": "code",
   "execution_count": 85,
   "id": "baeee2e0",
   "metadata": {
    "execution": {
     "iopub.execute_input": "2024-05-16T12:56:12.215095Z",
     "iopub.status.busy": "2024-05-16T12:56:12.214738Z",
     "iopub.status.idle": "2024-05-16T12:56:12.352006Z",
     "shell.execute_reply": "2024-05-16T12:56:12.350904Z"
    },
    "papermill": {
     "duration": 0.184896,
     "end_time": "2024-05-16T12:56:12.354697",
     "exception": false,
     "start_time": "2024-05-16T12:56:12.169801",
     "status": "completed"
    },
    "tags": []
   },
   "outputs": [],
   "source": [
    "X_train_scaled, X_test_scaled, y_train_scaled, y_test_scaled = train_test_split( X_scaled, y, test_size=0.33, random_state=42)"
   ]
  },
  {
   "cell_type": "code",
   "execution_count": 86,
   "id": "7ec7ae2f",
   "metadata": {
    "execution": {
     "iopub.execute_input": "2024-05-16T12:56:12.442566Z",
     "iopub.status.busy": "2024-05-16T12:56:12.442202Z",
     "iopub.status.idle": "2024-05-16T13:00:36.081638Z",
     "shell.execute_reply": "2024-05-16T13:00:36.080650Z"
    },
    "papermill": {
     "duration": 263.685913,
     "end_time": "2024-05-16T13:00:36.083941",
     "exception": false,
     "start_time": "2024-05-16T12:56:12.398028",
     "status": "completed"
    },
    "tags": []
   },
   "outputs": [
    {
     "name": "stdout",
     "output_type": "stream",
     "text": [
      "For  SVC\n",
      "Accuracy -  0.963071512309496\n",
      "Precision -  0.9052132701421801\n",
      "For  KN\n",
      "Accuracy -  0.8868698710433763\n",
      "Precision -  1.0\n",
      "For  NB\n",
      "Accuracy -  0.9800703399765534\n",
      "Precision -  0.9347826086956522\n",
      "For  DT\n",
      "Accuracy -  0.9284876905041032\n",
      "Precision -  0.9242424242424242\n",
      "For  LR\n",
      "Accuracy -  0.963071512309496\n",
      "Precision -  0.9430051813471503\n",
      "For  RF\n",
      "Accuracy -  0.9660023446658851\n",
      "Precision -  0.9888888888888889\n",
      "For  AdaBoost\n",
      "Accuracy -  0.9601406799531067\n",
      "Precision -  0.9414893617021277\n",
      "For  BgC\n",
      "Accuracy -  0.9595545134818289\n",
      "Precision -  0.9064039408866995\n",
      "For  ETC\n",
      "Accuracy -  0.9730363423212193\n",
      "Precision -  0.9947368421052631\n",
      "For  GBDT\n",
      "Accuracy -  0.9443141852286049\n",
      "Precision -  0.9161676646706587\n",
      "For  xgb\n",
      "Accuracy -  0.9671746776084408\n",
      "Precision -  0.9405940594059405\n"
     ]
    }
   ],
   "source": [
    "accuracy_scores = []\n",
    "precision_scores = []\n",
    "\n",
    "for name,clf in clfs.items():\n",
    "    \n",
    "    current_accuracy,current_precision = train_classifier(clf, X_train_scaled,y_train_scaled,X_test_scaled,y_test_scaled)\n",
    "    \n",
    "    print(\"For \",name)\n",
    "    print(\"Accuracy - \",current_accuracy)\n",
    "    print(\"Precision - \",current_precision)\n",
    "    \n",
    "    accuracy_scores.append(current_accuracy)\n",
    "    precision_scores.append(current_precision)"
   ]
  },
  {
   "cell_type": "code",
   "execution_count": 87,
   "id": "26f8bc92",
   "metadata": {
    "execution": {
     "iopub.execute_input": "2024-05-16T13:00:36.175450Z",
     "iopub.status.busy": "2024-05-16T13:00:36.175084Z",
     "iopub.status.idle": "2024-05-16T13:00:36.181295Z",
     "shell.execute_reply": "2024-05-16T13:00:36.180266Z"
    },
    "papermill": {
     "duration": 0.055463,
     "end_time": "2024-05-16T13:00:36.183624",
     "exception": false,
     "start_time": "2024-05-16T13:00:36.128161",
     "status": "completed"
    },
    "tags": []
   },
   "outputs": [],
   "source": [
    "temp_df_scaled = pd.DataFrame({'Algorithm':clfs.keys(),'Accuracy_scaling':accuracy_scores,'Precision_scaling':precision_scores}).sort_values('Precision_scaling',ascending=False)"
   ]
  },
  {
   "cell_type": "code",
   "execution_count": 88,
   "id": "57ceafdf",
   "metadata": {
    "execution": {
     "iopub.execute_input": "2024-05-16T13:00:36.273942Z",
     "iopub.status.busy": "2024-05-16T13:00:36.273558Z",
     "iopub.status.idle": "2024-05-16T13:00:36.284050Z",
     "shell.execute_reply": "2024-05-16T13:00:36.282783Z"
    },
    "papermill": {
     "duration": 0.059326,
     "end_time": "2024-05-16T13:00:36.286544",
     "exception": false,
     "start_time": "2024-05-16T13:00:36.227218",
     "status": "completed"
    },
    "tags": []
   },
   "outputs": [],
   "source": [
    "new_df = performance_df.merge(temp_df,on='Algorithm')"
   ]
  },
  {
   "cell_type": "code",
   "execution_count": 89,
   "id": "c17b438e",
   "metadata": {
    "execution": {
     "iopub.execute_input": "2024-05-16T13:00:36.375972Z",
     "iopub.status.busy": "2024-05-16T13:00:36.375578Z",
     "iopub.status.idle": "2024-05-16T13:00:36.389843Z",
     "shell.execute_reply": "2024-05-16T13:00:36.388684Z"
    },
    "papermill": {
     "duration": 0.061373,
     "end_time": "2024-05-16T13:00:36.392314",
     "exception": false,
     "start_time": "2024-05-16T13:00:36.330941",
     "status": "completed"
    },
    "tags": []
   },
   "outputs": [
    {
     "data": {
      "text/html": [
       "<div>\n",
       "<style scoped>\n",
       "    .dataframe tbody tr th:only-of-type {\n",
       "        vertical-align: middle;\n",
       "    }\n",
       "\n",
       "    .dataframe tbody tr th {\n",
       "        vertical-align: top;\n",
       "    }\n",
       "\n",
       "    .dataframe thead th {\n",
       "        text-align: right;\n",
       "    }\n",
       "</style>\n",
       "<table border=\"1\" class=\"dataframe\">\n",
       "  <thead>\n",
       "    <tr style=\"text-align: right;\">\n",
       "      <th></th>\n",
       "      <th>Algorithm</th>\n",
       "      <th>Accuracy</th>\n",
       "      <th>Precision</th>\n",
       "      <th>Accuracy_max_ft_3000</th>\n",
       "      <th>Precision_max_ft_3000</th>\n",
       "    </tr>\n",
       "  </thead>\n",
       "  <tbody>\n",
       "    <tr>\n",
       "      <th>0</th>\n",
       "      <td>KN</td>\n",
       "      <td>0.892145</td>\n",
       "      <td>1.000000</td>\n",
       "      <td>0.899179</td>\n",
       "      <td>1.000000</td>\n",
       "    </tr>\n",
       "    <tr>\n",
       "      <th>1</th>\n",
       "      <td>NB</td>\n",
       "      <td>0.951934</td>\n",
       "      <td>1.000000</td>\n",
       "      <td>0.975381</td>\n",
       "      <td>0.903361</td>\n",
       "    </tr>\n",
       "    <tr>\n",
       "      <th>2</th>\n",
       "      <td>RF</td>\n",
       "      <td>0.968347</td>\n",
       "      <td>0.989130</td>\n",
       "      <td>0.966002</td>\n",
       "      <td>0.988889</td>\n",
       "    </tr>\n",
       "    <tr>\n",
       "      <th>3</th>\n",
       "      <td>ETC</td>\n",
       "      <td>0.973623</td>\n",
       "      <td>0.984615</td>\n",
       "      <td>0.973036</td>\n",
       "      <td>0.994737</td>\n",
       "    </tr>\n",
       "    <tr>\n",
       "      <th>4</th>\n",
       "      <td>GBDT</td>\n",
       "      <td>0.953693</td>\n",
       "      <td>0.969697</td>\n",
       "      <td>0.944314</td>\n",
       "      <td>0.916168</td>\n",
       "    </tr>\n",
       "    <tr>\n",
       "      <th>5</th>\n",
       "      <td>SVC</td>\n",
       "      <td>0.973036</td>\n",
       "      <td>0.951923</td>\n",
       "      <td>0.931419</td>\n",
       "      <td>0.760000</td>\n",
       "    </tr>\n",
       "    <tr>\n",
       "      <th>6</th>\n",
       "      <td>xgb</td>\n",
       "      <td>0.969519</td>\n",
       "      <td>0.937500</td>\n",
       "      <td>0.967175</td>\n",
       "      <td>0.940594</td>\n",
       "    </tr>\n",
       "    <tr>\n",
       "      <th>7</th>\n",
       "      <td>LR</td>\n",
       "      <td>0.942556</td>\n",
       "      <td>0.895349</td>\n",
       "      <td>0.968933</td>\n",
       "      <td>0.950249</td>\n",
       "    </tr>\n",
       "    <tr>\n",
       "      <th>8</th>\n",
       "      <td>AdaBoost</td>\n",
       "      <td>0.953107</td>\n",
       "      <td>0.888889</td>\n",
       "      <td>0.960141</td>\n",
       "      <td>0.941489</td>\n",
       "    </tr>\n",
       "    <tr>\n",
       "      <th>9</th>\n",
       "      <td>BgC</td>\n",
       "      <td>0.960141</td>\n",
       "      <td>0.887850</td>\n",
       "      <td>0.959555</td>\n",
       "      <td>0.906404</td>\n",
       "    </tr>\n",
       "    <tr>\n",
       "      <th>10</th>\n",
       "      <td>DT</td>\n",
       "      <td>0.934936</td>\n",
       "      <td>0.812183</td>\n",
       "      <td>0.929660</td>\n",
       "      <td>0.938462</td>\n",
       "    </tr>\n",
       "  </tbody>\n",
       "</table>\n",
       "</div>"
      ],
      "text/plain": [
       "   Algorithm  Accuracy  Precision  Accuracy_max_ft_3000  Precision_max_ft_3000\n",
       "0         KN  0.892145   1.000000              0.899179               1.000000\n",
       "1         NB  0.951934   1.000000              0.975381               0.903361\n",
       "2         RF  0.968347   0.989130              0.966002               0.988889\n",
       "3        ETC  0.973623   0.984615              0.973036               0.994737\n",
       "4       GBDT  0.953693   0.969697              0.944314               0.916168\n",
       "5        SVC  0.973036   0.951923              0.931419               0.760000\n",
       "6        xgb  0.969519   0.937500              0.967175               0.940594\n",
       "7         LR  0.942556   0.895349              0.968933               0.950249\n",
       "8   AdaBoost  0.953107   0.888889              0.960141               0.941489\n",
       "9        BgC  0.960141   0.887850              0.959555               0.906404\n",
       "10        DT  0.934936   0.812183              0.929660               0.938462"
      ]
     },
     "execution_count": 89,
     "metadata": {},
     "output_type": "execute_result"
    }
   ],
   "source": [
    "new_df"
   ]
  },
  {
   "cell_type": "code",
   "execution_count": 90,
   "id": "1b89aab5",
   "metadata": {
    "execution": {
     "iopub.execute_input": "2024-05-16T13:00:36.480767Z",
     "iopub.status.busy": "2024-05-16T13:00:36.480102Z",
     "iopub.status.idle": "2024-05-16T13:00:36.488025Z",
     "shell.execute_reply": "2024-05-16T13:00:36.487000Z"
    },
    "papermill": {
     "duration": 0.054707,
     "end_time": "2024-05-16T13:00:36.490447",
     "exception": false,
     "start_time": "2024-05-16T13:00:36.435740",
     "status": "completed"
    },
    "tags": []
   },
   "outputs": [],
   "source": [
    "new_df=new_df.merge(temp_df_scaled,on='Algorithm')"
   ]
  },
  {
   "cell_type": "code",
   "execution_count": 91,
   "id": "d793f9f9",
   "metadata": {
    "execution": {
     "iopub.execute_input": "2024-05-16T13:00:36.581849Z",
     "iopub.status.busy": "2024-05-16T13:00:36.581475Z",
     "iopub.status.idle": "2024-05-16T13:00:36.596123Z",
     "shell.execute_reply": "2024-05-16T13:00:36.594890Z"
    },
    "papermill": {
     "duration": 0.064634,
     "end_time": "2024-05-16T13:00:36.598273",
     "exception": false,
     "start_time": "2024-05-16T13:00:36.533639",
     "status": "completed"
    },
    "tags": []
   },
   "outputs": [
    {
     "data": {
      "text/html": [
       "<div>\n",
       "<style scoped>\n",
       "    .dataframe tbody tr th:only-of-type {\n",
       "        vertical-align: middle;\n",
       "    }\n",
       "\n",
       "    .dataframe tbody tr th {\n",
       "        vertical-align: top;\n",
       "    }\n",
       "\n",
       "    .dataframe thead th {\n",
       "        text-align: right;\n",
       "    }\n",
       "</style>\n",
       "<table border=\"1\" class=\"dataframe\">\n",
       "  <thead>\n",
       "    <tr style=\"text-align: right;\">\n",
       "      <th></th>\n",
       "      <th>Algorithm</th>\n",
       "      <th>Accuracy</th>\n",
       "      <th>Precision</th>\n",
       "      <th>Accuracy_max_ft_3000</th>\n",
       "      <th>Precision_max_ft_3000</th>\n",
       "      <th>Accuracy_scaling</th>\n",
       "      <th>Precision_scaling</th>\n",
       "    </tr>\n",
       "  </thead>\n",
       "  <tbody>\n",
       "    <tr>\n",
       "      <th>0</th>\n",
       "      <td>KN</td>\n",
       "      <td>0.892145</td>\n",
       "      <td>1.000000</td>\n",
       "      <td>0.899179</td>\n",
       "      <td>1.000000</td>\n",
       "      <td>0.886870</td>\n",
       "      <td>1.000000</td>\n",
       "    </tr>\n",
       "    <tr>\n",
       "      <th>1</th>\n",
       "      <td>NB</td>\n",
       "      <td>0.951934</td>\n",
       "      <td>1.000000</td>\n",
       "      <td>0.975381</td>\n",
       "      <td>0.903361</td>\n",
       "      <td>0.980070</td>\n",
       "      <td>0.934783</td>\n",
       "    </tr>\n",
       "    <tr>\n",
       "      <th>2</th>\n",
       "      <td>RF</td>\n",
       "      <td>0.968347</td>\n",
       "      <td>0.989130</td>\n",
       "      <td>0.966002</td>\n",
       "      <td>0.988889</td>\n",
       "      <td>0.966002</td>\n",
       "      <td>0.988889</td>\n",
       "    </tr>\n",
       "    <tr>\n",
       "      <th>3</th>\n",
       "      <td>ETC</td>\n",
       "      <td>0.973623</td>\n",
       "      <td>0.984615</td>\n",
       "      <td>0.973036</td>\n",
       "      <td>0.994737</td>\n",
       "      <td>0.973036</td>\n",
       "      <td>0.994737</td>\n",
       "    </tr>\n",
       "    <tr>\n",
       "      <th>4</th>\n",
       "      <td>GBDT</td>\n",
       "      <td>0.953693</td>\n",
       "      <td>0.969697</td>\n",
       "      <td>0.944314</td>\n",
       "      <td>0.916168</td>\n",
       "      <td>0.944314</td>\n",
       "      <td>0.916168</td>\n",
       "    </tr>\n",
       "    <tr>\n",
       "      <th>5</th>\n",
       "      <td>SVC</td>\n",
       "      <td>0.973036</td>\n",
       "      <td>0.951923</td>\n",
       "      <td>0.931419</td>\n",
       "      <td>0.760000</td>\n",
       "      <td>0.963072</td>\n",
       "      <td>0.905213</td>\n",
       "    </tr>\n",
       "    <tr>\n",
       "      <th>6</th>\n",
       "      <td>xgb</td>\n",
       "      <td>0.969519</td>\n",
       "      <td>0.937500</td>\n",
       "      <td>0.967175</td>\n",
       "      <td>0.940594</td>\n",
       "      <td>0.967175</td>\n",
       "      <td>0.940594</td>\n",
       "    </tr>\n",
       "    <tr>\n",
       "      <th>7</th>\n",
       "      <td>LR</td>\n",
       "      <td>0.942556</td>\n",
       "      <td>0.895349</td>\n",
       "      <td>0.968933</td>\n",
       "      <td>0.950249</td>\n",
       "      <td>0.963072</td>\n",
       "      <td>0.943005</td>\n",
       "    </tr>\n",
       "    <tr>\n",
       "      <th>8</th>\n",
       "      <td>AdaBoost</td>\n",
       "      <td>0.953107</td>\n",
       "      <td>0.888889</td>\n",
       "      <td>0.960141</td>\n",
       "      <td>0.941489</td>\n",
       "      <td>0.960141</td>\n",
       "      <td>0.941489</td>\n",
       "    </tr>\n",
       "    <tr>\n",
       "      <th>9</th>\n",
       "      <td>BgC</td>\n",
       "      <td>0.960141</td>\n",
       "      <td>0.887850</td>\n",
       "      <td>0.959555</td>\n",
       "      <td>0.906404</td>\n",
       "      <td>0.959555</td>\n",
       "      <td>0.906404</td>\n",
       "    </tr>\n",
       "    <tr>\n",
       "      <th>10</th>\n",
       "      <td>DT</td>\n",
       "      <td>0.934936</td>\n",
       "      <td>0.812183</td>\n",
       "      <td>0.929660</td>\n",
       "      <td>0.938462</td>\n",
       "      <td>0.928488</td>\n",
       "      <td>0.924242</td>\n",
       "    </tr>\n",
       "  </tbody>\n",
       "</table>\n",
       "</div>"
      ],
      "text/plain": [
       "   Algorithm  Accuracy  Precision  Accuracy_max_ft_3000  \\\n",
       "0         KN  0.892145   1.000000              0.899179   \n",
       "1         NB  0.951934   1.000000              0.975381   \n",
       "2         RF  0.968347   0.989130              0.966002   \n",
       "3        ETC  0.973623   0.984615              0.973036   \n",
       "4       GBDT  0.953693   0.969697              0.944314   \n",
       "5        SVC  0.973036   0.951923              0.931419   \n",
       "6        xgb  0.969519   0.937500              0.967175   \n",
       "7         LR  0.942556   0.895349              0.968933   \n",
       "8   AdaBoost  0.953107   0.888889              0.960141   \n",
       "9        BgC  0.960141   0.887850              0.959555   \n",
       "10        DT  0.934936   0.812183              0.929660   \n",
       "\n",
       "    Precision_max_ft_3000  Accuracy_scaling  Precision_scaling  \n",
       "0                1.000000          0.886870           1.000000  \n",
       "1                0.903361          0.980070           0.934783  \n",
       "2                0.988889          0.966002           0.988889  \n",
       "3                0.994737          0.973036           0.994737  \n",
       "4                0.916168          0.944314           0.916168  \n",
       "5                0.760000          0.963072           0.905213  \n",
       "6                0.940594          0.967175           0.940594  \n",
       "7                0.950249          0.963072           0.943005  \n",
       "8                0.941489          0.960141           0.941489  \n",
       "9                0.906404          0.959555           0.906404  \n",
       "10               0.938462          0.928488           0.924242  "
      ]
     },
     "execution_count": 91,
     "metadata": {},
     "output_type": "execute_result"
    }
   ],
   "source": [
    "new_df"
   ]
  },
  {
   "cell_type": "markdown",
   "id": "30291116",
   "metadata": {
    "papermill": {
     "duration": 0.04492,
     "end_time": "2024-05-16T13:00:36.686629",
     "exception": false,
     "start_time": "2024-05-16T13:00:36.641709",
     "status": "completed"
    },
    "tags": []
   },
   "source": [
    "# ***Lets Do it using the num character features we have created***"
   ]
  },
  {
   "cell_type": "code",
   "execution_count": 92,
   "id": "68f6eaf5",
   "metadata": {
    "execution": {
     "iopub.execute_input": "2024-05-16T13:00:36.775824Z",
     "iopub.status.busy": "2024-05-16T13:00:36.775408Z",
     "iopub.status.idle": "2024-05-16T13:00:37.227987Z",
     "shell.execute_reply": "2024-05-16T13:00:37.226855Z"
    },
    "papermill": {
     "duration": 0.500472,
     "end_time": "2024-05-16T13:00:37.230580",
     "exception": false,
     "start_time": "2024-05-16T13:00:36.730108",
     "status": "completed"
    },
    "tags": []
   },
   "outputs": [],
   "source": [
    "vc1 = TfidfVectorizer(max_features=3000)\n",
    "X_char= vc1.fit_transform(df['transformed']).toarray()\n",
    "#Appending the num_character col to X\n",
    "\n",
    "# \n",
    "X_char = np.hstack((X_char,df['num_alphabets'].values.reshape(-1,1)))\n",
    "scaler = MinMaxScaler()\n",
    "X_char= scaler.fit_transform(X_char)\n",
    "X_train_char, X_test_char, y_train_char, y_test_char = train_test_split( X_char, y, test_size=0.33, random_state=42)"
   ]
  },
  {
   "cell_type": "code",
   "execution_count": 93,
   "id": "ff9205c3",
   "metadata": {
    "execution": {
     "iopub.execute_input": "2024-05-16T13:00:37.323487Z",
     "iopub.status.busy": "2024-05-16T13:00:37.323108Z",
     "iopub.status.idle": "2024-05-16T13:00:37.329527Z",
     "shell.execute_reply": "2024-05-16T13:00:37.328440Z"
    },
    "papermill": {
     "duration": 0.055179,
     "end_time": "2024-05-16T13:00:37.331636",
     "exception": false,
     "start_time": "2024-05-16T13:00:37.276457",
     "status": "completed"
    },
    "tags": []
   },
   "outputs": [
    {
     "data": {
      "text/plain": [
       "(5169, 3001)"
      ]
     },
     "execution_count": 93,
     "metadata": {},
     "output_type": "execute_result"
    }
   ],
   "source": [
    "X_char.shape"
   ]
  },
  {
   "cell_type": "code",
   "execution_count": 94,
   "id": "9e4e4b20",
   "metadata": {
    "execution": {
     "iopub.execute_input": "2024-05-16T13:00:37.421243Z",
     "iopub.status.busy": "2024-05-16T13:00:37.420232Z",
     "iopub.status.idle": "2024-05-16T13:02:29.414994Z",
     "shell.execute_reply": "2024-05-16T13:02:29.414178Z"
    },
    "papermill": {
     "duration": 112.084929,
     "end_time": "2024-05-16T13:02:29.459944",
     "exception": false,
     "start_time": "2024-05-16T13:00:37.375015",
     "status": "completed"
    },
    "tags": []
   },
   "outputs": [
    {
     "name": "stdout",
     "output_type": "stream",
     "text": [
      "For  SVC\n",
      "Accuracy -  0.9718640093786636\n",
      "Precision -  0.9386792452830188\n",
      "For  KN\n",
      "Accuracy -  0.8962485345838218\n",
      "Precision -  1.0\n",
      "For  NB\n",
      "Accuracy -  0.9800703399765534\n",
      "Precision -  0.9672897196261683\n",
      "For  DT\n",
      "Accuracy -  0.9372801875732708\n",
      "Precision -  0.839572192513369\n",
      "For  LR\n",
      "Accuracy -  0.9607268464243846\n",
      "Precision -  0.946524064171123\n",
      "For  RF\n",
      "Accuracy -  0.97010550996483\n",
      "Precision -  0.9740932642487047\n",
      "For  AdaBoost\n",
      "Accuracy -  0.9665885111371629\n",
      "Precision -  0.9154929577464789\n",
      "For  BgC\n",
      "Accuracy -  0.9554513481828839\n",
      "Precision -  0.8405172413793104\n",
      "For  ETC\n",
      "Accuracy -  0.977725674091442\n",
      "Precision -  0.9757281553398058\n",
      "For  GBDT\n",
      "Accuracy -  0.9495896834701055\n",
      "Precision -  0.9157303370786517\n",
      "For  xgb\n",
      "Accuracy -  0.9706916764361079\n",
      "Precision -  0.9380952380952381\n"
     ]
    }
   ],
   "source": [
    "accuracy_scores = []\n",
    "precision_scores = []\n",
    "\n",
    "for name,clf in clfs.items():\n",
    "    \n",
    "    current_accuracy,current_precision = train_classifier(clf, X_train_char,y_train_char,X_test_char,y_test_char)\n",
    "    \n",
    "    print(\"For \",name)\n",
    "    print(\"Accuracy - \",current_accuracy)\n",
    "    print(\"Precision - \",current_precision)\n",
    "    \n",
    "    accuracy_scores.append(current_accuracy)\n",
    "    precision_scores.append(current_precision)"
   ]
  },
  {
   "cell_type": "markdown",
   "id": "fd26744f",
   "metadata": {
    "papermill": {
     "duration": 0.044795,
     "end_time": "2024-05-16T13:02:29.549459",
     "exception": false,
     "start_time": "2024-05-16T13:02:29.504664",
     "status": "completed"
    },
    "tags": []
   },
   "source": [
    "***Above i have also Scaled the input columns***"
   ]
  },
  {
   "cell_type": "code",
   "execution_count": 95,
   "id": "59a672e4",
   "metadata": {
    "execution": {
     "iopub.execute_input": "2024-05-16T13:02:29.641415Z",
     "iopub.status.busy": "2024-05-16T13:02:29.640731Z",
     "iopub.status.idle": "2024-05-16T13:02:29.646601Z",
     "shell.execute_reply": "2024-05-16T13:02:29.645750Z"
    },
    "papermill": {
     "duration": 0.054867,
     "end_time": "2024-05-16T13:02:29.648807",
     "exception": false,
     "start_time": "2024-05-16T13:02:29.593940",
     "status": "completed"
    },
    "tags": []
   },
   "outputs": [],
   "source": [
    "temp_dfchar = pd.DataFrame({'Algorithm':clfs.keys(),'Accuracy_num_chars':accuracy_scores,'Precision_num_chars':precision_scores}).sort_values('Precision_num_chars',ascending=False)"
   ]
  },
  {
   "cell_type": "code",
   "execution_count": 96,
   "id": "ad8085a7",
   "metadata": {
    "execution": {
     "iopub.execute_input": "2024-05-16T13:02:29.741107Z",
     "iopub.status.busy": "2024-05-16T13:02:29.740370Z",
     "iopub.status.idle": "2024-05-16T13:02:29.747875Z",
     "shell.execute_reply": "2024-05-16T13:02:29.746656Z"
    },
    "papermill": {
     "duration": 0.056661,
     "end_time": "2024-05-16T13:02:29.750225",
     "exception": false,
     "start_time": "2024-05-16T13:02:29.693564",
     "status": "completed"
    },
    "tags": []
   },
   "outputs": [],
   "source": [
    "new_df=new_df.merge(temp_dfchar,on='Algorithm')"
   ]
  },
  {
   "cell_type": "code",
   "execution_count": 97,
   "id": "011c93e7",
   "metadata": {
    "execution": {
     "iopub.execute_input": "2024-05-16T13:02:29.841477Z",
     "iopub.status.busy": "2024-05-16T13:02:29.841103Z",
     "iopub.status.idle": "2024-05-16T13:02:29.857648Z",
     "shell.execute_reply": "2024-05-16T13:02:29.856325Z"
    },
    "papermill": {
     "duration": 0.065517,
     "end_time": "2024-05-16T13:02:29.859969",
     "exception": false,
     "start_time": "2024-05-16T13:02:29.794452",
     "status": "completed"
    },
    "tags": []
   },
   "outputs": [
    {
     "data": {
      "text/html": [
       "<div>\n",
       "<style scoped>\n",
       "    .dataframe tbody tr th:only-of-type {\n",
       "        vertical-align: middle;\n",
       "    }\n",
       "\n",
       "    .dataframe tbody tr th {\n",
       "        vertical-align: top;\n",
       "    }\n",
       "\n",
       "    .dataframe thead th {\n",
       "        text-align: right;\n",
       "    }\n",
       "</style>\n",
       "<table border=\"1\" class=\"dataframe\">\n",
       "  <thead>\n",
       "    <tr style=\"text-align: right;\">\n",
       "      <th></th>\n",
       "      <th>Algorithm</th>\n",
       "      <th>Accuracy</th>\n",
       "      <th>Precision</th>\n",
       "      <th>Accuracy_max_ft_3000</th>\n",
       "      <th>Precision_max_ft_3000</th>\n",
       "      <th>Accuracy_scaling</th>\n",
       "      <th>Precision_scaling</th>\n",
       "      <th>Accuracy_num_chars</th>\n",
       "      <th>Precision_num_chars</th>\n",
       "    </tr>\n",
       "  </thead>\n",
       "  <tbody>\n",
       "    <tr>\n",
       "      <th>0</th>\n",
       "      <td>KN</td>\n",
       "      <td>0.892145</td>\n",
       "      <td>1.000000</td>\n",
       "      <td>0.899179</td>\n",
       "      <td>1.000000</td>\n",
       "      <td>0.886870</td>\n",
       "      <td>1.000000</td>\n",
       "      <td>0.896249</td>\n",
       "      <td>1.000000</td>\n",
       "    </tr>\n",
       "    <tr>\n",
       "      <th>1</th>\n",
       "      <td>NB</td>\n",
       "      <td>0.951934</td>\n",
       "      <td>1.000000</td>\n",
       "      <td>0.975381</td>\n",
       "      <td>0.903361</td>\n",
       "      <td>0.980070</td>\n",
       "      <td>0.934783</td>\n",
       "      <td>0.980070</td>\n",
       "      <td>0.967290</td>\n",
       "    </tr>\n",
       "    <tr>\n",
       "      <th>2</th>\n",
       "      <td>RF</td>\n",
       "      <td>0.968347</td>\n",
       "      <td>0.989130</td>\n",
       "      <td>0.966002</td>\n",
       "      <td>0.988889</td>\n",
       "      <td>0.966002</td>\n",
       "      <td>0.988889</td>\n",
       "      <td>0.970106</td>\n",
       "      <td>0.974093</td>\n",
       "    </tr>\n",
       "    <tr>\n",
       "      <th>3</th>\n",
       "      <td>ETC</td>\n",
       "      <td>0.973623</td>\n",
       "      <td>0.984615</td>\n",
       "      <td>0.973036</td>\n",
       "      <td>0.994737</td>\n",
       "      <td>0.973036</td>\n",
       "      <td>0.994737</td>\n",
       "      <td>0.977726</td>\n",
       "      <td>0.975728</td>\n",
       "    </tr>\n",
       "    <tr>\n",
       "      <th>4</th>\n",
       "      <td>GBDT</td>\n",
       "      <td>0.953693</td>\n",
       "      <td>0.969697</td>\n",
       "      <td>0.944314</td>\n",
       "      <td>0.916168</td>\n",
       "      <td>0.944314</td>\n",
       "      <td>0.916168</td>\n",
       "      <td>0.949590</td>\n",
       "      <td>0.915730</td>\n",
       "    </tr>\n",
       "    <tr>\n",
       "      <th>5</th>\n",
       "      <td>SVC</td>\n",
       "      <td>0.973036</td>\n",
       "      <td>0.951923</td>\n",
       "      <td>0.931419</td>\n",
       "      <td>0.760000</td>\n",
       "      <td>0.963072</td>\n",
       "      <td>0.905213</td>\n",
       "      <td>0.971864</td>\n",
       "      <td>0.938679</td>\n",
       "    </tr>\n",
       "    <tr>\n",
       "      <th>6</th>\n",
       "      <td>xgb</td>\n",
       "      <td>0.969519</td>\n",
       "      <td>0.937500</td>\n",
       "      <td>0.967175</td>\n",
       "      <td>0.940594</td>\n",
       "      <td>0.967175</td>\n",
       "      <td>0.940594</td>\n",
       "      <td>0.970692</td>\n",
       "      <td>0.938095</td>\n",
       "    </tr>\n",
       "    <tr>\n",
       "      <th>7</th>\n",
       "      <td>LR</td>\n",
       "      <td>0.942556</td>\n",
       "      <td>0.895349</td>\n",
       "      <td>0.968933</td>\n",
       "      <td>0.950249</td>\n",
       "      <td>0.963072</td>\n",
       "      <td>0.943005</td>\n",
       "      <td>0.960727</td>\n",
       "      <td>0.946524</td>\n",
       "    </tr>\n",
       "    <tr>\n",
       "      <th>8</th>\n",
       "      <td>AdaBoost</td>\n",
       "      <td>0.953107</td>\n",
       "      <td>0.888889</td>\n",
       "      <td>0.960141</td>\n",
       "      <td>0.941489</td>\n",
       "      <td>0.960141</td>\n",
       "      <td>0.941489</td>\n",
       "      <td>0.966589</td>\n",
       "      <td>0.915493</td>\n",
       "    </tr>\n",
       "    <tr>\n",
       "      <th>9</th>\n",
       "      <td>BgC</td>\n",
       "      <td>0.960141</td>\n",
       "      <td>0.887850</td>\n",
       "      <td>0.959555</td>\n",
       "      <td>0.906404</td>\n",
       "      <td>0.959555</td>\n",
       "      <td>0.906404</td>\n",
       "      <td>0.955451</td>\n",
       "      <td>0.840517</td>\n",
       "    </tr>\n",
       "    <tr>\n",
       "      <th>10</th>\n",
       "      <td>DT</td>\n",
       "      <td>0.934936</td>\n",
       "      <td>0.812183</td>\n",
       "      <td>0.929660</td>\n",
       "      <td>0.938462</td>\n",
       "      <td>0.928488</td>\n",
       "      <td>0.924242</td>\n",
       "      <td>0.937280</td>\n",
       "      <td>0.839572</td>\n",
       "    </tr>\n",
       "  </tbody>\n",
       "</table>\n",
       "</div>"
      ],
      "text/plain": [
       "   Algorithm  Accuracy  Precision  Accuracy_max_ft_3000  \\\n",
       "0         KN  0.892145   1.000000              0.899179   \n",
       "1         NB  0.951934   1.000000              0.975381   \n",
       "2         RF  0.968347   0.989130              0.966002   \n",
       "3        ETC  0.973623   0.984615              0.973036   \n",
       "4       GBDT  0.953693   0.969697              0.944314   \n",
       "5        SVC  0.973036   0.951923              0.931419   \n",
       "6        xgb  0.969519   0.937500              0.967175   \n",
       "7         LR  0.942556   0.895349              0.968933   \n",
       "8   AdaBoost  0.953107   0.888889              0.960141   \n",
       "9        BgC  0.960141   0.887850              0.959555   \n",
       "10        DT  0.934936   0.812183              0.929660   \n",
       "\n",
       "    Precision_max_ft_3000  Accuracy_scaling  Precision_scaling  \\\n",
       "0                1.000000          0.886870           1.000000   \n",
       "1                0.903361          0.980070           0.934783   \n",
       "2                0.988889          0.966002           0.988889   \n",
       "3                0.994737          0.973036           0.994737   \n",
       "4                0.916168          0.944314           0.916168   \n",
       "5                0.760000          0.963072           0.905213   \n",
       "6                0.940594          0.967175           0.940594   \n",
       "7                0.950249          0.963072           0.943005   \n",
       "8                0.941489          0.960141           0.941489   \n",
       "9                0.906404          0.959555           0.906404   \n",
       "10               0.938462          0.928488           0.924242   \n",
       "\n",
       "    Accuracy_num_chars  Precision_num_chars  \n",
       "0             0.896249             1.000000  \n",
       "1             0.980070             0.967290  \n",
       "2             0.970106             0.974093  \n",
       "3             0.977726             0.975728  \n",
       "4             0.949590             0.915730  \n",
       "5             0.971864             0.938679  \n",
       "6             0.970692             0.938095  \n",
       "7             0.960727             0.946524  \n",
       "8             0.966589             0.915493  \n",
       "9             0.955451             0.840517  \n",
       "10            0.937280             0.839572  "
      ]
     },
     "execution_count": 97,
     "metadata": {},
     "output_type": "execute_result"
    }
   ],
   "source": [
    "new_df"
   ]
  },
  {
   "cell_type": "markdown",
   "id": "c968ac4e",
   "metadata": {
    "papermill": {
     "duration": 0.044275,
     "end_time": "2024-05-16T13:02:29.948919",
     "exception": false,
     "start_time": "2024-05-16T13:02:29.904644",
     "status": "completed"
    },
    "tags": []
   },
   "source": [
    "# **Voting Classifier** (BOW)"
   ]
  },
  {
   "cell_type": "code",
   "execution_count": 98,
   "id": "42244ee8",
   "metadata": {
    "execution": {
     "iopub.execute_input": "2024-05-16T13:02:30.042450Z",
     "iopub.status.busy": "2024-05-16T13:02:30.041533Z",
     "iopub.status.idle": "2024-05-16T13:02:30.047546Z",
     "shell.execute_reply": "2024-05-16T13:02:30.046310Z"
    },
    "papermill": {
     "duration": 0.056132,
     "end_time": "2024-05-16T13:02:30.049739",
     "exception": false,
     "start_time": "2024-05-16T13:02:29.993607",
     "status": "completed"
    },
    "tags": []
   },
   "outputs": [],
   "source": [
    "# Voting Classifier\n",
    "svc = SVC(kernel='sigmoid', gamma=1.0,probability=True)\n",
    "mnb = MultinomialNB()\n",
    "etc = ExtraTreesClassifier(n_estimators=50, random_state=2)\n",
    "\n",
    "from sklearn.ensemble import VotingClassifier"
   ]
  },
  {
   "cell_type": "code",
   "execution_count": 99,
   "id": "2e873dfa",
   "metadata": {
    "execution": {
     "iopub.execute_input": "2024-05-16T13:02:30.141657Z",
     "iopub.status.busy": "2024-05-16T13:02:30.140944Z",
     "iopub.status.idle": "2024-05-16T13:02:30.145320Z",
     "shell.execute_reply": "2024-05-16T13:02:30.144575Z"
    },
    "papermill": {
     "duration": 0.05274,
     "end_time": "2024-05-16T13:02:30.147646",
     "exception": false,
     "start_time": "2024-05-16T13:02:30.094906",
     "status": "completed"
    },
    "tags": []
   },
   "outputs": [],
   "source": [
    "voting = VotingClassifier(estimators=[('svm', svc), ('nb', mnb), ('et', etc)],voting='soft')"
   ]
  },
  {
   "cell_type": "code",
   "execution_count": 100,
   "id": "e9f2cad6",
   "metadata": {
    "execution": {
     "iopub.execute_input": "2024-05-16T13:02:30.239266Z",
     "iopub.status.busy": "2024-05-16T13:02:30.238627Z",
     "iopub.status.idle": "2024-05-16T13:03:25.797570Z",
     "shell.execute_reply": "2024-05-16T13:03:25.796714Z"
    },
    "papermill": {
     "duration": 55.657447,
     "end_time": "2024-05-16T13:03:25.849681",
     "exception": false,
     "start_time": "2024-05-16T13:02:30.192234",
     "status": "completed"
    },
    "tags": []
   },
   "outputs": [
    {
     "data": {
      "text/html": [
       "<style>#sk-container-id-1 {color: black;background-color: white;}#sk-container-id-1 pre{padding: 0;}#sk-container-id-1 div.sk-toggleable {background-color: white;}#sk-container-id-1 label.sk-toggleable__label {cursor: pointer;display: block;width: 100%;margin-bottom: 0;padding: 0.3em;box-sizing: border-box;text-align: center;}#sk-container-id-1 label.sk-toggleable__label-arrow:before {content: \"▸\";float: left;margin-right: 0.25em;color: #696969;}#sk-container-id-1 label.sk-toggleable__label-arrow:hover:before {color: black;}#sk-container-id-1 div.sk-estimator:hover label.sk-toggleable__label-arrow:before {color: black;}#sk-container-id-1 div.sk-toggleable__content {max-height: 0;max-width: 0;overflow: hidden;text-align: left;background-color: #f0f8ff;}#sk-container-id-1 div.sk-toggleable__content pre {margin: 0.2em;color: black;border-radius: 0.25em;background-color: #f0f8ff;}#sk-container-id-1 input.sk-toggleable__control:checked~div.sk-toggleable__content {max-height: 200px;max-width: 100%;overflow: auto;}#sk-container-id-1 input.sk-toggleable__control:checked~label.sk-toggleable__label-arrow:before {content: \"▾\";}#sk-container-id-1 div.sk-estimator input.sk-toggleable__control:checked~label.sk-toggleable__label {background-color: #d4ebff;}#sk-container-id-1 div.sk-label input.sk-toggleable__control:checked~label.sk-toggleable__label {background-color: #d4ebff;}#sk-container-id-1 input.sk-hidden--visually {border: 0;clip: rect(1px 1px 1px 1px);clip: rect(1px, 1px, 1px, 1px);height: 1px;margin: -1px;overflow: hidden;padding: 0;position: absolute;width: 1px;}#sk-container-id-1 div.sk-estimator {font-family: monospace;background-color: #f0f8ff;border: 1px dotted black;border-radius: 0.25em;box-sizing: border-box;margin-bottom: 0.5em;}#sk-container-id-1 div.sk-estimator:hover {background-color: #d4ebff;}#sk-container-id-1 div.sk-parallel-item::after {content: \"\";width: 100%;border-bottom: 1px solid gray;flex-grow: 1;}#sk-container-id-1 div.sk-label:hover label.sk-toggleable__label {background-color: #d4ebff;}#sk-container-id-1 div.sk-serial::before {content: \"\";position: absolute;border-left: 1px solid gray;box-sizing: border-box;top: 0;bottom: 0;left: 50%;z-index: 0;}#sk-container-id-1 div.sk-serial {display: flex;flex-direction: column;align-items: center;background-color: white;padding-right: 0.2em;padding-left: 0.2em;position: relative;}#sk-container-id-1 div.sk-item {position: relative;z-index: 1;}#sk-container-id-1 div.sk-parallel {display: flex;align-items: stretch;justify-content: center;background-color: white;position: relative;}#sk-container-id-1 div.sk-item::before, #sk-container-id-1 div.sk-parallel-item::before {content: \"\";position: absolute;border-left: 1px solid gray;box-sizing: border-box;top: 0;bottom: 0;left: 50%;z-index: -1;}#sk-container-id-1 div.sk-parallel-item {display: flex;flex-direction: column;z-index: 1;position: relative;background-color: white;}#sk-container-id-1 div.sk-parallel-item:first-child::after {align-self: flex-end;width: 50%;}#sk-container-id-1 div.sk-parallel-item:last-child::after {align-self: flex-start;width: 50%;}#sk-container-id-1 div.sk-parallel-item:only-child::after {width: 0;}#sk-container-id-1 div.sk-dashed-wrapped {border: 1px dashed gray;margin: 0 0.4em 0.5em 0.4em;box-sizing: border-box;padding-bottom: 0.4em;background-color: white;}#sk-container-id-1 div.sk-label label {font-family: monospace;font-weight: bold;display: inline-block;line-height: 1.2em;}#sk-container-id-1 div.sk-label-container {text-align: center;}#sk-container-id-1 div.sk-container {/* jupyter's `normalize.less` sets `[hidden] { display: none; }` but bootstrap.min.css set `[hidden] { display: none !important; }` so we also need the `!important` here to be able to override the default hidden behavior on the sphinx rendered scikit-learn.org. See: https://github.com/scikit-learn/scikit-learn/issues/21755 */display: inline-block !important;position: relative;}#sk-container-id-1 div.sk-text-repr-fallback {display: none;}</style><div id=\"sk-container-id-1\" class=\"sk-top-container\"><div class=\"sk-text-repr-fallback\"><pre>VotingClassifier(estimators=[(&#x27;svm&#x27;,\n",
       "                              SVC(gamma=1.0, kernel=&#x27;sigmoid&#x27;,\n",
       "                                  probability=True)),\n",
       "                             (&#x27;nb&#x27;, MultinomialNB()),\n",
       "                             (&#x27;et&#x27;,\n",
       "                              ExtraTreesClassifier(n_estimators=50,\n",
       "                                                   random_state=2))],\n",
       "                 voting=&#x27;soft&#x27;)</pre><b>In a Jupyter environment, please rerun this cell to show the HTML representation or trust the notebook. <br />On GitHub, the HTML representation is unable to render, please try loading this page with nbviewer.org.</b></div><div class=\"sk-container\" hidden><div class=\"sk-item sk-dashed-wrapped\"><div class=\"sk-label-container\"><div class=\"sk-label sk-toggleable\"><input class=\"sk-toggleable__control sk-hidden--visually\" id=\"sk-estimator-id-1\" type=\"checkbox\" ><label for=\"sk-estimator-id-1\" class=\"sk-toggleable__label sk-toggleable__label-arrow\">VotingClassifier</label><div class=\"sk-toggleable__content\"><pre>VotingClassifier(estimators=[(&#x27;svm&#x27;,\n",
       "                              SVC(gamma=1.0, kernel=&#x27;sigmoid&#x27;,\n",
       "                                  probability=True)),\n",
       "                             (&#x27;nb&#x27;, MultinomialNB()),\n",
       "                             (&#x27;et&#x27;,\n",
       "                              ExtraTreesClassifier(n_estimators=50,\n",
       "                                                   random_state=2))],\n",
       "                 voting=&#x27;soft&#x27;)</pre></div></div></div><div class=\"sk-parallel\"><div class=\"sk-parallel-item\"><div class=\"sk-item\"><div class=\"sk-label-container\"><div class=\"sk-label sk-toggleable\"><label>svm</label></div></div><div class=\"sk-serial\"><div class=\"sk-item\"><div class=\"sk-estimator sk-toggleable\"><input class=\"sk-toggleable__control sk-hidden--visually\" id=\"sk-estimator-id-2\" type=\"checkbox\" ><label for=\"sk-estimator-id-2\" class=\"sk-toggleable__label sk-toggleable__label-arrow\">SVC</label><div class=\"sk-toggleable__content\"><pre>SVC(gamma=1.0, kernel=&#x27;sigmoid&#x27;, probability=True)</pre></div></div></div></div></div></div><div class=\"sk-parallel-item\"><div class=\"sk-item\"><div class=\"sk-label-container\"><div class=\"sk-label sk-toggleable\"><label>nb</label></div></div><div class=\"sk-serial\"><div class=\"sk-item\"><div class=\"sk-estimator sk-toggleable\"><input class=\"sk-toggleable__control sk-hidden--visually\" id=\"sk-estimator-id-3\" type=\"checkbox\" ><label for=\"sk-estimator-id-3\" class=\"sk-toggleable__label sk-toggleable__label-arrow\">MultinomialNB</label><div class=\"sk-toggleable__content\"><pre>MultinomialNB()</pre></div></div></div></div></div></div><div class=\"sk-parallel-item\"><div class=\"sk-item\"><div class=\"sk-label-container\"><div class=\"sk-label sk-toggleable\"><label>et</label></div></div><div class=\"sk-serial\"><div class=\"sk-item\"><div class=\"sk-estimator sk-toggleable\"><input class=\"sk-toggleable__control sk-hidden--visually\" id=\"sk-estimator-id-4\" type=\"checkbox\" ><label for=\"sk-estimator-id-4\" class=\"sk-toggleable__label sk-toggleable__label-arrow\">ExtraTreesClassifier</label><div class=\"sk-toggleable__content\"><pre>ExtraTreesClassifier(n_estimators=50, random_state=2)</pre></div></div></div></div></div></div></div></div></div></div>"
      ],
      "text/plain": [
       "VotingClassifier(estimators=[('svm',\n",
       "                              SVC(gamma=1.0, kernel='sigmoid',\n",
       "                                  probability=True)),\n",
       "                             ('nb', MultinomialNB()),\n",
       "                             ('et',\n",
       "                              ExtraTreesClassifier(n_estimators=50,\n",
       "                                                   random_state=2))],\n",
       "                 voting='soft')"
      ]
     },
     "execution_count": 100,
     "metadata": {},
     "output_type": "execute_result"
    }
   ],
   "source": [
    "voting.fit(X_train,y_train)"
   ]
  },
  {
   "cell_type": "code",
   "execution_count": 101,
   "id": "6ad633fd",
   "metadata": {
    "execution": {
     "iopub.execute_input": "2024-05-16T13:03:25.949402Z",
     "iopub.status.busy": "2024-05-16T13:03:25.948761Z",
     "iopub.status.idle": "2024-05-16T13:03:28.635065Z",
     "shell.execute_reply": "2024-05-16T13:03:28.633683Z"
    },
    "papermill": {
     "duration": 2.737408,
     "end_time": "2024-05-16T13:03:28.637295",
     "exception": false,
     "start_time": "2024-05-16T13:03:25.899887",
     "status": "completed"
    },
    "tags": []
   },
   "outputs": [
    {
     "name": "stdout",
     "output_type": "stream",
     "text": [
      "Accuracy 0.9830011723329426\n",
      "Precision 0.9767441860465116\n"
     ]
    }
   ],
   "source": [
    "y_pred = voting.predict(X_test)\n",
    "print(\"Accuracy\",accuracy_score(y_test,y_pred))\n",
    "print(\"Precision\",precision_score(y_test,y_pred))"
   ]
  },
  {
   "cell_type": "code",
   "execution_count": 102,
   "id": "64a9a22f",
   "metadata": {
    "execution": {
     "iopub.execute_input": "2024-05-16T13:03:28.735433Z",
     "iopub.status.busy": "2024-05-16T13:03:28.735059Z",
     "iopub.status.idle": "2024-05-16T13:03:28.740569Z",
     "shell.execute_reply": "2024-05-16T13:03:28.739146Z"
    },
    "papermill": {
     "duration": 0.056871,
     "end_time": "2024-05-16T13:03:28.742816",
     "exception": false,
     "start_time": "2024-05-16T13:03:28.685945",
     "status": "completed"
    },
    "tags": []
   },
   "outputs": [],
   "source": [
    "# Applying stacking\n",
    "estimators=[('svm', svc), ('nb', mnb), ('et', etc)]\n",
    "final_estimator=RandomForestClassifier()"
   ]
  },
  {
   "cell_type": "code",
   "execution_count": 103,
   "id": "a983d6f4",
   "metadata": {
    "execution": {
     "iopub.execute_input": "2024-05-16T13:03:28.838848Z",
     "iopub.status.busy": "2024-05-16T13:03:28.838105Z",
     "iopub.status.idle": "2024-05-16T13:03:28.843046Z",
     "shell.execute_reply": "2024-05-16T13:03:28.842070Z"
    },
    "papermill": {
     "duration": 0.055123,
     "end_time": "2024-05-16T13:03:28.845535",
     "exception": false,
     "start_time": "2024-05-16T13:03:28.790412",
     "status": "completed"
    },
    "tags": []
   },
   "outputs": [],
   "source": [
    "from sklearn.ensemble import StackingClassifier"
   ]
  },
  {
   "cell_type": "code",
   "execution_count": 104,
   "id": "c8322394",
   "metadata": {
    "execution": {
     "iopub.execute_input": "2024-05-16T13:03:28.946304Z",
     "iopub.status.busy": "2024-05-16T13:03:28.945644Z",
     "iopub.status.idle": "2024-05-16T13:03:28.950327Z",
     "shell.execute_reply": "2024-05-16T13:03:28.949265Z"
    },
    "papermill": {
     "duration": 0.058506,
     "end_time": "2024-05-16T13:03:28.953319",
     "exception": false,
     "start_time": "2024-05-16T13:03:28.894813",
     "status": "completed"
    },
    "tags": []
   },
   "outputs": [],
   "source": [
    "clf = StackingClassifier(estimators=estimators, final_estimator=final_estimator)"
   ]
  },
  {
   "cell_type": "code",
   "execution_count": 105,
   "id": "88799325",
   "metadata": {
    "execution": {
     "iopub.execute_input": "2024-05-16T13:03:29.050816Z",
     "iopub.status.busy": "2024-05-16T13:03:29.050383Z",
     "iopub.status.idle": "2024-05-16T13:07:40.827495Z",
     "shell.execute_reply": "2024-05-16T13:07:40.826315Z"
    },
    "papermill": {
     "duration": 251.873672,
     "end_time": "2024-05-16T13:07:40.875712",
     "exception": false,
     "start_time": "2024-05-16T13:03:29.002040",
     "status": "completed"
    },
    "tags": []
   },
   "outputs": [
    {
     "name": "stdout",
     "output_type": "stream",
     "text": [
      "Accuracy 0.9824150058616647\n",
      "Precision 0.9636363636363636\n"
     ]
    }
   ],
   "source": [
    "clf.fit(X_train,y_train)\n",
    "y_pred = clf.predict(X_test)\n",
    "print(\"Accuracy\",accuracy_score(y_test,y_pred))\n",
    "print(\"Precision\",precision_score(y_test,y_pred))"
   ]
  },
  {
   "cell_type": "markdown",
   "id": "a9369ef8",
   "metadata": {
    "papermill": {
     "duration": 0.045751,
     "end_time": "2024-05-16T13:07:40.967721",
     "exception": false,
     "start_time": "2024-05-16T13:07:40.921970",
     "status": "completed"
    },
    "tags": []
   },
   "source": [
    "# Voting Classifier (TFIDF) -- X_train1, y_train1"
   ]
  },
  {
   "cell_type": "code",
   "execution_count": 106,
   "id": "28a69141",
   "metadata": {
    "execution": {
     "iopub.execute_input": "2024-05-16T13:07:41.062502Z",
     "iopub.status.busy": "2024-05-16T13:07:41.061761Z",
     "iopub.status.idle": "2024-05-16T13:07:41.066480Z",
     "shell.execute_reply": "2024-05-16T13:07:41.065674Z"
    },
    "papermill": {
     "duration": 0.054301,
     "end_time": "2024-05-16T13:07:41.068501",
     "exception": false,
     "start_time": "2024-05-16T13:07:41.014200",
     "status": "completed"
    },
    "tags": []
   },
   "outputs": [],
   "source": [
    "voting1 = VotingClassifier(estimators=[('svm', svc), ('nb', mnb), ('et', etc)],voting='soft')"
   ]
  },
  {
   "cell_type": "code",
   "execution_count": 107,
   "id": "4be0054b",
   "metadata": {
    "execution": {
     "iopub.execute_input": "2024-05-16T13:07:41.164348Z",
     "iopub.status.busy": "2024-05-16T13:07:41.164006Z",
     "iopub.status.idle": "2024-05-16T13:09:13.810411Z",
     "shell.execute_reply": "2024-05-16T13:09:13.809316Z"
    },
    "papermill": {
     "duration": 92.744713,
     "end_time": "2024-05-16T13:09:13.860495",
     "exception": false,
     "start_time": "2024-05-16T13:07:41.115782",
     "status": "completed"
    },
    "tags": []
   },
   "outputs": [
    {
     "data": {
      "text/html": [
       "<style>#sk-container-id-2 {color: black;background-color: white;}#sk-container-id-2 pre{padding: 0;}#sk-container-id-2 div.sk-toggleable {background-color: white;}#sk-container-id-2 label.sk-toggleable__label {cursor: pointer;display: block;width: 100%;margin-bottom: 0;padding: 0.3em;box-sizing: border-box;text-align: center;}#sk-container-id-2 label.sk-toggleable__label-arrow:before {content: \"▸\";float: left;margin-right: 0.25em;color: #696969;}#sk-container-id-2 label.sk-toggleable__label-arrow:hover:before {color: black;}#sk-container-id-2 div.sk-estimator:hover label.sk-toggleable__label-arrow:before {color: black;}#sk-container-id-2 div.sk-toggleable__content {max-height: 0;max-width: 0;overflow: hidden;text-align: left;background-color: #f0f8ff;}#sk-container-id-2 div.sk-toggleable__content pre {margin: 0.2em;color: black;border-radius: 0.25em;background-color: #f0f8ff;}#sk-container-id-2 input.sk-toggleable__control:checked~div.sk-toggleable__content {max-height: 200px;max-width: 100%;overflow: auto;}#sk-container-id-2 input.sk-toggleable__control:checked~label.sk-toggleable__label-arrow:before {content: \"▾\";}#sk-container-id-2 div.sk-estimator input.sk-toggleable__control:checked~label.sk-toggleable__label {background-color: #d4ebff;}#sk-container-id-2 div.sk-label input.sk-toggleable__control:checked~label.sk-toggleable__label {background-color: #d4ebff;}#sk-container-id-2 input.sk-hidden--visually {border: 0;clip: rect(1px 1px 1px 1px);clip: rect(1px, 1px, 1px, 1px);height: 1px;margin: -1px;overflow: hidden;padding: 0;position: absolute;width: 1px;}#sk-container-id-2 div.sk-estimator {font-family: monospace;background-color: #f0f8ff;border: 1px dotted black;border-radius: 0.25em;box-sizing: border-box;margin-bottom: 0.5em;}#sk-container-id-2 div.sk-estimator:hover {background-color: #d4ebff;}#sk-container-id-2 div.sk-parallel-item::after {content: \"\";width: 100%;border-bottom: 1px solid gray;flex-grow: 1;}#sk-container-id-2 div.sk-label:hover label.sk-toggleable__label {background-color: #d4ebff;}#sk-container-id-2 div.sk-serial::before {content: \"\";position: absolute;border-left: 1px solid gray;box-sizing: border-box;top: 0;bottom: 0;left: 50%;z-index: 0;}#sk-container-id-2 div.sk-serial {display: flex;flex-direction: column;align-items: center;background-color: white;padding-right: 0.2em;padding-left: 0.2em;position: relative;}#sk-container-id-2 div.sk-item {position: relative;z-index: 1;}#sk-container-id-2 div.sk-parallel {display: flex;align-items: stretch;justify-content: center;background-color: white;position: relative;}#sk-container-id-2 div.sk-item::before, #sk-container-id-2 div.sk-parallel-item::before {content: \"\";position: absolute;border-left: 1px solid gray;box-sizing: border-box;top: 0;bottom: 0;left: 50%;z-index: -1;}#sk-container-id-2 div.sk-parallel-item {display: flex;flex-direction: column;z-index: 1;position: relative;background-color: white;}#sk-container-id-2 div.sk-parallel-item:first-child::after {align-self: flex-end;width: 50%;}#sk-container-id-2 div.sk-parallel-item:last-child::after {align-self: flex-start;width: 50%;}#sk-container-id-2 div.sk-parallel-item:only-child::after {width: 0;}#sk-container-id-2 div.sk-dashed-wrapped {border: 1px dashed gray;margin: 0 0.4em 0.5em 0.4em;box-sizing: border-box;padding-bottom: 0.4em;background-color: white;}#sk-container-id-2 div.sk-label label {font-family: monospace;font-weight: bold;display: inline-block;line-height: 1.2em;}#sk-container-id-2 div.sk-label-container {text-align: center;}#sk-container-id-2 div.sk-container {/* jupyter's `normalize.less` sets `[hidden] { display: none; }` but bootstrap.min.css set `[hidden] { display: none !important; }` so we also need the `!important` here to be able to override the default hidden behavior on the sphinx rendered scikit-learn.org. See: https://github.com/scikit-learn/scikit-learn/issues/21755 */display: inline-block !important;position: relative;}#sk-container-id-2 div.sk-text-repr-fallback {display: none;}</style><div id=\"sk-container-id-2\" class=\"sk-top-container\"><div class=\"sk-text-repr-fallback\"><pre>VotingClassifier(estimators=[(&#x27;svm&#x27;,\n",
       "                              SVC(gamma=1.0, kernel=&#x27;sigmoid&#x27;,\n",
       "                                  probability=True)),\n",
       "                             (&#x27;nb&#x27;, MultinomialNB()),\n",
       "                             (&#x27;et&#x27;,\n",
       "                              ExtraTreesClassifier(n_estimators=50,\n",
       "                                                   random_state=2))],\n",
       "                 voting=&#x27;soft&#x27;)</pre><b>In a Jupyter environment, please rerun this cell to show the HTML representation or trust the notebook. <br />On GitHub, the HTML representation is unable to render, please try loading this page with nbviewer.org.</b></div><div class=\"sk-container\" hidden><div class=\"sk-item sk-dashed-wrapped\"><div class=\"sk-label-container\"><div class=\"sk-label sk-toggleable\"><input class=\"sk-toggleable__control sk-hidden--visually\" id=\"sk-estimator-id-5\" type=\"checkbox\" ><label for=\"sk-estimator-id-5\" class=\"sk-toggleable__label sk-toggleable__label-arrow\">VotingClassifier</label><div class=\"sk-toggleable__content\"><pre>VotingClassifier(estimators=[(&#x27;svm&#x27;,\n",
       "                              SVC(gamma=1.0, kernel=&#x27;sigmoid&#x27;,\n",
       "                                  probability=True)),\n",
       "                             (&#x27;nb&#x27;, MultinomialNB()),\n",
       "                             (&#x27;et&#x27;,\n",
       "                              ExtraTreesClassifier(n_estimators=50,\n",
       "                                                   random_state=2))],\n",
       "                 voting=&#x27;soft&#x27;)</pre></div></div></div><div class=\"sk-parallel\"><div class=\"sk-parallel-item\"><div class=\"sk-item\"><div class=\"sk-label-container\"><div class=\"sk-label sk-toggleable\"><label>svm</label></div></div><div class=\"sk-serial\"><div class=\"sk-item\"><div class=\"sk-estimator sk-toggleable\"><input class=\"sk-toggleable__control sk-hidden--visually\" id=\"sk-estimator-id-6\" type=\"checkbox\" ><label for=\"sk-estimator-id-6\" class=\"sk-toggleable__label sk-toggleable__label-arrow\">SVC</label><div class=\"sk-toggleable__content\"><pre>SVC(gamma=1.0, kernel=&#x27;sigmoid&#x27;, probability=True)</pre></div></div></div></div></div></div><div class=\"sk-parallel-item\"><div class=\"sk-item\"><div class=\"sk-label-container\"><div class=\"sk-label sk-toggleable\"><label>nb</label></div></div><div class=\"sk-serial\"><div class=\"sk-item\"><div class=\"sk-estimator sk-toggleable\"><input class=\"sk-toggleable__control sk-hidden--visually\" id=\"sk-estimator-id-7\" type=\"checkbox\" ><label for=\"sk-estimator-id-7\" class=\"sk-toggleable__label sk-toggleable__label-arrow\">MultinomialNB</label><div class=\"sk-toggleable__content\"><pre>MultinomialNB()</pre></div></div></div></div></div></div><div class=\"sk-parallel-item\"><div class=\"sk-item\"><div class=\"sk-label-container\"><div class=\"sk-label sk-toggleable\"><label>et</label></div></div><div class=\"sk-serial\"><div class=\"sk-item\"><div class=\"sk-estimator sk-toggleable\"><input class=\"sk-toggleable__control sk-hidden--visually\" id=\"sk-estimator-id-8\" type=\"checkbox\" ><label for=\"sk-estimator-id-8\" class=\"sk-toggleable__label sk-toggleable__label-arrow\">ExtraTreesClassifier</label><div class=\"sk-toggleable__content\"><pre>ExtraTreesClassifier(n_estimators=50, random_state=2)</pre></div></div></div></div></div></div></div></div></div></div>"
      ],
      "text/plain": [
       "VotingClassifier(estimators=[('svm',\n",
       "                              SVC(gamma=1.0, kernel='sigmoid',\n",
       "                                  probability=True)),\n",
       "                             ('nb', MultinomialNB()),\n",
       "                             ('et',\n",
       "                              ExtraTreesClassifier(n_estimators=50,\n",
       "                                                   random_state=2))],\n",
       "                 voting='soft')"
      ]
     },
     "execution_count": 107,
     "metadata": {},
     "output_type": "execute_result"
    }
   ],
   "source": [
    "voting1.fit(X_train1,y_train1)"
   ]
  },
  {
   "cell_type": "code",
   "execution_count": 108,
   "id": "1c6a091d",
   "metadata": {
    "execution": {
     "iopub.execute_input": "2024-05-16T13:09:13.955820Z",
     "iopub.status.busy": "2024-05-16T13:09:13.955428Z",
     "iopub.status.idle": "2024-05-16T13:09:20.312566Z",
     "shell.execute_reply": "2024-05-16T13:09:20.311071Z"
    },
    "papermill": {
     "duration": 6.408031,
     "end_time": "2024-05-16T13:09:20.315066",
     "exception": false,
     "start_time": "2024-05-16T13:09:13.907035",
     "status": "completed"
    },
    "tags": []
   },
   "outputs": [
    {
     "name": "stdout",
     "output_type": "stream",
     "text": [
      "Accuracy 0.9788980070339977\n",
      "Precision 0.9900990099009901\n"
     ]
    }
   ],
   "source": [
    "y_pred1 = voting1.predict(X_test1)\n",
    "print(\"Accuracy\",accuracy_score(y_test1,y_pred1))\n",
    "print(\"Precision\",precision_score(y_test1,y_pred1))"
   ]
  },
  {
   "cell_type": "markdown",
   "id": "1dad5d2f",
   "metadata": {
    "papermill": {
     "duration": 0.047088,
     "end_time": "2024-05-16T13:09:20.410387",
     "exception": false,
     "start_time": "2024-05-16T13:09:20.363299",
     "status": "completed"
    },
    "tags": []
   },
   "source": [
    "# I am choosing Voting Classifier (TFIDF) model, can use any of the above"
   ]
  },
  {
   "cell_type": "code",
   "execution_count": 109,
   "id": "21f6befd",
   "metadata": {
    "execution": {
     "iopub.execute_input": "2024-05-16T13:09:20.566673Z",
     "iopub.status.busy": "2024-05-16T13:09:20.565922Z",
     "iopub.status.idle": "2024-05-16T13:09:20.645364Z",
     "shell.execute_reply": "2024-05-16T13:09:20.644138Z"
    },
    "papermill": {
     "duration": 0.191671,
     "end_time": "2024-05-16T13:09:20.647982",
     "exception": false,
     "start_time": "2024-05-16T13:09:20.456311",
     "status": "completed"
    },
    "tags": []
   },
   "outputs": [],
   "source": [
    "import pickle\n",
    "pickle.dump(vc,open('vectorizer.pkl','wb'))\n",
    "pickle.dump(voting1,open('model.pkl','wb'))"
   ]
  },
  {
   "cell_type": "code",
   "execution_count": null,
   "id": "cab50666",
   "metadata": {
    "papermill": {
     "duration": 0.047623,
     "end_time": "2024-05-16T13:09:20.742450",
     "exception": false,
     "start_time": "2024-05-16T13:09:20.694827",
     "status": "completed"
    },
    "tags": []
   },
   "outputs": [],
   "source": []
  }
 ],
 "metadata": {
  "kaggle": {
   "accelerator": "none",
   "dataSources": [
    {
     "datasetId": 483,
     "sourceId": 982,
     "sourceType": "datasetVersion"
    }
   ],
   "dockerImageVersionId": 30698,
   "isGpuEnabled": false,
   "isInternetEnabled": true,
   "language": "python",
   "sourceType": "notebook"
  },
  "kernelspec": {
   "display_name": "Python 3",
   "language": "python",
   "name": "python3"
  },
  "language_info": {
   "codemirror_mode": {
    "name": "ipython",
    "version": 3
   },
   "file_extension": ".py",
   "mimetype": "text/x-python",
   "name": "python",
   "nbconvert_exporter": "python",
   "pygments_lexer": "ipython3",
   "version": "3.10.13"
  },
  "papermill": {
   "default_parameters": {},
   "duration": 1405.151371,
   "end_time": "2024-05-16T13:09:21.713810",
   "environment_variables": {},
   "exception": null,
   "input_path": "__notebook__.ipynb",
   "output_path": "__notebook__.ipynb",
   "parameters": {},
   "start_time": "2024-05-16T12:45:56.562439",
   "version": "2.5.0"
  }
 },
 "nbformat": 4,
 "nbformat_minor": 5
}
